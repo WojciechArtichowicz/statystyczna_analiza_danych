{
 "cells": [
  {
   "attachments": {
    "table_pca-2.png": {
     "image/png": "[encoded data removed]"
    }
   },
   "cell_type": "markdown",
   "id": "7e39b00a",
   "metadata": {},
   "source": [
    "# Analiza głównych składowych (PCA)\n",
    "\n",
    "### Statystyczna analiza danych\n",
    "**dr inż. Wojciech Artichowicz**\n",
    "\n",
    "**Katedra Geotechniki i Inżynierii Wodnej PG**\n",
    "\n",
    "### Analiza głównych składowych\n",
    "\n",
    "Analiza głównych składowych (*ang.* Principal Component Analysis) ma na celu taką transformację zbioru danych, która spowoduje, że cechy (zmienne, kolumny tabeli) w przekształconych danych będą nieskorelowane oraz uporządkowane względem malejącej wariancji. Oznacza to utworzenie nowego zbioru danych o takiej samej ilości zmiennych (kolumn) oraz punktów (wierszy) jak zbiór wyjściowy, jednak w zbiorze wynikowym żadne dwie zmienne nie są ze sobą (liniowo) skorelowane, czyli nie występuje między nimi zależność. Ponadto zmienne (tj. kolumny) są uporządkowane w kolejności malejącej ilości informacji (tzn. wielkości wariancji) wprowadzanej do zbioru danych.  Mówiąc potocznie oznacza to, że dane w pierwszej kolumnie ($PC_1$) są najbardziej istotne, bo dostarczają największą ilość informacji z całego zbioru. Dane w drugiej kolumnie ($PC_2$) są mniej ważne bo wprowadzają mniej informacji niż dane z pierwszej kolumny, itd. Zmienne w przekształconym zbiorze nazywają się składowymi głównymi (*ang.* principal components) i oznacza się jako $PC$. Poniżej zaprezentowane tabele zawierają $n$ zmiennych oraz $p$ obserwacji (punktów danych).\n",
    "\n",
    "![table_pca-2.png](attachment:table_pca-2.png)\n",
    "\n",
    "#### Oznaczenia\n",
    "Pomimo tego, że dane zwykle są przechowywane w formacie tabelarycznym w literaturze przedmiotu jako macierzy danych używa sie macierzy, która jest transpozycją tabeli danych. Oznacza to, że kolumny tabeli są przedstawione jako wiersze macierzy, natomiast rozważane obserwacje (rekordy/wiersze tabeli) są przechowywane w kolumnach macierzy. Zatem macierz $x$ zawierająca dane będzie następująca:\n",
    "\n",
    "$$\\boldsymbol{x}=\\left (\n",
    "\\begin{matrix}\n",
    "x_{1,1} & x_{1,2} & \\ldots &x_{1,p}\\\\\n",
    "x_{2,1} & x_{2,2} & \\ldots & x_{2,p}\\\\\n",
    "\\vdots  & \\vdots & \\ddots & \\vdots \\\\\n",
    "x_{n,1} & x_{n,2} & \\ldots & x_{n,p}\n",
    "\\end{matrix}\\right)$$\n",
    "\n",
    "W poniższym przedstawieniu problemu użyte zostaną następujące oznaczenia:\n",
    " - $\\boldsymbol{x}$ (pogrubiony symbol $\\boldsymbol{x}$ bez indeksu dolnego) oznacza macierz danych (transponowaną tabelę danych);\n",
    " - $\\boldsymbol{x}_i$ (pogrubiony symbol $\\boldsymbol{x}$ z indeksem dolnym) oznacza zmienną czyli wiersz macierzy (jedną kolumnę danych z tabeli);\n",
    " - $x_{i,j}$ (niepogrubiony symbol $x$ z dwoma indeksami dolnymi) oznacza $j$-tą obserwację zmiennej o indeksie $i$, czyli $j$-ty wiersz w $i$-tej kolumnie tabeli."
   ]
  },
  {
   "cell_type": "markdown",
   "id": "f6b95c37",
   "metadata": {},
   "source": [
    "\n",
    "Wektor średnich dla zmiennych (wierszy macierzy/kolumn tabeli) będzie miał następującą postać:\n",
    "\n",
    "$$\\boldsymbol{m}=\\left\\{ \\begin{matrix}\n",
    "\\bar{x}_1 \\\\\n",
    "\\bar{x}_2 \\\\\n",
    "\\vdots  \\\\\n",
    "\\bar{x}_n\n",
    "\\end{matrix}\\right\\}$$\n",
    "gdzie:  $\\bar{x}_i=\\frac{1}{p}\\sum_{j=1}^p x_{i,j}$ jest średnią arytmetyczną.\n",
    "\n",
    "Macierzą kowariancji będzie następująca macierz o wymiarze $n\\times n$:\n",
    "\n",
    "$$\\boldsymbol{C}=\n",
    "\\left(\\begin{matrix}\n",
    "var(\\boldsymbol{x}_1) & cov(\\boldsymbol{x}_1,\\boldsymbol{x}_2) & \\ldots &  cov(\\boldsymbol{x}_1,\\boldsymbol{x}_n)\\\\\n",
    "cov(\\boldsymbol{x}_2,\\boldsymbol{x}_1) & var(\\boldsymbol{x}_2)  & \\ldots &  cov(\\boldsymbol{x}_2,\\boldsymbol{x}_n)\\\\\n",
    "\\vdots & \\vdots & \\ddots & \\vdots \\\\\n",
    "cov(\\boldsymbol{x}_n,\\boldsymbol{x}_1) &  cov(\\boldsymbol{x}_n,\\boldsymbol{x}_2) & \\ldots & var(\\boldsymbol{x_n}) \n",
    "\\end{matrix} \\right)\n",
    "$$\n",
    "gdzie:\n",
    "$$var(\\boldsymbol{x_i})=\\frac{1}{p}\\sum_{j=1}^{p}(x_{ij}-\\bar{\\boldsymbol{x}}_i)^2$$\n",
    "$$cov(\\boldsymbol{x}_i,\\boldsymbol{x}_k)=\\frac{1}{p}\\sum_{j=1}^{p}(x_{ij}-\\bar{\\boldsymbol{x}}_i)(x_{kj}-\\bar{\\boldsymbol{x}}_k)$$"
   ]
  },
  {
   "cell_type": "markdown",
   "id": "727aa081",
   "metadata": {},
   "source": [
    "#### Podstawy teoretyczne PCA*\n",
    "Z teoretycznego punktu widzenia określenie głównych składowych polega na znalezienu takich kierunków (wektorów $\\boldsymbol{\\gamma}_i$ dla $i=1,2,\\ldots,n$) ortogonalnego rzutowania danych, które zapewnią maksymalizację wariancji w kierunkach wyznaczanych przez te wektory. Formalnie warunek wyznaczenia pierwszej głównej składowej zapisuje się następująco:\n",
    "\n",
    "$$var\\left( \\left( \\boldsymbol{\\gamma}_1 \\right)^T \\cdot \\boldsymbol{x}\\right) = \\max_{\\boldsymbol{a} \\in R^n \\land \\lVert \\boldsymbol{a} \\rVert=\\boldsymbol{1}} var\\left( \\boldsymbol{a}^T \\cdot \\boldsymbol{x}\\right)$$\n",
    "\n",
    "gdzie:\n",
    " - $\\boldsymbol{\\gamma}_1=[\\gamma_{1,1},\\gamma_{1,2},\\ldots,\\gamma_{1,n}]^T$ - jednostkowy wektor zapewniający maksymalizację wariancji w procesie rzutowania danych\n",
    " - $\\boldsymbol{a}=[a_1,a_2,\\ldots,a_n]^T$ - dowolny niezależny od $x$ wektor\n",
    " - $T$ - symbol transpozycji\n",
    " - $\\boldsymbol{u}\\cdot \\boldsymbol{v}$ - iloczyn skalarny dwóch wektorów $\\boldsymbol{u}$ i $\\boldsymbol{v}$\n",
    " - $\\lVert \\boldsymbol{a} \\rVert=\\sqrt{a_1^2+a_2^2+\\ldots+a_n^2}$ - norma wektora\n",
    " \n",
    "Dla drugiej głównej składowej warunek ten zapisuje się jako:\n",
    "$$var\\left( \\left( \\boldsymbol{\\gamma}_2 \\right)^T \\cdot \\boldsymbol{x}\\right) = \\max_{\\boldsymbol{a} \\in R^n \\land \\lVert \\boldsymbol{a} \\rVert=\\boldsymbol{1}} var\\left( \\boldsymbol{a}^T \\cdot \\boldsymbol{x}\\right)$$\n",
    "z dodatkowym warunkiem mówiącym o tym, że wartość oczekiwana z iloczynu skalarnego dwóch pierwszych składowych musi wynieść zero, czyli składowe te nie mogą być skorelowane:\n",
    "$$E[\\boldsymbol{\\gamma}_1(\\boldsymbol{x}-\\boldsymbol{m}) \\cdot \\boldsymbol{\\gamma}_2(\\boldsymbol{x}-\\boldsymbol{m})]=0$$\n",
    "przy czym $\\boldsymbol{PC}_i=\\boldsymbol{\\gamma}_i(\\boldsymbol{x}-\\boldsymbol{m})$."
   ]
  },
  {
   "cell_type": "markdown",
   "id": "6854e68f",
   "metadata": {},
   "source": [
    "#### Praktyczne wyznaczenie głównych składowych\n",
    "W praktyce główne składowe zbioru danych wyznacza się znajdując wartości własne $\\lambda_i$ oraz wektory własne $\\boldsymbol{e}_i$ (dla $i=1,2,\\ldots,n$) macierzy kowariancji rozważanego zbioru danych. Wartości własne wyznacza się rozwiazując następujące równanie\n",
    "\n",
    "$$det(\\boldsymbol{C}-\\lambda \\boldsymbol{I})=0$$\n",
    "\n",
    "gdzie $\\boldsymbol{I}$ jest macierzą jednostkową o wymiarach $n \\times n$. W wyniku rozwiązania powyższego równania otrzymuje się $n$ wartości własnych, które na potrzeby dalszej analizy porządkuje się od wartości największej do najmniejszej:\n",
    "$$\\lambda_1 > \\lambda_2 > \\ldots >\\lambda_n$$\n",
    "\n",
    "Natomiast wektory własne skojarzone z wartościami własnymi oblicza się na podstawie następującej zależności:\n",
    "\n",
    "$$(\\boldsymbol{C}-\\lambda \\boldsymbol{I})\\cdot\\boldsymbol{e}_i=\\boldsymbol{0}$$\n",
    "\n",
    "Podstawiajac do powyższego równania $i$-tą wartość własną i rozwiązując je względem $\\boldsymbol{e}_i$ otrzymuje się $i$-ty wektor własny.\n",
    "\n",
    "### Import bibliotek języka Python"
   ]
  },
  {
   "cell_type": "code",
   "execution_count": 1,
   "id": "67ece43e",
   "metadata": {},
   "outputs": [],
   "source": [
    "import numpy as np\n",
    "import scipy.stats as st\n",
    "import matplotlib.pyplot as plt\n",
    "import sklearn.decomposition as skd # PCA\n",
    "import pandas as pd"
   ]
  },
  {
   "cell_type": "markdown",
   "id": "dd50007d",
   "metadata": {},
   "source": [
    "W paktyce wartości własne oblicza się przy wykorzystaniu specjalistycznych bibliotek statystycznych (np. [scikit-learn](https://scikit-learn.org/stable/)). Jednak w celach edukacyjnych poniżej przedstawiono sposób obliczenia wartości własnych  dla przykładowej (wygenerowanej) tabeli danych."
   ]
  },
  {
   "cell_type": "markdown",
   "id": "3b1147e6",
   "metadata": {},
   "source": [
    "#### Utworzenie tabeli danych"
   ]
  },
  {
   "cell_type": "code",
   "execution_count": 2,
   "id": "caaeda19",
   "metadata": {},
   "outputs": [
    {
     "data": {
      "text/html": [
       "<div>\n",
       "<style scoped>\n",
       "    .dataframe tbody tr th:only-of-type {\n",
       "        vertical-align: middle;\n",
       "    }\n",
       "\n",
       "    .dataframe tbody tr th {\n",
       "        vertical-align: top;\n",
       "    }\n",
       "\n",
       "    .dataframe thead th {\n",
       "        text-align: right;\n",
       "    }\n",
       "</style>\n",
       "<table border=\"1\" class=\"dataframe\">\n",
       "  <thead>\n",
       "    <tr style=\"text-align: right;\">\n",
       "      <th></th>\n",
       "      <th>0</th>\n",
       "      <th>1</th>\n",
       "      <th>2</th>\n",
       "      <th>3</th>\n",
       "    </tr>\n",
       "  </thead>\n",
       "  <tbody>\n",
       "    <tr>\n",
       "      <th>0</th>\n",
       "      <td>3.609502</td>\n",
       "      <td>3.816136</td>\n",
       "      <td>2.294421</td>\n",
       "      <td>2.933003</td>\n",
       "    </tr>\n",
       "    <tr>\n",
       "      <th>1</th>\n",
       "      <td>2.952872</td>\n",
       "      <td>3.513451</td>\n",
       "      <td>3.398453</td>\n",
       "      <td>2.973682</td>\n",
       "    </tr>\n",
       "    <tr>\n",
       "      <th>2</th>\n",
       "      <td>2.467525</td>\n",
       "      <td>3.416982</td>\n",
       "      <td>3.830906</td>\n",
       "      <td>3.137257</td>\n",
       "    </tr>\n",
       "    <tr>\n",
       "      <th>3</th>\n",
       "      <td>2.335243</td>\n",
       "      <td>2.871551</td>\n",
       "      <td>2.304427</td>\n",
       "      <td>2.939492</td>\n",
       "    </tr>\n",
       "    <tr>\n",
       "      <th>4</th>\n",
       "      <td>2.771357</td>\n",
       "      <td>2.577405</td>\n",
       "      <td>2.697711</td>\n",
       "      <td>2.737057</td>\n",
       "    </tr>\n",
       "    <tr>\n",
       "      <th>5</th>\n",
       "      <td>2.643780</td>\n",
       "      <td>2.876874</td>\n",
       "      <td>4.117794</td>\n",
       "      <td>2.642057</td>\n",
       "    </tr>\n",
       "    <tr>\n",
       "      <th>6</th>\n",
       "      <td>2.950852</td>\n",
       "      <td>1.965161</td>\n",
       "      <td>3.223827</td>\n",
       "      <td>3.484853</td>\n",
       "    </tr>\n",
       "    <tr>\n",
       "      <th>7</th>\n",
       "      <td>2.819224</td>\n",
       "      <td>2.793630</td>\n",
       "      <td>3.175538</td>\n",
       "      <td>2.923930</td>\n",
       "    </tr>\n",
       "    <tr>\n",
       "      <th>8</th>\n",
       "      <td>2.947172</td>\n",
       "      <td>2.781586</td>\n",
       "      <td>2.498696</td>\n",
       "      <td>2.549466</td>\n",
       "    </tr>\n",
       "    <tr>\n",
       "      <th>9</th>\n",
       "      <td>3.134541</td>\n",
       "      <td>3.482452</td>\n",
       "      <td>2.825565</td>\n",
       "      <td>2.632933</td>\n",
       "    </tr>\n",
       "    <tr>\n",
       "      <th>10</th>\n",
       "      <td>3.361537</td>\n",
       "      <td>2.799666</td>\n",
       "      <td>2.566092</td>\n",
       "      <td>2.905429</td>\n",
       "    </tr>\n",
       "    <tr>\n",
       "      <th>11</th>\n",
       "      <td>3.180742</td>\n",
       "      <td>3.198576</td>\n",
       "      <td>3.051229</td>\n",
       "      <td>2.843920</td>\n",
       "    </tr>\n",
       "    <tr>\n",
       "      <th>12</th>\n",
       "      <td>2.915628</td>\n",
       "      <td>3.587641</td>\n",
       "      <td>3.783306</td>\n",
       "      <td>2.910233</td>\n",
       "    </tr>\n",
       "    <tr>\n",
       "      <th>13</th>\n",
       "      <td>2.802773</td>\n",
       "      <td>2.374235</td>\n",
       "      <td>3.504044</td>\n",
       "      <td>3.189286</td>\n",
       "    </tr>\n",
       "    <tr>\n",
       "      <th>14</th>\n",
       "      <td>3.272555</td>\n",
       "      <td>3.159380</td>\n",
       "      <td>3.169333</td>\n",
       "      <td>2.790055</td>\n",
       "    </tr>\n",
       "    <tr>\n",
       "      <th>15</th>\n",
       "      <td>2.533967</td>\n",
       "      <td>2.884484</td>\n",
       "      <td>2.790258</td>\n",
       "      <td>3.516178</td>\n",
       "    </tr>\n",
       "    <tr>\n",
       "      <th>16</th>\n",
       "      <td>3.527911</td>\n",
       "      <td>3.294388</td>\n",
       "      <td>2.658556</td>\n",
       "      <td>3.135503</td>\n",
       "    </tr>\n",
       "    <tr>\n",
       "      <th>17</th>\n",
       "      <td>3.557796</td>\n",
       "      <td>3.355158</td>\n",
       "      <td>2.950377</td>\n",
       "      <td>2.940099</td>\n",
       "    </tr>\n",
       "    <tr>\n",
       "      <th>18</th>\n",
       "      <td>2.094488</td>\n",
       "      <td>2.269586</td>\n",
       "      <td>3.313543</td>\n",
       "      <td>2.281601</td>\n",
       "    </tr>\n",
       "    <tr>\n",
       "      <th>19</th>\n",
       "      <td>3.022367</td>\n",
       "      <td>2.703733</td>\n",
       "      <td>3.308800</td>\n",
       "      <td>3.256399</td>\n",
       "    </tr>\n",
       "  </tbody>\n",
       "</table>\n",
       "</div>"
      ],
      "text/plain": [
       "           0         1         2         3\n",
       "0   3.609502  3.816136  2.294421  2.933003\n",
       "1   2.952872  3.513451  3.398453  2.973682\n",
       "2   2.467525  3.416982  3.830906  3.137257\n",
       "3   2.335243  2.871551  2.304427  2.939492\n",
       "4   2.771357  2.577405  2.697711  2.737057\n",
       "5   2.643780  2.876874  4.117794  2.642057\n",
       "6   2.950852  1.965161  3.223827  3.484853\n",
       "7   2.819224  2.793630  3.175538  2.923930\n",
       "8   2.947172  2.781586  2.498696  2.549466\n",
       "9   3.134541  3.482452  2.825565  2.632933\n",
       "10  3.361537  2.799666  2.566092  2.905429\n",
       "11  3.180742  3.198576  3.051229  2.843920\n",
       "12  2.915628  3.587641  3.783306  2.910233\n",
       "13  2.802773  2.374235  3.504044  3.189286\n",
       "14  3.272555  3.159380  3.169333  2.790055\n",
       "15  2.533967  2.884484  2.790258  3.516178\n",
       "16  3.527911  3.294388  2.658556  3.135503\n",
       "17  3.557796  3.355158  2.950377  2.940099\n",
       "18  2.094488  2.269586  3.313543  2.281601\n",
       "19  3.022367  2.703733  3.308800  3.256399"
      ]
     },
     "execution_count": 2,
     "metadata": {},
     "output_type": "execute_result"
    }
   ],
   "source": [
    "df_dane = pd.DataFrame(st.norm(3,0.5).rvs(size=(20,4))) # wypisanie danych w postaci tabelki\n",
    "df_dane"
   ]
  },
  {
   "cell_type": "markdown",
   "id": "e3ad043e",
   "metadata": {},
   "source": [
    "#### Utworzenie wektora danych\n",
    "Pobranie macierzy wartości z tabeli i transponowanie ich."
   ]
  },
  {
   "cell_type": "code",
   "execution_count": 3,
   "id": "af799c6c",
   "metadata": {},
   "outputs": [],
   "source": [
    "X = df_dane.to_numpy().transpose()"
   ]
  },
  {
   "cell_type": "markdown",
   "id": "b30e8f20",
   "metadata": {},
   "source": [
    "Obliczenie średnich w każdej kolumnie"
   ]
  },
  {
   "cell_type": "code",
   "execution_count": 4,
   "id": "449a2e42",
   "metadata": {},
   "outputs": [
    {
     "data": {
      "text/plain": [
       "array([2.9450916 , 2.98610375, 3.0731438 , 2.93612163])"
      ]
     },
     "execution_count": 4,
     "metadata": {},
     "output_type": "execute_result"
    }
   ],
   "source": [
    "m = np.mean(X,axis=1)\n",
    "m"
   ]
  },
  {
   "cell_type": "markdown",
   "id": "e69a6889",
   "metadata": {},
   "source": [
    "Obliczenie wycentrowanej macierzy danych, tzn. odjęcie dla każdego wiersza macierzy odpowiedniej średniej"
   ]
  },
  {
   "cell_type": "code",
   "execution_count": 5,
   "id": "7282e85b",
   "metadata": {},
   "outputs": [],
   "source": [
    "XcT = (X.transpose()-m).transpose()"
   ]
  },
  {
   "cell_type": "markdown",
   "id": "5fbc6f0c",
   "metadata": {},
   "source": [
    "Obliczenie macierzy kowariancji $\\boldsymbol{C}$"
   ]
  },
  {
   "cell_type": "code",
   "execution_count": 6,
   "id": "4b5fead2",
   "metadata": {},
   "outputs": [
    {
     "data": {
      "text/plain": [
       "array([[ 0.16763946,  0.09312076, -0.07218401,  0.01651555],\n",
       "       [ 0.09312076,  0.23122151, -0.01647125, -0.01260192],\n",
       "       [-0.07218401, -0.01647125,  0.25638038,  0.00398674],\n",
       "       [ 0.01651555, -0.01260192,  0.00398674,  0.09017987]])"
      ]
     },
     "execution_count": 6,
     "metadata": {},
     "output_type": "execute_result"
    }
   ],
   "source": [
    "C = np.cov(XcT)\n",
    "C"
   ]
  },
  {
   "cell_type": "markdown",
   "id": "c6bb0095",
   "metadata": {},
   "source": [
    "Obliczenie wartości własnych i wektorów własnych a następnie posortowanie ich względem wielkości wartości własnych."
   ]
  },
  {
   "cell_type": "code",
   "execution_count": 7,
   "id": "922f3ef0",
   "metadata": {},
   "outputs": [
    {
     "data": {
      "text/plain": [
       "(array([0.33972552, 0.2300029 , 0.1088522 , 0.06684059]),\n",
       " array([[ 0.56058899, -0.1193339 , -0.55021654,  0.60725708],\n",
       "        [ 0.5721461 , -0.65932638,  0.31328085, -0.37388858],\n",
       "        [-0.59865432, -0.74193246, -0.21413744,  0.21282478],\n",
       "        [-0.001356  ,  0.02417356, -0.74381585, -0.66794594]]))"
      ]
     },
     "execution_count": 7,
     "metadata": {},
     "output_type": "execute_result"
    }
   ],
   "source": [
    "𝝀,E = np.linalg.eig(C)\n",
    "ix = np.argsort(𝝀)[::-1] # uzyskanie indeksów sortowania\n",
    "\n",
    "𝝀 = 𝝀[ix]\n",
    "E = E[:,ix]\n",
    "𝝀,E"
   ]
  },
  {
   "cell_type": "markdown",
   "id": "6791a1ac",
   "metadata": {},
   "source": [
    "Obliczenie głównych składowych"
   ]
  },
  {
   "cell_type": "code",
   "execution_count": 8,
   "id": "f29e25bf",
   "metadata": {},
   "outputs": [],
   "source": [
    "PC = E.transpose() @ XcT"
   ]
  },
  {
   "cell_type": "markdown",
   "id": "ea3f0d66",
   "metadata": {},
   "source": [
    "Wypisanie głównych składowych w postaci tabeli"
   ]
  },
  {
   "cell_type": "code",
   "execution_count": 9,
   "id": "b0cd3177",
   "metadata": {},
   "outputs": [
    {
     "data": {
      "text/html": [
       "<div>\n",
       "<style scoped>\n",
       "    .dataframe tbody tr th:only-of-type {\n",
       "        vertical-align: middle;\n",
       "    }\n",
       "\n",
       "    .dataframe tbody tr th {\n",
       "        vertical-align: top;\n",
       "    }\n",
       "\n",
       "    .dataframe thead th {\n",
       "        text-align: right;\n",
       "    }\n",
       "</style>\n",
       "<table border=\"1\" class=\"dataframe\">\n",
       "  <thead>\n",
       "    <tr style=\"text-align: right;\">\n",
       "      <th></th>\n",
       "      <th>0</th>\n",
       "      <th>1</th>\n",
       "      <th>2</th>\n",
       "      <th>3</th>\n",
       "    </tr>\n",
       "  </thead>\n",
       "  <tbody>\n",
       "    <tr>\n",
       "      <th>0</th>\n",
       "      <td>1.313551</td>\n",
       "      <td>-0.048864</td>\n",
       "      <td>0.063536</td>\n",
       "      <td>-0.070520</td>\n",
       "    </tr>\n",
       "    <tr>\n",
       "      <th>1</th>\n",
       "      <td>0.111283</td>\n",
       "      <td>-0.589072</td>\n",
       "      <td>0.063328</td>\n",
       "      <td>-0.148299</td>\n",
       "    </tr>\n",
       "    <tr>\n",
       "      <th>2</th>\n",
       "      <td>-0.475103</td>\n",
       "      <td>-0.784446</td>\n",
       "      <td>0.085878</td>\n",
       "      <td>-0.424183</td>\n",
       "    </tr>\n",
       "    <tr>\n",
       "      <th>3</th>\n",
       "      <td>0.052776</td>\n",
       "      <td>0.718721</td>\n",
       "      <td>0.461765</td>\n",
       "      <td>-0.493359</td>\n",
       "    </tr>\n",
       "    <tr>\n",
       "      <th>4</th>\n",
       "      <td>-0.106205</td>\n",
       "      <td>0.563932</td>\n",
       "      <td>0.196016</td>\n",
       "      <td>0.100369</td>\n",
       "    </tr>\n",
       "    <tr>\n",
       "      <th>5</th>\n",
       "      <td>-0.856393</td>\n",
       "      <td>-0.674194</td>\n",
       "      <td>0.126598</td>\n",
       "      <td>0.276613</td>\n",
       "    </tr>\n",
       "    <tr>\n",
       "      <th>6</th>\n",
       "      <td>-0.671850</td>\n",
       "      <td>0.573916</td>\n",
       "      <td>-0.763433</td>\n",
       "      <td>0.050763</td>\n",
       "    </tr>\n",
       "    <tr>\n",
       "      <th>7</th>\n",
       "      <td>-0.241965</td>\n",
       "      <td>0.065659</td>\n",
       "      <td>-0.003902</td>\n",
       "      <td>0.025465</td>\n",
       "    </tr>\n",
       "    <tr>\n",
       "      <th>8</th>\n",
       "      <td>0.228572</td>\n",
       "      <td>0.551450</td>\n",
       "      <td>0.345396</td>\n",
       "      <td>0.213738</td>\n",
       "    </tr>\n",
       "    <tr>\n",
       "      <th>9</th>\n",
       "      <td>0.538813</td>\n",
       "      <td>-0.173506</td>\n",
       "      <td>0.329790</td>\n",
       "      <td>0.079288</td>\n",
       "    </tr>\n",
       "    <tr>\n",
       "      <th>10</th>\n",
       "      <td>0.430375</td>\n",
       "      <td>0.448684</td>\n",
       "      <td>-0.156134</td>\n",
       "      <td>0.235184</td>\n",
       "    </tr>\n",
       "    <tr>\n",
       "      <th>11</th>\n",
       "      <td>0.266913</td>\n",
       "      <td>-0.154179</td>\n",
       "      <td>0.010179</td>\n",
       "      <td>0.120581</td>\n",
       "    </tr>\n",
       "    <tr>\n",
       "      <th>12</th>\n",
       "      <td>-0.097456</td>\n",
       "      <td>-0.920611</td>\n",
       "      <td>0.071846</td>\n",
       "      <td>-0.074367</td>\n",
       "    </tr>\n",
       "    <tr>\n",
       "      <th>13</th>\n",
       "      <td>-0.688164</td>\n",
       "      <td>0.106825</td>\n",
       "      <td>-0.393961</td>\n",
       "      <td>0.064953</td>\n",
       "    </tr>\n",
       "    <tr>\n",
       "      <th>14</th>\n",
       "      <td>0.225326</td>\n",
       "      <td>-0.228220</td>\n",
       "      <td>-0.037843</td>\n",
       "      <td>0.252104</td>\n",
       "    </tr>\n",
       "    <tr>\n",
       "      <th>15</th>\n",
       "      <td>-0.120049</td>\n",
       "      <td>0.339965</td>\n",
       "      <td>-0.176507</td>\n",
       "      <td>-0.659315</td>\n",
       "    </tr>\n",
       "    <tr>\n",
       "      <th>16</th>\n",
       "      <td>0.751030</td>\n",
       "      <td>0.039606</td>\n",
       "      <td>-0.283622</td>\n",
       "      <td>0.017247</td>\n",
       "    </tr>\n",
       "    <tr>\n",
       "      <th>17</th>\n",
       "      <td>0.628118</td>\n",
       "      <td>-0.225262</td>\n",
       "      <td>-0.198172</td>\n",
       "      <td>0.205300</td>\n",
       "    </tr>\n",
       "    <tr>\n",
       "      <th>18</th>\n",
       "      <td>-1.029821</td>\n",
       "      <td>0.379743</td>\n",
       "      <td>0.678909</td>\n",
       "      <td>0.239710</td>\n",
       "    </tr>\n",
       "    <tr>\n",
       "      <th>19</th>\n",
       "      <td>-0.259749</td>\n",
       "      <td>0.009855</td>\n",
       "      <td>-0.419669</td>\n",
       "      <td>-0.011273</td>\n",
       "    </tr>\n",
       "  </tbody>\n",
       "</table>\n",
       "</div>"
      ],
      "text/plain": [
       "           0         1         2         3\n",
       "0   1.313551 -0.048864  0.063536 -0.070520\n",
       "1   0.111283 -0.589072  0.063328 -0.148299\n",
       "2  -0.475103 -0.784446  0.085878 -0.424183\n",
       "3   0.052776  0.718721  0.461765 -0.493359\n",
       "4  -0.106205  0.563932  0.196016  0.100369\n",
       "5  -0.856393 -0.674194  0.126598  0.276613\n",
       "6  -0.671850  0.573916 -0.763433  0.050763\n",
       "7  -0.241965  0.065659 -0.003902  0.025465\n",
       "8   0.228572  0.551450  0.345396  0.213738\n",
       "9   0.538813 -0.173506  0.329790  0.079288\n",
       "10  0.430375  0.448684 -0.156134  0.235184\n",
       "11  0.266913 -0.154179  0.010179  0.120581\n",
       "12 -0.097456 -0.920611  0.071846 -0.074367\n",
       "13 -0.688164  0.106825 -0.393961  0.064953\n",
       "14  0.225326 -0.228220 -0.037843  0.252104\n",
       "15 -0.120049  0.339965 -0.176507 -0.659315\n",
       "16  0.751030  0.039606 -0.283622  0.017247\n",
       "17  0.628118 -0.225262 -0.198172  0.205300\n",
       "18 -1.029821  0.379743  0.678909  0.239710\n",
       "19 -0.259749  0.009855 -0.419669 -0.011273"
      ]
     },
     "execution_count": 9,
     "metadata": {},
     "output_type": "execute_result"
    }
   ],
   "source": [
    "pd.DataFrame(PC.transpose())"
   ]
  },
  {
   "cell_type": "markdown",
   "id": "14f24275",
   "metadata": {},
   "source": [
    "Dla każdej otrzymanej głównej składowej można oszacować ilość informacji dostarczanej do zbioru danych (tzw. objaśnionej wariancji). Wartości te oblicza się dzieląc wartości własne $\\lambda_i$ przez ich sumę:"
   ]
  },
  {
   "cell_type": "code",
   "execution_count": 10,
   "id": "5bfb732f",
   "metadata": {},
   "outputs": [
    {
     "data": {
      "text/plain": [
       "array([0.45574973, 0.30855428, 0.14602778, 0.08966821])"
      ]
     },
     "execution_count": 10,
     "metadata": {},
     "output_type": "execute_result"
    }
   ],
   "source": [
    "ilosc_objasnionej_wariancji = 𝝀/np.sum(𝝀)\n",
    "ilosc_objasnionej_wariancji"
   ]
  },
  {
   "cell_type": "markdown",
   "id": "3dfcc21c",
   "metadata": {},
   "source": [
    "### Użycie biblioteki [scikit-learn](https://scikit-learn.org/stable/)\n",
    "\n",
    "W celu obliczenia głównych składowych należy użyć funkcji [`PCA`](https://scikit-learn.org/stable/modules/generated/sklearn.decomposition.PCA.html) z modułu [decomposition](https://scikit-learn.org/stable/modules/classes.html#module-sklearn.decomposition).\n",
    "\n",
    "W przypadku wykorzystania funkcji `PCA` nie ma potrzeby dokonywania transpozycji danych. Dane przekazujemy do funkcji w postaci pionowej (jako `numpy.array`). Sposób postępowania jest następujący:\n",
    "1. Utworzenie obiektu implementującego analizę głównych składowych PCA"
   ]
  },
  {
   "cell_type": "code",
   "execution_count": 11,
   "id": "210c9439",
   "metadata": {},
   "outputs": [],
   "source": [
    "pca = skd.PCA()"
   ]
  },
  {
   "cell_type": "markdown",
   "id": "a35572db",
   "metadata": {},
   "source": [
    "2. Użycie metody `fit()` na tabeli danych, która wykonuje niezbędne obliczenia."
   ]
  },
  {
   "cell_type": "code",
   "execution_count": 12,
   "id": "078d7db2",
   "metadata": {},
   "outputs": [
    {
     "data": {
      "text/plain": [
       "PCA()"
      ]
     },
     "execution_count": 12,
     "metadata": {},
     "output_type": "execute_result"
    }
   ],
   "source": [
    "dane = df_dane.to_numpy() # zamiana ramki danych na macierz numpy array\n",
    "pca.fit( dane )"
   ]
  },
  {
   "cell_type": "markdown",
   "id": "3b8891a2",
   "metadata": {},
   "source": [
    "3. Użycie metody `transform()` do obliczenia wartości głównych składowych."
   ]
  },
  {
   "cell_type": "code",
   "execution_count": 13,
   "id": "a5054aa7",
   "metadata": {},
   "outputs": [],
   "source": [
    "PC_scikit = pca.transform(df_dane.to_numpy())"
   ]
  },
  {
   "cell_type": "markdown",
   "id": "ae34973f",
   "metadata": {},
   "source": [
    "Poniżej wypisano otrzymane główne składowe w postaci ramki danych. Jak można zauważyć wartości są identyczne jak w przypadku obliczeń przeprowadzonych wcześniej.\n",
    "\n",
    "**Uwaga**: Poszczególne wartości mogą się różnić co do znaku. Jest to wynikiem użycia innej funkcji wyznaczania wektorów własnych. Jednak oba rozwiązania są identyczne, gdyż wektory wyznaczają kierunki i w takim przypadku ich orientacja nie ma znaczenia."
   ]
  },
  {
   "cell_type": "code",
   "execution_count": 14,
   "id": "8c9f7e1d",
   "metadata": {},
   "outputs": [
    {
     "data": {
      "text/html": [
       "<div>\n",
       "<style scoped>\n",
       "    .dataframe tbody tr th:only-of-type {\n",
       "        vertical-align: middle;\n",
       "    }\n",
       "\n",
       "    .dataframe tbody tr th {\n",
       "        vertical-align: top;\n",
       "    }\n",
       "\n",
       "    .dataframe thead th {\n",
       "        text-align: right;\n",
       "    }\n",
       "</style>\n",
       "<table border=\"1\" class=\"dataframe\">\n",
       "  <thead>\n",
       "    <tr style=\"text-align: right;\">\n",
       "      <th></th>\n",
       "      <th>0</th>\n",
       "      <th>1</th>\n",
       "      <th>2</th>\n",
       "      <th>3</th>\n",
       "    </tr>\n",
       "  </thead>\n",
       "  <tbody>\n",
       "    <tr>\n",
       "      <th>0</th>\n",
       "      <td>1.313551</td>\n",
       "      <td>0.048864</td>\n",
       "      <td>-0.063536</td>\n",
       "      <td>0.070520</td>\n",
       "    </tr>\n",
       "    <tr>\n",
       "      <th>1</th>\n",
       "      <td>0.111283</td>\n",
       "      <td>0.589072</td>\n",
       "      <td>-0.063328</td>\n",
       "      <td>0.148299</td>\n",
       "    </tr>\n",
       "    <tr>\n",
       "      <th>2</th>\n",
       "      <td>-0.475103</td>\n",
       "      <td>0.784446</td>\n",
       "      <td>-0.085878</td>\n",
       "      <td>0.424183</td>\n",
       "    </tr>\n",
       "    <tr>\n",
       "      <th>3</th>\n",
       "      <td>0.052776</td>\n",
       "      <td>-0.718721</td>\n",
       "      <td>-0.461765</td>\n",
       "      <td>0.493359</td>\n",
       "    </tr>\n",
       "    <tr>\n",
       "      <th>4</th>\n",
       "      <td>-0.106205</td>\n",
       "      <td>-0.563932</td>\n",
       "      <td>-0.196016</td>\n",
       "      <td>-0.100369</td>\n",
       "    </tr>\n",
       "    <tr>\n",
       "      <th>5</th>\n",
       "      <td>-0.856393</td>\n",
       "      <td>0.674194</td>\n",
       "      <td>-0.126598</td>\n",
       "      <td>-0.276613</td>\n",
       "    </tr>\n",
       "    <tr>\n",
       "      <th>6</th>\n",
       "      <td>-0.671850</td>\n",
       "      <td>-0.573916</td>\n",
       "      <td>0.763433</td>\n",
       "      <td>-0.050763</td>\n",
       "    </tr>\n",
       "    <tr>\n",
       "      <th>7</th>\n",
       "      <td>-0.241965</td>\n",
       "      <td>-0.065659</td>\n",
       "      <td>0.003902</td>\n",
       "      <td>-0.025465</td>\n",
       "    </tr>\n",
       "    <tr>\n",
       "      <th>8</th>\n",
       "      <td>0.228572</td>\n",
       "      <td>-0.551450</td>\n",
       "      <td>-0.345396</td>\n",
       "      <td>-0.213738</td>\n",
       "    </tr>\n",
       "    <tr>\n",
       "      <th>9</th>\n",
       "      <td>0.538813</td>\n",
       "      <td>0.173506</td>\n",
       "      <td>-0.329790</td>\n",
       "      <td>-0.079288</td>\n",
       "    </tr>\n",
       "    <tr>\n",
       "      <th>10</th>\n",
       "      <td>0.430375</td>\n",
       "      <td>-0.448684</td>\n",
       "      <td>0.156134</td>\n",
       "      <td>-0.235184</td>\n",
       "    </tr>\n",
       "    <tr>\n",
       "      <th>11</th>\n",
       "      <td>0.266913</td>\n",
       "      <td>0.154179</td>\n",
       "      <td>-0.010179</td>\n",
       "      <td>-0.120581</td>\n",
       "    </tr>\n",
       "    <tr>\n",
       "      <th>12</th>\n",
       "      <td>-0.097456</td>\n",
       "      <td>0.920611</td>\n",
       "      <td>-0.071846</td>\n",
       "      <td>0.074367</td>\n",
       "    </tr>\n",
       "    <tr>\n",
       "      <th>13</th>\n",
       "      <td>-0.688164</td>\n",
       "      <td>-0.106825</td>\n",
       "      <td>0.393961</td>\n",
       "      <td>-0.064953</td>\n",
       "    </tr>\n",
       "    <tr>\n",
       "      <th>14</th>\n",
       "      <td>0.225326</td>\n",
       "      <td>0.228220</td>\n",
       "      <td>0.037843</td>\n",
       "      <td>-0.252104</td>\n",
       "    </tr>\n",
       "    <tr>\n",
       "      <th>15</th>\n",
       "      <td>-0.120049</td>\n",
       "      <td>-0.339965</td>\n",
       "      <td>0.176507</td>\n",
       "      <td>0.659315</td>\n",
       "    </tr>\n",
       "    <tr>\n",
       "      <th>16</th>\n",
       "      <td>0.751030</td>\n",
       "      <td>-0.039606</td>\n",
       "      <td>0.283622</td>\n",
       "      <td>-0.017247</td>\n",
       "    </tr>\n",
       "    <tr>\n",
       "      <th>17</th>\n",
       "      <td>0.628118</td>\n",
       "      <td>0.225262</td>\n",
       "      <td>0.198172</td>\n",
       "      <td>-0.205300</td>\n",
       "    </tr>\n",
       "    <tr>\n",
       "      <th>18</th>\n",
       "      <td>-1.029821</td>\n",
       "      <td>-0.379743</td>\n",
       "      <td>-0.678909</td>\n",
       "      <td>-0.239710</td>\n",
       "    </tr>\n",
       "    <tr>\n",
       "      <th>19</th>\n",
       "      <td>-0.259749</td>\n",
       "      <td>-0.009855</td>\n",
       "      <td>0.419669</td>\n",
       "      <td>0.011273</td>\n",
       "    </tr>\n",
       "  </tbody>\n",
       "</table>\n",
       "</div>"
      ],
      "text/plain": [
       "           0         1         2         3\n",
       "0   1.313551  0.048864 -0.063536  0.070520\n",
       "1   0.111283  0.589072 -0.063328  0.148299\n",
       "2  -0.475103  0.784446 -0.085878  0.424183\n",
       "3   0.052776 -0.718721 -0.461765  0.493359\n",
       "4  -0.106205 -0.563932 -0.196016 -0.100369\n",
       "5  -0.856393  0.674194 -0.126598 -0.276613\n",
       "6  -0.671850 -0.573916  0.763433 -0.050763\n",
       "7  -0.241965 -0.065659  0.003902 -0.025465\n",
       "8   0.228572 -0.551450 -0.345396 -0.213738\n",
       "9   0.538813  0.173506 -0.329790 -0.079288\n",
       "10  0.430375 -0.448684  0.156134 -0.235184\n",
       "11  0.266913  0.154179 -0.010179 -0.120581\n",
       "12 -0.097456  0.920611 -0.071846  0.074367\n",
       "13 -0.688164 -0.106825  0.393961 -0.064953\n",
       "14  0.225326  0.228220  0.037843 -0.252104\n",
       "15 -0.120049 -0.339965  0.176507  0.659315\n",
       "16  0.751030 -0.039606  0.283622 -0.017247\n",
       "17  0.628118  0.225262  0.198172 -0.205300\n",
       "18 -1.029821 -0.379743 -0.678909 -0.239710\n",
       "19 -0.259749 -0.009855  0.419669  0.011273"
      ]
     },
     "execution_count": 14,
     "metadata": {},
     "output_type": "execute_result"
    }
   ],
   "source": [
    "pd.DataFrame(PC_scikit)"
   ]
  },
  {
   "cell_type": "markdown",
   "id": "1b8830ad",
   "metadata": {},
   "source": [
    "#### Analiza otrzymanych głównych składowych\n",
    "\n",
    "Ilość objaśnionej wariancji zapisana jest w zmiennej wewnętrznej obiektu `pca` o nazwie `explained_variance_ratio_`:"
   ]
  },
  {
   "cell_type": "code",
   "execution_count": 15,
   "id": "b2173170",
   "metadata": {},
   "outputs": [
    {
     "data": {
      "text/plain": [
       "array([0.45574973, 0.30855428, 0.14602778, 0.08966821])"
      ]
     },
     "execution_count": 15,
     "metadata": {},
     "output_type": "execute_result"
    }
   ],
   "source": [
    "pca.explained_variance_ratio_"
   ]
  },
  {
   "cell_type": "markdown",
   "id": "cc5769e1",
   "metadata": {},
   "source": [
    "Wartości te często przedstawia się w postaci wykresu słupkowego."
   ]
  },
  {
   "cell_type": "code",
   "execution_count": 16,
   "id": "cbf2121b",
   "metadata": {},
   "outputs": [
    {
     "data": {
      "image/png": "[encoded data removed]",
      "text/plain": [
       "<Figure size 640x480 with 1 Axes>"
      ]
     },
     "metadata": {},
     "output_type": "display_data"
    }
   ],
   "source": [
    "plt.bar(range(pca.n_components_),pca.explained_variance_ratio_,width=0.25)\n",
    "plt.xticks(range(pca.n_components_),map(lambda t: \"PC\"+str(t+1),range(pca.n_components_)))\n",
    "plt.ylabel(\"Udział objaśnionej wariancji ($\\lambda$)\")\n",
    "pass"
   ]
  },
  {
   "cell_type": "markdown",
   "id": "5921e84c",
   "metadata": {},
   "source": [
    "Ponadto często na wykresie słupkowym przedstawia się również łamaną obrazującą skumulowaną ilość objaśnianej wariancji."
   ]
  },
  {
   "cell_type": "code",
   "execution_count": 17,
   "id": "3e29a894",
   "metadata": {},
   "outputs": [
    {
     "data": {
      "image/png": "[encoded data removed]",
      "text/plain": [
       "<Figure size 640x480 with 1 Axes>"
      ]
     },
     "metadata": {},
     "output_type": "display_data"
    }
   ],
   "source": [
    "plt.plot(range(pca.n_components_),np.cumsum(pca.explained_variance_ratio_))\n",
    "#plt.xticks(range(pca.n_components_),map(lambda t: \"PC\"+str(t),range(pca.n_components_)))\n",
    "plt.ylabel(\"Udział objaśnionej wariancji\")\n",
    "\n",
    "plt.bar(range(pca.n_components_),pca.explained_variance_ratio_,width=0.25)\n",
    "plt.xticks(range(pca.n_components_),map(lambda t: \"PC\"+str(t+1),range(pca.n_components_)))\n",
    "plt.ylabel(\"Udział objaśnionej wariancji ($\\lambda$)\")\n",
    "pass"
   ]
  },
  {
   "cell_type": "markdown",
   "id": "67115630",
   "metadata": {},
   "source": [
    "### Wykres korelacji\n",
    "\n",
    "Przeprowadzenie analizy głównych składowych umożliwia również łatwe określenie, czy zmienne są ze sobą skorelowane. W tym celu rysuje się tzw. okrąg korelacji. Szczegóły tworzenia tego wykresu zostaną pominięte. \n",
    "\n",
    "Wykres ten pokazuje rzuty zmiennych oryginalnych w przestrzeni wyznaczonej przez główne składowe. W analizie danych zwraca się uwagę na następujące elementy:\n",
    " - strzałki reprezentują kolumny danych;\n",
    " - jeśli strzałki wskazują podobne kierunki to znaczy, że są skorelowane (czyli istnieje między nimi zależność);\n",
    " - strzałki o korelacji dodatniej będą skierowane w podobnym kierunku;\n",
    " - strzałki o korelacji ujemnej będą skierowane w podobnym kierunku, ale przeciwnym niż te o korelacji dodatniej;\n",
    " - strzałki, które są prostopadłe do siebie nie są skorelowane.\n",
    "\n",
    "Wykres można wykonać w układzie różnych głównych składowych.\n",
    "\n",
    "W języku Python wykres taki najłatwiej wykonać przy użyciu biblioteki [MLxtend](http://rasbt.github.io/mlxtend/). Bibliotekę tę można zainstalować przy użyciu komendy \n",
    "\n",
    "       conda install -c conda-forge mlxtend\n",
    "\n",
    "uruchamianej w konsoli środowiska Anaconda."
   ]
  },
  {
   "cell_type": "code",
   "execution_count": 19,
   "id": "a1d04b88",
   "metadata": {},
   "outputs": [],
   "source": [
    "import mlxtend.plotting as mlep # conda install -c conda-forge mlxtend"
   ]
  },
  {
   "cell_type": "markdown",
   "id": "07c75224",
   "metadata": {},
   "source": [
    "Wykres w przestrzeni skłądowych pierwszej i drugiej, argument: `dimensions=(1, 2)`"
   ]
  },
  {
   "cell_type": "code",
   "execution_count": 20,
   "id": "fa71fb22",
   "metadata": {},
   "outputs": [
    {
     "data": {
      "image/png": "[encoded data removed]",
      "text/plain": [
       "<Figure size 600x600 with 1 Axes>"
      ]
     },
     "metadata": {},
     "output_type": "display_data"
    }
   ],
   "source": [
    "figure, correlation_matrix = mlep.plot_pca_correlation_graph(dane, \n",
    "                                                        variables_names=map(lambda t: \"kol\"+str(t),range(dane.shape[-1])),\n",
    "                                                        dimensions=(1, 2),\n",
    "                                                        figure_axis_size=6)"
   ]
  },
  {
   "cell_type": "markdown",
   "id": "07c29d52",
   "metadata": {},
   "source": [
    "Wykres w przestrzeni składowych drugiej i trzeciej, argument: `dimensions=(2, 3)`."
   ]
  },
  {
   "cell_type": "code",
   "execution_count": 21,
   "id": "40ea973e",
   "metadata": {},
   "outputs": [
    {
     "data": {
      "image/png": "[encoded data removed]",
      "text/plain": [
       "<Figure size 600x600 with 1 Axes>"
      ]
     },
     "metadata": {},
     "output_type": "display_data"
    }
   ],
   "source": [
    "figure, correlation_matrix = mlep.plot_pca_correlation_graph(dane, \n",
    "                                                        variables_names=map(lambda t: \"kol\"+str(t),range(dane.shape[-1])),\n",
    "                                                        dimensions=(2, 3),\n",
    "                                                        figure_axis_size=6)"
   ]
  }
 ],
 "metadata": {
  "authors": [
   {
    "name": "Wojciech Artichowicz"
   }
  ],
  "kernelspec": {
   "display_name": "Python 3 (ipykernel)",
   "language": "python",
   "name": "python3"
  },
  "language_info": {
   "codemirror_mode": {
    "name": "ipython",
    "version": 3
   },
   "file_extension": ".py",
   "mimetype": "text/x-python",
   "name": "python",
   "nbconvert_exporter": "python",
   "pygments_lexer": "ipython3",
   "version": "3.9.13"
  },
  "title": "Statystyczna analiza danych - analiza głównych składowych"
 },
 "nbformat": 4,
 "nbformat_minor": 5
}

{
 "cells": [
  {
   "cell_type": "markdown",
   "id": "4ac9abd9",
   "metadata": {},
   "source": [
    "# Testy statystyczne\n",
    "\n",
    "### Statystyczna analiza danych\n",
    "**dr inż. Wojciech Artichowicz**\n",
    "\n",
    "**Katedra Geotechniki i Inżynierii Wodnej PG**\n",
    "\n",
    "### Testy statystyczne \n",
    "Testy są procedurami statystycznymi umożliwiającymi podejmowanie decyzji w oparciu o dane. Istotą problemu jest to, że we wszelkich badaniach tak naprawdę interesująca dla nas jest populacja generalna, czyli zbiór wszystkich możliwych jednostek badanych ze względu na pewną cechę, a nie wartości zaobserwowane w próbie. Jednak w praktyce (zazwyczaj) niemożliwe jest zbadanie całej populacji generalnej i konieczne jest oparcie się jedynie na wartościach obecnych w próbach. W związku z tym, że próby są realizacją zmiennych losowych, statystyki o nie oparte nie będą dokładnie odzwierciedlać badanych parametrów w populacji generalnej. Zatem potrzebne jest narzędzie, które pozwoli stwierdzić czy odchylenia obecne w próbie są raczej wynikiem \"zwykłej losowości\" czy raczej stoi za nimi jakiś istotny czynnik różnicujący. W tym kontekście testy pozwalają nam odpowiedzieć na pytania takie jak:\n",
    " 1. \"czy na podstawie prób możemy stwierdzić, że próby pochodzą z jednej tej samej populacji generalnej?\"\n",
    " 2. \"czy na podsatwie próby możemy twierdzić, że populacja generalna ma dany typ rozkładu?\"\n",
    " 3. itd.\n",
    "\n",
    "Sposób sformułowania powyższych pytań jest wyrażony w \"języku statystycznym\", jednak wiele problemów praktycznych z punktu widzenia statystyki sprowadza się do tak wyrażonych sformułowań, np.:\n",
    " - (Ad. 1) Czy po zmianie technologii produkcji jakość produktów uległa zmianie? (Porównanie oceny produktów przed i po wprowadzeniu zmiany.)\n",
    " - (Ad. 2) Czy analizowany czas bezawaryjnego działania produkowanych urządzeń podlega rozkładowi wykładniczemu? (Odpowiedź twierdząca lub przecząca wiele mówi o charakterystyce analizowanego zjawiska.)\n",
    "\n",
    "#### Klasyfikacja testów\n",
    "Ogólnie rzecz biorąc testy statystyczne można podzielić na parametryczne i nieparametryczne. Testy parametryczne dotyczą wnioskowania na temat parametrów rozkładów (np. średniej, odchylenia standardowego, mediany, itd.). Testy nieparametryczne dotyczą wielu różnych zagadnień, z których na szczególną uwagę zasługują testy zgodności (*ang.* goodness of fit) pozwalające stwierdzić czy próba pochodzi z populacji generalnej o założonym rozkładzie, lub czy dwie lub więcej prób może pochodzić z tej samej populacji generalnej.\n",
    "\n",
    "#### Hipoteza zerowa i alternatywna\n",
    "Testy statystyczne sprawdzają prawdziwość hipotezy zerowej. W przypadku odrzucenia hipotezy zerowej przyjmuje się hipotezę alternatywną. Każdy test statystyczny ma swoją jasno określoną hipotezę zerową (oznaczaną $H_0$) oraz jedną lub więcej możliwych hipotez alternatywnych (oznaczanych $H_1$). \n",
    "\n",
    "##### Testy parametryczne\n",
    "W przypadku testów parametrycznych hipoteza zerowa ma postać założenia o wartości badanego parametru bądź równości parametrów w dwóch lub większej ilości populacji generalnych, z których pochodzą próby. Natomiast dostępne hipotezy alternatywne określają zależności świadczące o braku równości bądź relacji mniejsze/większe w stosunku do założonej wartości. Hipotezę alternatywną wybiera w takim przypadku osoba przeprowadzajaca badanie, zależnie od zdarzenia, które jest dla niej interesujące.\n",
    "\n",
    "Rozważmy następującą sytuację: Badany proces oczyszczania wody zapewnia pewien poziom efektywności usuwania metali ciężkich z wody. Po wprowadzeniu pewnej modyfikacji tego procesu efektywność ta powinna ulec zwiększeniu. Interesuje nas odpowiedź na pytanie: \"czy rzeczywiście tak się stało?\". Najprostszym podejściem do tego zagadnienia byłoby następujące postępowanie:\n",
    " 1. pobór próby przed wprowadzeniem modyfikacji ($x$), tzn. określenie średniej dobowej efektywności usuwania metali ciężkich w ciągu pewnej liczby dni przed wprowadzeniem modyfikacji;\n",
    " 2. pobór próby po wprowadzeniu modyfikacji ($y$), tzn. określenie średniej dobowej efektywności usuwania metali ciężkich w ciągu pewnej liczby dni po wprowadzeniu modyfikacji;\n",
    " 3. przeprowadzenie testu statystycznego badającego równość wartości średnich między dwiema populacjami reprezentowanymi przez pobrane próby $x$ oraz $y$.\n",
    " \n",
    "W takim przypadku hipoteza zerowa miałaby postać założenia o braku róznic między średnimi. Test dla dwóch średnich zawsze ma taką hipotezę zerową i nie istnieje możliwość wybrania innej opcji. Natomiast hipoteza alternatywna wyrażałaby przekonanie o tym, że w populacji $Y$ (tj. po modyfikacji) średnia jest wyższa:\n",
    "$$H_0: \\mu_X=\\mu_Y$$\n",
    "$$H_1: \\mu_X<\\mu_Y$$\n",
    "**Jeśli hipoteza zerowa nie zostanie odrzucona** będzie to oznaczało, że na podstawie danych nie można stwierdzić, iż efektywność usuwania metali ciężkich w populacji $Y$ jest większa niż w populacji $X$. Potocznie mówiąc oznaczałoby to, że nie ma podstaw do stwierdzenia, że wprowadzenie modyfikacji w procesie usuwania metali ciężkich z wody doprowadziło do zwiększenia efektywności tego procesu. **Jeśli natomiast hipoteza zerowa zostanie odrzucona** będzie to oznaczało, że efektywność usuwania metali ciężkich w populacji $Y$ jest większa niż w populacji $X$. Potocznie mówiąc, oznaczałoby to, że wprowadzenie modyfikacji spowodowało zwiększenie efektywności usuwania metali ciężkich z wody, czyli zakładany efekt został osiągnięty.\n",
    "\n",
    "##### Testy nieparametryczne\n",
    "W przypadku testów nieparametrycznych hipoteza zerowa może dotyczyć dowolnego aspektu populacji generalnej np. kształtu rozkładu, niezależności zdarzeń, itp. Każdy test nieparametryczny ma przypisaną mu hipotezę zerową oraz zwykle jedną możliwą hipotezę alternatywną (inaczej niż w przypadku testów parametrycznych). Przykładem hipotezy zerowej i alternatywnej dla nieparametrycznego testu zgodności mogą być następujące określenia:\n",
    "\n",
    "$\\qquad\\qquad\\qquad H_0:$ populacja generalna, z której pochodzi próba ma rozkład normalny $N(\\mu,\\sigma)$\n",
    "\n",
    "$\\qquad\\qquad\\qquad H_1:$ populacja generalna, z której pochodzi próba nie ma wyżej rozważanego rozkładu normalnego\n",
    "\n",
    "#### $P$-value - podjęcie decyzji dotyczącej hipotezy zerowej\n",
    "W wyniku przeprowadzenia obliczeń, otrzumuje się tzw. $p$-wartość. Jest to prawdopodobieństwo, że obliczona na podstawie próby wartość statystyki testowej jest wynikiem przypadku. \n",
    "\n",
    "Jeśli $p$-value jest małe **hipotezę zerową należy odrzucić** na rzecz hipotezy alternatywnej. Natomiast jeśli $p$-value jest duże, brak jest podstaw do odrzucenia hipotezy zerowej. Umowną granicą wartości $p$-value jest $0{,}05$, tzn. jeśli $p$-value ma wartość mniejszą od $0{,}05$ hipotezę zerową należy odrzucić i przyjąć hipotezę alternatywną, jeśli ma wartość równą lub większą brak jest podstaw do odrzucenia hipotezy zerowej. W różnych zastosowaniach można przyjąć różne granice $p$-wartości. Im potencjalne skutki popełnienia błędu $I$ rodzaju są poważniejsze tym mniejszą wartość graniczną się przyjmuje np. $0{,}001$."
   ]
  },
  {
   "cell_type": "markdown",
   "id": "9757aa35",
   "metadata": {},
   "source": [
    "## 1. Problem przykładowy\n",
    "Aby zobrazować wyżej przedstawiony problem rozważmy dwie dziesięcioelementowe próby pochodzące z tego samego rozkładu (rozkładu normalnego $N(\\mu=2,\\sigma=1)$). Próby są niewielkie, zatem wartości parametrów oszacowanych na podstawie prób mogą się znacznie różnić od ich wartości w populacji. Poniżej obliczono dla obu prób średnią i odchylenie standardowe. Wartości te w próbach są oszacowaniami wartości oczekiwanej i odchylenia standardowego w populacji, czyli odpowiednio $\\mu=2$, $\\sigma=1$. Jak można zauważyć w jednej z prób wartości te wyniosły $\\bar{x}_A=2{,}0245$ i $s_A=1{,}2493$ natomiast w drugiej $\\bar{x}_B=1{,}8749$ i $s_B=1{,}0146$. Warto przypomnieć, że w rzeczywistości obie te próby pochodzą z tej samej populacji generalnej. Wiedzę tę możemy wykorzystać do sprawdzenia czy testy statystyczne rzeczywiście to potwierdzą. \n",
    "\n",
    "W praktyce zwykle nie wiemy z jakiej populacji generalnej próby pochodzą. W jaki sposób zatem stwierdzić, czy pomimo odchyłek próby te mogą pochodzić z tej samej populacji generalnej czy nie? Do rozstrzygnięcia tej kwestii należy właśnie użyć testów statystycznych. W tym celu można użyć wielu różnych podejść i testów statystycznych. Poniżej przedstawiono trzy typowe podejścia.\n",
    "\n",
    "#### Import bibliotek języka Python"
   ]
  },
  {
   "cell_type": "code",
   "execution_count": 1,
   "id": "6ab48533",
   "metadata": {},
   "outputs": [],
   "source": [
    "import numpy as np\n",
    "import scipy.stats as st\n",
    "import pandas as pd\n",
    "import matplotlib.pyplot as plt"
   ]
  },
  {
   "cell_type": "markdown",
   "id": "452827b9",
   "metadata": {},
   "source": [
    "#### Wprowadzenie danych"
   ]
  },
  {
   "cell_type": "code",
   "execution_count": 2,
   "id": "89555cc3",
   "metadata": {},
   "outputs": [],
   "source": [
    "A = np.array([1.264, -0.319,  2.043,  2.909,  1.375,  3.314,  2.994,  3.648, 2.216,  0.801])\n",
    "B = np.array([1.191,  0.424,  3.224,  3.579,  1.681,  1.544,  1.736,  0.893, 1.703,  2.774])"
   ]
  },
  {
   "cell_type": "markdown",
   "id": "729fb3af",
   "metadata": {},
   "source": [
    "#### Obliczenie średnich i odchyleń standardowych w próbach"
   ]
  },
  {
   "cell_type": "code",
   "execution_count": 3,
   "id": "1aebcaaa",
   "metadata": {},
   "outputs": [
    {
     "data": {
      "text/html": [
       "<div>\n",
       "<style scoped>\n",
       "    .dataframe tbody tr th:only-of-type {\n",
       "        vertical-align: middle;\n",
       "    }\n",
       "\n",
       "    .dataframe tbody tr th {\n",
       "        vertical-align: top;\n",
       "    }\n",
       "\n",
       "    .dataframe thead th {\n",
       "        text-align: right;\n",
       "    }\n",
       "</style>\n",
       "<table border=\"1\" class=\"dataframe\">\n",
       "  <thead>\n",
       "    <tr style=\"text-align: right;\">\n",
       "      <th></th>\n",
       "      <th>A</th>\n",
       "      <th>B</th>\n",
       "    </tr>\n",
       "  </thead>\n",
       "  <tbody>\n",
       "    <tr>\n",
       "      <th>średnia</th>\n",
       "      <td>2.024500</td>\n",
       "      <td>1.874900</td>\n",
       "    </tr>\n",
       "    <tr>\n",
       "      <th>odch. std.</th>\n",
       "      <td>1.249311</td>\n",
       "      <td>1.014632</td>\n",
       "    </tr>\n",
       "  </tbody>\n",
       "</table>\n",
       "</div>"
      ],
      "text/plain": [
       "                   A         B\n",
       "średnia     2.024500  1.874900\n",
       "odch. std.  1.249311  1.014632"
      ]
     },
     "execution_count": 3,
     "metadata": {},
     "output_type": "execute_result"
    }
   ],
   "source": [
    "pd.DataFrame({\"A\":[st.tmean(A),st.tstd(A)],\n",
    "              \"B\":[st.tmean(B),st.tstd(B)]},\n",
    "             index=[\"średnia\",\"odch. std.\"])"
   ]
  },
  {
   "cell_type": "markdown",
   "id": "ce92e18a",
   "metadata": {},
   "source": [
    "#### Wykres wartości zaobserwowanych w obu próbach"
   ]
  },
  {
   "cell_type": "code",
   "execution_count": 4,
   "id": "b92c172b",
   "metadata": {},
   "outputs": [
    {
     "data": {
      "image/png": "[encoded data removed]",
      "text/plain": [
       "<Figure size 800x200 with 1 Axes>"
      ]
     },
     "metadata": {},
     "output_type": "display_data"
    }
   ],
   "source": [
    "plt.figure(figsize=(8, 2))\n",
    "plt.scatter(A,np.zeros_like(A),edgecolors=\"black\")\n",
    "plt.scatter(B,np.ones_like(B),edgecolors=\"black\")\n",
    "plt.yticks(ticks=[0,1],labels=[\"A\",\"B\"])\n",
    "plt.ylim([-0.5,1.5])\n",
    "plt.xlabel(\"wartości obserwowane w próbie\")\n",
    "pass"
   ]
  },
  {
   "cell_type": "markdown",
   "id": "ce222029",
   "metadata": {},
   "source": [
    "### 1.1. Podejście klasyczne\n",
    "Załóżmy, że nie mamy wiedzy na temat rozkładu, z którego pochodzą próby. Zgodnie z podejściem klasycznym w pierwszym kroku następuje sprawdzenie czy próby pochodzą z rozkładów normalnych. Jeśli test statystyczny wykaże, że badane próby rzeczywiście mogą pochodzić z rozkładów normalnych to w następnych krokach testuje się równość wariancji oraz średnich w próbach. Jeśli wariancje i średnie okazą się równe to znaczy, że możemy uważać, że próby pochodzą z tej samej populacji generalnej.\n",
    "\n",
    "W celu przeprowadzenia testu normalności rozkładu można wykorzystać kilka testów dostępnych w bibliotece [`scipy.stats`](https://docs.scipy.org/doc/scipy/reference/stats.html). Pierwszą grupę stanowią testy sprawdzające czy próba pochodzi z rozkładu normalnego, są to:\n",
    " - test Shapiro-Wilka [`shapiro()`](https://docs.scipy.org/doc/scipy/reference/generated/scipy.stats.shapiro.html#scipy.stats.shapiro)\n",
    " - test normalności oparty o statystyki D\\`Agostino-Pearsone'a [`normaltest()`](https://docs.scipy.org/doc/scipy/reference/generated/scipy.stats.normaltest.html#scipy.stats.normaltest) (wymaga przynajmniej próby 20 elementowej)\n",
    " - test badający czy skośność rozkładu jest taka sama jak w rozkładzie normalnym [`skewtest()`](https://docs.scipy.org/doc/scipy/reference/generated/scipy.stats.skewtest.html#scipy.stats.skewtest)\n",
    "\n",
    "Ponadto możliwe jest użycie testów zgodności ogólnego przeznaczenia, pozwalających badać czy próba pochodzi z dowolnego założonego rozkładu, np.:\n",
    " - test Kołmogorowa-Smirnowa [`kstest()`](https://docs.scipy.org/doc/scipy/reference/generated/scipy.stats.kstest.html#scipy.stats.kstest)\n",
    " - test Andersona [`anderson()`](https://docs.scipy.org/doc/scipy/reference/generated/scipy.stats.anderson.html#scipy.stats.anderson)\n",
    " - test zgodności $\\chi^2$ [`chisquare()`](https://docs.scipy.org/doc/scipy/reference/generated/scipy.stats.chisquare.html#scipy.stats.chisquare) (tu próba jest zbyt mała, aby ten test mógł zostać użyty)\n",
    " \n",
    "Warto zwrócić tu uwagę, że generalnie rzecz biorąc testy ogólnego przeznaczenia mają zazwyczaj mniejszą moc (czyli prawdopodobieństwo uniknięcia błędu drugiego rodzaju) niż testy dedykowane danemu rozkładowi."
   ]
  },
  {
   "cell_type": "markdown",
   "id": "cb4ee401",
   "metadata": {},
   "source": [
    "#### Poniżej przeprowadzone zostaną testy normalności:\n",
    "#####  Test D\\`Agostino-Pearsone'a\n",
    "Test D\\`Agostino-Pearsone'a wymaga próby 20-elementowej więc wyniku tego testu nie nalezy brać pod uwagę w tym przypadku:"
   ]
  },
  {
   "cell_type": "code",
   "execution_count": 5,
   "id": "82ff0959",
   "metadata": {},
   "outputs": [
    {
     "name": "stderr",
     "output_type": "stream",
     "text": [
      "/home/wojciech/anaconda3/lib/python3.10/site-packages/scipy/stats/_stats_py.py:1736: UserWarning: kurtosistest only valid for n>=20 ... continuing anyway, n=10\n",
      "  warnings.warn(\"kurtosistest only valid for n>=20 ... continuing \"\n"
     ]
    },
    {
     "data": {
      "text/plain": [
       "NormaltestResult(statistic=0.6369499953525192, pvalue=0.7272572608497503)"
      ]
     },
     "execution_count": 5,
     "metadata": {},
     "output_type": "execute_result"
    }
   ],
   "source": [
    "st.normaltest(A)"
   ]
  },
  {
   "cell_type": "code",
   "execution_count": 6,
   "id": "63a07d63",
   "metadata": {},
   "outputs": [
    {
     "data": {
      "text/plain": [
       "NormaltestResult(statistic=0.6927067178075414, pvalue=0.7072625254353456)"
      ]
     },
     "execution_count": 6,
     "metadata": {},
     "output_type": "execute_result"
    }
   ],
   "source": [
    "st.normaltest(B)"
   ]
  },
  {
   "cell_type": "markdown",
   "id": "a1f91dfb",
   "metadata": {},
   "source": [
    "##### Test Shapiro-Wilka\n",
    "Test Shapiro-Wilka z kolei dobrze nadaje się dla niewielkich prób, natomiast nie należy używać go dla prób powyżej 5000 elementów. Test ten dla obu prób zwrócił duże wartości $p$-value (znacznie wyższe niż $0{,}05$) więc można uznać, że próby pochodzą z rozkładu normalnego (tj. brak podstaw do odrzucenia hipotezy zerowej zakładającej, że próba pochodzi z populacji o rozkładzie normalnym)."
   ]
  },
  {
   "cell_type": "code",
   "execution_count": 7,
   "id": "a8812454",
   "metadata": {},
   "outputs": [
    {
     "data": {
      "text/plain": [
       "ShapiroResult(statistic=0.9581910371780396, pvalue=0.7650653719902039)"
      ]
     },
     "execution_count": 7,
     "metadata": {},
     "output_type": "execute_result"
    }
   ],
   "source": [
    "st.shapiro(A)"
   ]
  },
  {
   "cell_type": "code",
   "execution_count": 8,
   "id": "d4ab828b",
   "metadata": {},
   "outputs": [
    {
     "data": {
      "text/plain": [
       "ShapiroResult(statistic=0.9333263039588928, pvalue=0.48139533400535583)"
      ]
     },
     "execution_count": 8,
     "metadata": {},
     "output_type": "execute_result"
    }
   ],
   "source": [
    "st.shapiro(B)"
   ]
  },
  {
   "cell_type": "markdown",
   "id": "3bf2b9ab",
   "metadata": {},
   "source": [
    "##### Test Kołmogorowa-Smirnowa\n",
    "Poniżej wykorzystano test Kołmogorowa-Smirnowa. W przypadku testu `kstest`, pierwszym krokiem jest estymacja rozkładu, ponieważ funkcja przeprowadzajaca test wymaga dystrybuanty celem porównania jej wartości z wartościami obserwowanymi w próbie."
   ]
  },
  {
   "cell_type": "code",
   "execution_count": 9,
   "id": "d7d4822c",
   "metadata": {},
   "outputs": [
    {
     "data": {
      "text/plain": [
       "KstestResult(statistic=0.17225303655791713, pvalue=0.8808679962892746, statistic_location=2.909, statistic_sign=-1)"
      ]
     },
     "execution_count": 9,
     "metadata": {},
     "output_type": "execute_result"
    }
   ],
   "source": [
    "rozklad_estymowany_A = st.norm(*st.norm.fit(A)) # estymacja rozkładu normalnego na podstawie próby A\n",
    "st.kstest(A,rozklad_estymowany_A.cdf) # przeprowadzenie testu dla próby A"
   ]
  },
  {
   "cell_type": "code",
   "execution_count": 10,
   "id": "1331af9d",
   "metadata": {},
   "outputs": [
    {
     "data": {
      "text/plain": [
       "KstestResult(statistic=0.25736901769625936, pvalue=0.4477511580819237, statistic_location=1.736, statistic_sign=1)"
      ]
     },
     "execution_count": 10,
     "metadata": {},
     "output_type": "execute_result"
    }
   ],
   "source": [
    "rozklad_estymowany_B = st.norm(*st.norm.fit(B)) # estymacja rozkładu normalnego na podstawie próby B\n",
    "st.kstest(B,rozklad_estymowany_B.cdf) # przeprowadzenie testu dla próby B"
   ]
  },
  {
   "cell_type": "markdown",
   "id": "d8d8f9b1",
   "metadata": {},
   "source": [
    "Również w tym przypadku wartości $p$-value są duże dla obu prób co wskazuje na to, że obie próby mogą pochodzić z populacji o rozkładzie normalnym.\n",
    "\n",
    "Na podstawie powyższych wyników testów można uznać, że obie próby pochodzą z prób o rozkładach normalnych. Jednak nie mówią one o tym, że te rozkłady normalne są identyczne. Aby to stwierdzić konieczne jest zbadanie średnich i wariancji w populacjach generalnych, z których pochodzą obie próby. "
   ]
  },
  {
   "cell_type": "markdown",
   "id": "62614020",
   "metadata": {},
   "source": [
    "##### Testy równości wariancji\n",
    "W celu sprawdzenia czy dwie próby mogą pochodzić z populacji o równych wariancjach można użyć testu Levene'a [`levene()`](https://docs.scipy.org/doc/scipy/reference/generated/scipy.stats.levene.html#scipy.stats.levene) lub Bartletta [`bartlett()`](https://docs.scipy.org/doc/scipy/reference/generated/scipy.stats.bartlett.html#scipy.stats.bartlett). W obu testach hipotezy zerowe reprezentują założenie o tym, że wariancje w populacjach są równe, natomiast hipotezy alternatywne stwierdzają, że wariancje nie są równe. W przypadku, gdy próby pochodzą z populacjach o rozkładach normalnych test Bartletta jest lepszą opcją.\n",
    "\n",
    "W obu przypadkach testy wykazały (duże $p$-value) co oznacza, że próby pochodzą z populacji o takich samych wariancjach."
   ]
  },
  {
   "cell_type": "code",
   "execution_count": 11,
   "id": "e0de6a00",
   "metadata": {},
   "outputs": [
    {
     "data": {
      "text/plain": [
       "BartlettResult(statistic=0.36648495216967586, pvalue=0.5449265325348611)"
      ]
     },
     "execution_count": 11,
     "metadata": {},
     "output_type": "execute_result"
    }
   ],
   "source": [
    "st.bartlett(A,B)"
   ]
  },
  {
   "cell_type": "code",
   "execution_count": 12,
   "id": "106b5ee6",
   "metadata": {},
   "outputs": [
    {
     "data": {
      "text/plain": [
       "LeveneResult(statistic=0.7245335578231206, pvalue=0.40584272292988344)"
      ]
     },
     "execution_count": 12,
     "metadata": {},
     "output_type": "execute_result"
    }
   ],
   "source": [
    "st.levene(A,B)"
   ]
  },
  {
   "cell_type": "markdown",
   "id": "22c7b9a2",
   "metadata": {},
   "source": [
    "##### Test równości średnich\n",
    "W analizowanym tu przypadku pozostaje jedynie określić czy populacje, z których pochodzą próby mają równe średnie. Test T-Studenta służy do porównania czy średnie w dwóch populacjach generalnych mogą być sobie równe. Test ten występuje w różnych odmianach w zależności od rozmiaru próby i tego czy wariancje w obu populacjach są równe czy nie. Jeśli próby mają liczebność poniżej 30 elementów, to test ten można przeprowadzić jeśli wiemy, że pochodzą one z populacji o rozkładach normalnych lub wykażemy taką ich własność. Jeśli próby liczą więcej niż 30 elementów to rozkłady populacji, z których pochodzą próby nie mają znaczenia. \n",
    "\n",
    "Ponadto istnieją różne wersje tego testu dla sytuacji, w których rozważamy próby wiązane lub niezależne (nazwa funkcji zaczyna się słowem `ttest_` i ma odpowiednią końcówkę: `rel` - powiązane (*ang.* related) lub `ind` - niezależne (*ang.* independent)). W tym przypadku rozważane próby są niezależne, gdyż ich elementy nie są w żaden sposób powiązane w pary. \n",
    "\n",
    "Hipotezą zerową tego testu jest założenie, że średnie w obu populacjach są sobie równe: $\\mu_X=\\mu_Y$. Dostępne hipotezy alternatywne to: \n",
    " - średnie są różne $\\mu_X \\neq \\mu_Y$ (argument dodatkowy: `alternative=\"two-sided\"`)\n",
    " - średnia A jest mniejsza niż średnia B $\\mu_X<\\mu_Y$ (argument dodatkowy: `alternative=\"less\"`)\n",
    " - średnia A jest większa niż  średnia B $\\mu_X>\\mu_Y$ (argument dodatkowy: `alternative=\"greater\"`)\n",
    "\n",
    "Tu staramy się rozstrzygnąć, czy średnie w ogóle się różnią więc wybieramy pierwszą hipotezę alternatywną.\n",
    "\n",
    "W rozważanym przypadku należy użyć testu T-Studenta dla dwóch średnich dla prób niezależnych [`ttest_ind()`](https://docs.scipy.org/doc/scipy/reference/generated/scipy.stats.ttest_ind.html#scipy.stats.ttest_ind). Argument `equal_var=True` oznacza, że test ma zostać przeprowadzony przy założeniu równości wariancji. Przekazanie tego argumentu jest uzasadnione wynikami testów dotyczących równości wariancji. Gdyby okazało się, że warnacje są różne to należy przekazać argument `equal_var=False`. (Oczywiście różne wariancje wykluaczyłyby możliwość, że próby pochodzą z jednej populacji generalnej lub dwóch identycznych populacji generalnych. W takim wypadku nasza analiza zakończyłaby się na etapie badania wariancji stwierdzeniem, że próby nie pochodzą z jednej populacji.)\n",
    "\n",
    "Poniżej przeprowadzono test dla równości średnich. Jak można zauważyć i w tym przypadku $p$-value ma wysoką wartość, co oznacza, że można uznać iż próby pochodzą z populacji o identycznych średnich."
   ]
  },
  {
   "cell_type": "code",
   "execution_count": 13,
   "id": "cc558161",
   "metadata": {},
   "outputs": [
    {
     "data": {
      "text/plain": [
       "Ttest_indResult(statistic=0.29394105929250974, pvalue=0.7721654925449409)"
      ]
     },
     "execution_count": 13,
     "metadata": {},
     "output_type": "execute_result"
    }
   ],
   "source": [
    "st.ttest_ind(A,B,equal_var=True,alternative=\"two-sided\")"
   ]
  },
  {
   "cell_type": "markdown",
   "id": "79e94c6a",
   "metadata": {},
   "source": [
    "**Uwaga**: W praktyce, aby zmniejszyć ryzyko popełnienia błędu pierwszego rodzaju we wnioskowaniu na temat równości średnich zaleca się pominięcie sprawdzenia równości wariancji i wykonywanie testu $T$ w wersji zaproponowanej przez Welcha (tj. przy założeniu różnych wariancji), chyba, że mamy pewność, że próby pochodzą z populacji o identycznych wariancjach."
   ]
  },
  {
   "cell_type": "code",
   "execution_count": 14,
   "id": "81257347",
   "metadata": {},
   "outputs": [
    {
     "data": {
      "text/plain": [
       "Ttest_indResult(statistic=0.2939410592925098, pvalue=0.7723057274774735)"
      ]
     },
     "execution_count": 14,
     "metadata": {},
     "output_type": "execute_result"
    }
   ],
   "source": [
    "st.ttest_ind(A,B,equal_var=False,alternative=\"two-sided\")"
   ]
  },
  {
   "cell_type": "markdown",
   "id": "6e3bc2bd",
   "metadata": {},
   "source": [
    "##### Podsumowanie\n",
    "\n",
    "Wszystkie testy statystyczne wykazały zgodnie z prawdą, że obie próby pochodzą z populacji o rozkładach normalnych z równymi wariancjami i średnimi. Zatem można uznać, że pomimo widocznych w próbach odchyłek wartości parametrów od wartości w populacji generalnej, próby pochodzą z tej samej populacji generalnej (lub z dwóch identycznych populacji generalnych)."
   ]
  },
  {
   "cell_type": "markdown",
   "id": "ff43f536",
   "metadata": {},
   "source": [
    "### 1.2. Podejście nieparametryczne\n",
    "\n",
    "W sytuacji, w której okazałoby się, że próby nie pochodzą z rozkładu normalnego zachodzi konieczność użycia testu nieparametrycznego testującego czy próby pochodzą z tej samej populacji generalnej (lub dwóch identycznych populacji). W takim przypadku wykorzystanie testów badających rozkłady jako całość jest jedynym możliwym podejściem. Oczywiście można to podejście zastosować również w przypadku, gdy próby pochodzą z populacji o rozkładach normalnych. Jednak użyte tu testy mają mniejszą moc niż wyżej przedstawione testy parametryczne. W praktyce jednak kwestię tę często można zaniedbać.\n",
    "\n",
    "W celu sprawdzenia czy próby pochodzą z populacji o identycznych rozkładach prawdopodobieństwa można użyć testów Eppsa-Singletona [`epps_singleton()`](https://docs.scipy.org/doc/scipy/reference/generated/scipy.stats.epps_singleton_2samp.html#scipy.stats.epps_singleton_2samp) lub testu Kołmogorowa-Smirnowa dla dwóch prób [`ks_2samp()`](https://docs.scipy.org/doc/scipy/reference/generated/scipy.stats.ks_2samp.html#scipy.stats.ks_2samp). Hipotezą zerową dla obu testów jest założenie, że rozkład w populacji $X$ jest identyczny z rozkładem w populacji $Y$. Hipoteza alternatywna stwierdza, że rozkłady te są różne.\n",
    "\n",
    "Jak można zaobserwować poniżej, wartości $p$-value dla obu testów są wysokie co oznacza, że brak jest podstaw do odrzucenia hipotezy zerowej. Oznacza to, że próby pochodzą z jednej populacji generalnej (bądź dwóch identycznych populacji generalnych)."
   ]
  },
  {
   "cell_type": "code",
   "execution_count": 15,
   "id": "ae325877",
   "metadata": {},
   "outputs": [
    {
     "data": {
      "text/plain": [
       "Epps_Singleton_2sampResult(statistic=1.1705314891882255, pvalue=0.8829261748064966)"
      ]
     },
     "execution_count": 15,
     "metadata": {},
     "output_type": "execute_result"
    }
   ],
   "source": [
    "st.epps_singleton_2samp(A,B)"
   ]
  },
  {
   "cell_type": "code",
   "execution_count": 16,
   "id": "45f1c089",
   "metadata": {},
   "outputs": [
    {
     "data": {
      "text/plain": [
       "KstestResult(statistic=0.3, pvalue=0.7869297884777761, statistic_location=1.736, statistic_sign=-1)"
      ]
     },
     "execution_count": 16,
     "metadata": {},
     "output_type": "execute_result"
    }
   ],
   "source": [
    "st.ks_2samp(A,B)"
   ]
  },
  {
   "cell_type": "markdown",
   "id": "9dead899",
   "metadata": {},
   "source": [
    "##### Podsumowanie\n",
    "\n",
    "Testy nieparametryczne zgodności pozwalają stwierdzić czy próby mogą pochodzić z jednej populacji lub populacji identycznych jeśli chodzi o rozkłady prawdopodobieństwa. W analizowanym tu przypadku testy potwierdziły fakt, że obie próby mogą pochodzić z jenej populacji generalnej (lub dwóch identycznych populacji)."
   ]
  },
  {
   "cell_type": "markdown",
   "id": "386713a7",
   "metadata": {},
   "source": [
    "### 1.3. Podejście permutacyjne\n",
    "\n",
    "Testów permutacyjnych nie używa się do sprawdzenia czy próby pochodzą z identycznych populacji generalnych. (Tę kwestię bardzo dobrze rozwiązują testy nieparametryczne przedstawione wyżej, lub pominięte tu testy [monte carlo](https://docs.scipy.org/doc/scipy/reference/generated/scipy.stats.monte_carlo_test.html#scipy.stats.monte_carlo_test).) Jednak czasem zachodzi potrzeba sprawdzenia czy dwie próby pochodzące z populacji o rozkładach innych niż normalne mogą mieć identyczne parametry np. średnie, odchylenia standardowe itp. Oczywiście to podejście można zastosować również dla prób pochodzących z rozkładów normalnych. \n",
    "\n",
    "Testy permutacyjne wymagają samodzielnego określenia hipotezy zerowej oraz adekwatnej statystyki testowej. Przykładowo w celu zbadania występowania istotnych rożnic między średnimi w dwóch populacjach należy utworzyć statystykę badającą różnicę między średnimi w próbach. Jest to ekwiwalent hipotezy zerowej mówiącej o równości średnich w badanych populacjach. Podobnie jak wcześniej otrzymanie dużej wartości $p$-value będzie sugerowało brak podstaw do odrzucenia hipotezy zerowej. Jeśli $p$-value okaże się małe należy odrzucić hipotezę zerową i przyjąć hipotezę alternatywną. Podobnie jak w przypadku testu T-Studenta konieczne jest określenie hipotezy alternatywnej i kwestii ewentualnego powiązania obserwacji w próbach. Jeśli próby są niepowiązane należy użyć argumentu `permutation_type=\"independent\"`, jeśli natomiast próby są powiązane, argument ten przyjmie wartość `permutation_type=\"samples\"`.\n",
    "\n",
    "Poniżej użyto testu permutacyjnego [`permutation_test`](https://docs.scipy.org/doc/scipy/reference/generated/scipy.stats.permutation_test.html#scipy.stats.permutation_test) do przeprowadzenia analizy badającej czy średnie w obu populacjach są równe. Statystykę testową będącą różnicą między średnimi w próbch oblicza funkcja `roznica_srednich(a,b)`. \n",
    "\n",
    "**Uwaga**: W przypadku użycia testu permutacyjnego wszystkie badane próby należy umieścić w krotce np.: `dane = (A,B)`."
   ]
  },
  {
   "cell_type": "code",
   "execution_count": 17,
   "id": "65837bbf",
   "metadata": {},
   "outputs": [
    {
     "data": {
      "text/plain": [
       "PermutationTestResult(statistic=0.14959999999999996, pvalue=0.7598, null_distribution=array([ 0.047 , -0.109 ,  0.252 , ...,  0.2738, -0.4478, -0.8142]))"
      ]
     },
     "execution_count": 17,
     "metadata": {},
     "output_type": "execute_result"
    }
   ],
   "source": [
    "def roznica_srednich(a,b):\n",
    "    return st.tmean(a) - st.tmean(b)\n",
    "\n",
    "dane = (A,B)\n",
    "st.permutation_test(dane,roznica_srednich,alternative=\"two-sided\",permutation_type=\"independent\")"
   ]
  },
  {
   "cell_type": "markdown",
   "id": "cd646d5b",
   "metadata": {},
   "source": [
    "Analogicznie wykorzystano test permutacyjny do zbadania występowania różnic między wartościami odchylenia standardowego w badanych populacjach generalnych."
   ]
  },
  {
   "cell_type": "code",
   "execution_count": 18,
   "id": "389a082c",
   "metadata": {},
   "outputs": [
    {
     "data": {
      "text/plain": [
       "PermutationTestResult(statistic=0.23467913960543374, pvalue=0.456, null_distribution=array([ 0.34118807,  0.06617651, -0.3081969 , ..., -0.25555623,\n",
       "        0.05309993, -0.0210066 ]))"
      ]
     },
     "execution_count": 18,
     "metadata": {},
     "output_type": "execute_result"
    }
   ],
   "source": [
    "def roznica_odch_std(a,b):\n",
    "    return st.tstd(a) - st.tstd(b)\n",
    "\n",
    "dane = (A,B)\n",
    "st.permutation_test(dane,roznica_odch_std,alternative=\"two-sided\",permutation_type=\"independent\")"
   ]
  },
  {
   "cell_type": "markdown",
   "id": "e920ee28",
   "metadata": {},
   "source": [
    "##### Podsumowanie \n",
    "\n",
    "W obu powyższych przypadkach zwrócone wartości $p$-value są duże więc brak jest podstaw do odrzucenia hipotez zerowych mówiących o braku różnic miedzy średnimi oraz odchyleniami standardowymi. Możemy zatem uznać, że obie próby pochodzą z rozkładów o identycznych średnich i odchyleniach standardowych."
   ]
  },
  {
   "cell_type": "markdown",
   "id": "70348cc1",
   "metadata": {},
   "source": [
    "## 2. Problem przykładowy\n",
    "\n",
    "Rozważmy dwie próby pochodzące z dwóch różnych populacji generalnych o takich samych wartościach oczekiwanych (wartościach średnich). Próba $x$ pochodzi z populacji generalnej o rozkładzie normalnym ze średnią $\\mu_X=5$ i odchyleniem standardowym $\\sigma_X=1$. Próba $y$ pochodzi z rozkładu wykładniczego (eksponencjalnego) o wartości parametru $\\lambda=\\frac{1}{5}$ co przekłada się na wartość oczekiwaną tego rozkładu równą $\\mu_Y=\\frac{1}{\\lambda}=5$ i odchylenie standardowe $\\sigma_Y=\\frac{1}{\\lambda}=5$. Oba rozkłady zaprezentowano na poniższym wykresie. Jak widać rozkłady te bardzo się różnią."
   ]
  },
  {
   "cell_type": "code",
   "execution_count": 19,
   "id": "124e4754",
   "metadata": {},
   "outputs": [
    {
     "data": {
      "image/png": "[encoded data removed]",
      "text/plain": [
       "<Figure size 640x480 with 1 Axes>"
      ]
     },
     "metadata": {},
     "output_type": "display_data"
    }
   ],
   "source": [
    "rozkladNormalny = st.norm(5,1)\n",
    "rozkladWykladniczy = st.expon(scale=5)\n",
    "t = np.linspace(rozkladNormalny.mean()-5*rozkladNormalny.std(),rozkladNormalny.mean()+5*rozkladNormalny.std(),500)\n",
    "plt.plot(t, rozkladNormalny.pdf(t))\n",
    "plt.plot(t, rozkladWykladniczy.pdf(t))\n",
    "plt.xlabel(\"wartości cechy\")\n",
    "plt.ylabel(\"wartości gęstości rozkładu prawdopodobieństwa\")\n",
    "plt.legend([\"$N(5,1)$\",\"$Exp(1/5)$\"])\n",
    "plt.title(\"Porównanie gęstości rozkładów $N(5,1)$ oraz $Exp(1/5)$\")\n",
    "pass"
   ]
  },
  {
   "cell_type": "markdown",
   "id": "f4e479c4",
   "metadata": {},
   "source": [
    "Poniżej dane są wartości zaobserwowane w próbach pochodzących z wyżej przedstawionych rozkładów. Liczba elementów w próbie $x$ wynosi $n_x=25$ natomiast w próbie $y$ jest to $n_y=29$."
   ]
  },
  {
   "cell_type": "code",
   "execution_count": 20,
   "id": "34a6be25",
   "metadata": {},
   "outputs": [],
   "source": [
    "x = np.array([6.568, 5.017, 5.908, 6.637, 6.692, 5.266, 3.82 , 4.438, 4.735,\n",
    "              4.628, 5.57 , 5.199, 5.504, 3.391, 4.223, 3.986, 6.321, 3.891,\n",
    "              7.494, 3.032, 5.747, 3.771, 5.285, 5.024, 3.461])\n",
    "\n",
    "y = np.array([ 7.786,  9.361,  4.241, 18.56 ,  3.415,  9.695,  1.622,  2.875,\n",
    "               2.308,  2.631, 15.12 , 13.206,  0.152,  3.405,  3.474, 12.178,\n",
    "               3.43 , 47.973,  1.107,  3.737,  0.305,  2.83 ,  2.741,  1.689,\n",
    "               3.649,  1.506,  3.741,  3.631,  2.683])"
   ]
  },
  {
   "cell_type": "markdown",
   "id": "2202d746",
   "metadata": {},
   "source": [
    "Poniżej przedstawiona zostanie analiza analogiczna jak w [poprzednim przypadku](#1.-Problem-przykładowy), jednak \n",
    "tym razem spodziewamy się następujących wyników:\n",
    " - testy normalności rozkładu potwierdzą, że próba $x$ pochodzi z rozkładu normalnego i wykluczą, że próba $y$ pochodzi z rozkładu normalnego;\n",
    " - testy dla równości średnich powinny wykazać, że próby pochodzą z populacji o identycznych wartościach średnich;\n",
    " - testy badające równość wariancji powinny wykazać, że wariancje populacji, z których pochodzą próby nie są równe."
   ]
  },
  {
   "cell_type": "markdown",
   "id": "2df18f5b",
   "metadata": {},
   "source": [
    "### 2.1. Podejście klasyczne\n",
    "\n",
    "Podobnie jak w poprzednim przypadku należy zacząć od sprawdzenia czy próby mogą pochodzić z populacji o rozkładach normalnych. Jak można zauważyć w przypadku próby $x$ żaden z użytych testów nie wykluczył (duża wartość $p$-value), że próba pochodzi z populacji o rozkładzie normalnym. W przypadku próby $y$ oba testy odrzuciły hipotezę (mała wartość $p$-value) mówiącą o tym, że wartości te mogą pochodzić z populacji o rozkładzie normalnym. Zatem można stwierdzić, że próba $x$ pochodzi z populacji o rozkładzie normalnym, a próba $y$ nie pochodzi z populacji o rozkładzie normalnym."
   ]
  },
  {
   "cell_type": "markdown",
   "id": "e1b7b258",
   "metadata": {},
   "source": [
    "##### Przeprowadzenie testów normalności rozkładów"
   ]
  },
  {
   "cell_type": "code",
   "execution_count": 21,
   "id": "e6631a48",
   "metadata": {},
   "outputs": [
    {
     "data": {
      "text/plain": [
       "ShapiroResult(statistic=0.9763121008872986, pvalue=0.8037142753601074)"
      ]
     },
     "execution_count": 21,
     "metadata": {},
     "output_type": "execute_result"
    }
   ],
   "source": [
    "st.shapiro(x)"
   ]
  },
  {
   "cell_type": "code",
   "execution_count": 22,
   "id": "d4667190",
   "metadata": {},
   "outputs": [
    {
     "data": {
      "text/plain": [
       "ShapiroResult(statistic=0.5743852853775024, pvalue=5.116459433907039e-08)"
      ]
     },
     "execution_count": 22,
     "metadata": {},
     "output_type": "execute_result"
    }
   ],
   "source": [
    "st.shapiro(y)"
   ]
  },
  {
   "cell_type": "code",
   "execution_count": 23,
   "id": "c4dd22fd",
   "metadata": {},
   "outputs": [
    {
     "data": {
      "text/plain": [
       "NormaltestResult(statistic=0.8656165929450055, pvalue=0.6486848350571897)"
      ]
     },
     "execution_count": 23,
     "metadata": {},
     "output_type": "execute_result"
    }
   ],
   "source": [
    "st.normaltest(x)"
   ]
  },
  {
   "cell_type": "code",
   "execution_count": 24,
   "id": "0ae52772",
   "metadata": {},
   "outputs": [
    {
     "data": {
      "text/plain": [
       "NormaltestResult(statistic=48.57330750787588, pvalue=2.834263936271066e-11)"
      ]
     },
     "execution_count": 24,
     "metadata": {},
     "output_type": "execute_result"
    }
   ],
   "source": [
    "st.normaltest(y)"
   ]
  },
  {
   "cell_type": "markdown",
   "id": "1013b402",
   "metadata": {},
   "source": [
    "##### Test Levene'a równości wariancji \n",
    "\n",
    "Test Levene'a o równości wariacji nie wymaga, aby próby pochodziły z rozkładów normalnych. Jednak w przypadku rozkładów mocno skośnych (np. rozkładu wykładniczego) należy jako miary centralnej użyć nie mediany a średniej ucinanej, dlatego przekazany został tu argument `center=\"trimmed\"`. Obliczona wartość $p$-value jest mała co sugeruje, ze wariancje obu badanych populacji generalnych są różne."
   ]
  },
  {
   "cell_type": "code",
   "execution_count": 25,
   "id": "c03c0edb",
   "metadata": {},
   "outputs": [
    {
     "data": {
      "text/plain": [
       "LeveneResult(statistic=21.458565547300573, pvalue=2.7848576722979094e-05)"
      ]
     },
     "execution_count": 25,
     "metadata": {},
     "output_type": "execute_result"
    }
   ],
   "source": [
    "st.levene(x,y,center=\"trimmed\")"
   ]
  },
  {
   "cell_type": "markdown",
   "id": "16ad9553",
   "metadata": {},
   "source": [
    "W przypadku użycia mediany (czyli domyślnej miary centralnej dla testu Levene'a) wyniki mogą być obarczone dużym błędem, jeśli badanie dotyczy rozkładu o dużej skośności. Można to zauważyć poniżej, gdzie przeprowadzony test nie prowadzi do odrzucenia hipotezy mówiącej o równości wariancji w obu populacjach."
   ]
  },
  {
   "cell_type": "code",
   "execution_count": 26,
   "id": "7183708e",
   "metadata": {},
   "outputs": [
    {
     "data": {
      "text/plain": [
       "LeveneResult(statistic=3.894643012119744, pvalue=0.05376530284110715)"
      ]
     },
     "execution_count": 26,
     "metadata": {},
     "output_type": "execute_result"
    }
   ],
   "source": [
    "st.levene(x,y,center=\"median\")"
   ]
  },
  {
   "cell_type": "markdown",
   "id": "ff10a4c5",
   "metadata": {},
   "source": [
    "##### Podsumowanie\n",
    "Na podstawie otrzymanych wyników możemy stwierdzić, że próby nie pochodzą z jednej populacji bądź z dwóch identycznych populacji. Ponadto uzyskanie informacji o tym, że jedna z prób nie pochodzi z rozkładu normalnego wyklucza zastosowanie testów wymagających spełnienia takiego założenia (np. testu $T$ dla dwóch prób, jeśli próba liczy mniej niż 30 elementów). W tym momencie nie ma możliwości kontynuowania wcześniej przedstawionego podejścia i należy wykorzystać metody nieparametryczne i permutacyjne w celu dalszej analizy prób."
   ]
  },
  {
   "cell_type": "markdown",
   "id": "e22fac4b",
   "metadata": {},
   "source": [
    "### 2.2. Podejście nieparametryczne\n",
    "\n",
    "Poniżej przeprowadzono testy badające hipotezę, że próby mogą pochodzić z jednej populacji bądź dwóch identycznych populacji. Oba testy zwróciły bardzo małe wartości $p$-value. Sugeruje to, że obie próby pochodzą z różnych populacji generalnych, co jak wiemy jest zgodne z prawdą."
   ]
  },
  {
   "cell_type": "code",
   "execution_count": 27,
   "id": "0b23f133",
   "metadata": {},
   "outputs": [
    {
     "data": {
      "text/plain": [
       "Epps_Singleton_2sampResult(statistic=82.71029844774402, pvalue=4.6408027515520835e-17)"
      ]
     },
     "execution_count": 27,
     "metadata": {},
     "output_type": "execute_result"
    }
   ],
   "source": [
    "st.epps_singleton_2samp(x,y)"
   ]
  },
  {
   "cell_type": "code",
   "execution_count": 28,
   "id": "8f47fd59",
   "metadata": {},
   "outputs": [
    {
     "data": {
      "text/plain": [
       "KstestResult(statistic=0.5696551724137932, pvalue=0.00014443026706346523, statistic_location=3.741, statistic_sign=-1)"
      ]
     },
     "execution_count": 28,
     "metadata": {},
     "output_type": "execute_result"
    }
   ],
   "source": [
    "st.ks_2samp(x,y)"
   ]
  },
  {
   "cell_type": "markdown",
   "id": "f9e9914b",
   "metadata": {},
   "source": [
    "### 2.3. Podejście permutacyjne\n",
    "\n",
    "Pomimo tego, że wykluczyliśmy iż próby mogą pochodzić z identycznych rozkładów w dalszym ciągu może nas interesować relacja między odpowiadającymi sobie parametrami populacji, z których pochodzą próby. W takim przypadku najwygodniejszym podejściem jest wykorzystanie metod permutacyjnych. Sposób postępowania jest identyczny jak w poprzednim przykładzie. \n",
    "\n",
    "##### Porównanie wartości średnich w populacjach\n",
    "Poniżej przeprowadzono test permutacyjncy badający równość dla wartości oczekiwanych w dwóch populacjach, z których pochodzą próby. Jak widać obliczona wartość $p$-value jest duża, co pozwala stwierdzić, że próby mogą pochodzić z populacji o takich samych wartościach oczekiwanych."
   ]
  },
  {
   "cell_type": "code",
   "execution_count": 29,
   "id": "e519bb22",
   "metadata": {},
   "outputs": [
    {
     "data": {
      "text/plain": [
       "PermutationTestResult(statistic=-1.4946800000000007, pvalue=0.5274, null_distribution=array([-1.99356552,  1.95454207, -0.55232414, ...,  0.74896414,\n",
       "       -0.61667724, -1.80989103]))"
      ]
     },
     "execution_count": 29,
     "metadata": {},
     "output_type": "execute_result"
    }
   ],
   "source": [
    "dane = (x,y)\n",
    "st.permutation_test(dane,roznica_srednich,alternative=\"two-sided\",permutation_type=\"independent\")"
   ]
  },
  {
   "cell_type": "markdown",
   "id": "551c6c01",
   "metadata": {},
   "source": [
    "##### Porównanie odchyleń standardowych w obu populacjach\n",
    "\n",
    "Przeprowadzony poniżej test o równości odchyleń standardowych w populacjach odrzuca hipotezę mówiącą o równości tych parametrów w populacjach, z których pochodzą próby."
   ]
  },
  {
   "cell_type": "code",
   "execution_count": 30,
   "id": "d7457b0a",
   "metadata": {},
   "outputs": [
    {
     "data": {
      "text/plain": [
       "PermutationTestResult(statistic=-8.04078644922208, pvalue=0.0002, null_distribution=array([ 5.75699903, -6.36703319, -5.12795119, ...,  4.73121417,\n",
       "        4.91170289, -4.68620405]))"
      ]
     },
     "execution_count": 30,
     "metadata": {},
     "output_type": "execute_result"
    }
   ],
   "source": [
    "dane = (x,y)\n",
    "st.permutation_test(dane,roznica_odch_std,alternative=\"two-sided\",permutation_type=\"independent\")"
   ]
  },
  {
   "cell_type": "markdown",
   "id": "557e8155",
   "metadata": {},
   "source": [
    "## Podsumowanie\n",
    "\n",
    "Powyżej przedstawiono praktyczny sposób wykorzystania testów w statsytycznej analizie danych. W pierwszym przypadku analizowano dwie próby, które pochodziły z tej samej populacji generalnej. Przeprowadzone testy statystyczne potwierdziły ten fakt. \n",
    "\n",
    "W przykładzie drugim analizowane były dwie próby pochodzące z populacji generalnych o dwóch różnych rozkładach, ale o takich samych wartościach średnich. Również ten fakt został potwierdzony na skutek przeprowadzonego postępowania statystycznego.\n",
    "\n",
    "W rzeczywistości, zwykle inaczej niż w wyżej przedstawionych przypadkach, nie mamy tak szczegółowych informacji na temat populacji, z których pochodzą próby. Zatem to testy statystyczne umożliwiają nam postawienie hipotez i z dużym prawdopodobieństwem ustalenie pewnych faktów, które są dla nas interesujące. Oczywiście w zwiazku z ryzykiem popełnienia błędów $I$ oraz $II$ typu w testowaniu hipotez nigdy nie mamy stu procentowej gwarancji, że wniosek jest prawidłowy. Jednak stwierdzenie jakiegoś faktu z dużym prawdopodobieństwem jest zwykle bardzo przydatne i wystarczające."
   ]
  }
 ],
 "metadata": {
  "authors": [
   {
    "name": "Wojciech Artichowicz"
   }
  ],
  "kernelspec": {
   "display_name": "Python 3 (ipykernel)",
   "language": "python",
   "name": "python3"
  },
  "language_info": {
   "codemirror_mode": {
    "name": "ipython",
    "version": 3
   },
   "file_extension": ".py",
   "mimetype": "text/x-python",
   "name": "python",
   "nbconvert_exporter": "python",
   "pygments_lexer": "ipython3",
   "version": "3.8.13"
  },
  "title": "Statystyczna analiza danych - testy statystyczne"
 },
 "nbformat": 4,
 "nbformat_minor": 5
}

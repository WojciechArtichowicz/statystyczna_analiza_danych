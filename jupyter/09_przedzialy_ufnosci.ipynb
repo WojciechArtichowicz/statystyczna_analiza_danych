{
 "cells": [
  {
   "attachments": {
    "obraz.png": {
     "image/png": "[encoded data removed]"
    }
   },
   "cell_type": "markdown",
   "metadata": {},
   "source": [
    "# Statystyka opisowa - przedziały ufności\n",
    "\n",
    "### Statystyczna analiza danych\n",
    "**dr inż. Wojciech Artichowicz**\n",
    "\n",
    "**Katedra Geotechniki i Inżynierii Wodnej PG**\n",
    "\n",
    "### Przedziały ufności\n",
    "\n",
    "Przedział ufności dla dowolnego parametru $\\theta$ populacji generalnej jest to przedział, który z zadanym dużym prawdopodobieństwem (tzw. poziomem ufności) pokrywa wartość szukanego parametru w populacji generalnej. Ogólnie przedział taki wyznaczony dla parametru $\\theta$ oznacza się jako:\n",
    "\n",
    "$$P(T_n^{(1)}<\\theta<T_n^{(2)})=1-\\alpha$$\n",
    "\n",
    "![obraz.png](attachment:obraz.png)\n",
    "\n",
    "gdzie:\n",
    " - $(1-\\alpha)$ - jest poziomem ufności, jego wartość jedt duża, tzn bliska jedności;\n",
    " - $T_n^{(1)}$,$T_n^{(2)}$ - oznacza granice przedziału ufności określone na podstawie $n$-elementowej próby;\n",
    " - $P()$ - oznacza prawdopodobieństwo;\n",
    " \n",
    "Parametrem oznaczanym ogólnie jako $\\theta$ może być średnia, odchylenie standardowe, mediana lub dowolny inny interesujący nas parameter.\n",
    " \n",
    "Powyższy wzór interpretuje się standardowo jako prawdopobieństwo tego, że zmienna losowa przyjmie wartość z zadanego przedziału $[a,b]$: $P(a<X<b)$. Zmienną losową jest tu wartość oszacowania parametru $\\theta$ na podstawie próby. Ponadto prawdopodobieństwo jest tu zadane w postaci ufności ($1-\\alpha$), a to granice $a=T_n^{(1)}$ i $b=T_n^{(2)}$ mają zostać wyznaczone. \n",
    " \n",
    "Fakt, że przedział ufności pokrywa wartość poszukiwanego parametru z zadanym z góry prawdopodobieństwem oznacza, że to utworzony przedział może pokrywać pawdziwą wartość parametru z zadanym prawdopodobieństwem. Błędne natomiast jest stwierdzenie, że to parametr znajduje się w tym przedziale z zadanym prawdopodobieństwem. Parametr w populacji jest wartością ustaloną, natomiast my staramy się określić tę wartość na podstawie próby. Może się zdarzyć tak, że wartości zaobserwowane w próbie będą wartościami nietypowymi z perspektywy populacji, że określona na podstawie próby wartość parametru będzie bardzo odległa od prawdziwej wartości w populacji.\n",
    "\n",
    "Przedział ufności z dużym prawdopodobieństwm $1-\\alpha$ pokrywa prawdziwą wartość estymowanego parametru. Określenie \"duże prawdopodobieństwo\" oznacza tu wartość bliską jedności np.: $0{,}95$, $0{,}99$, $0{,}999$, itd. Oznacza to, że z prawdopodobieństwem $\\alpha$ skonstruowany przedział ufności może nie pokryć prawdziwej wartości poszukiwanego parametru. \n",
    "\n",
    "Przedziały ufności wyprowadza sie na podstawie założeń co do rozkładu z jakiego pochodzi próba i innych dodatkowych zależności i twierdzeń. Wiąże się to z koniecznością spełnienia założeń przez próbę np. dotyczących rozkładu, z którego próba pochodzi, wielkości próby, itp. W związku z tym jest wiele wzorów służących do wyznaczenia przedziałów ufności dla tego samego parametru, w zależności od założeń, które spełnia próba.\n",
    "\n",
    "#### Przykład: przedziały ufności dla średniej\n",
    "\n",
    "Przykładowo przedziały ufności dla średniej oblicza się następująco:\n",
    " 1. Przy założeniu, że próba pochodzi z rozkładu normalnego i znane jest odchylenie standardowe w populacji (wówczas rozmiar próby nie ma znaczenia):\n",
    " $$CI_\\mu=\\left[ \\bar{x}-\\frac{s}{\\sqrt{n}}u_{1-\\alpha/2} \\; ; \\;\\bar{x}+\\frac{s}{\\sqrt{n}}u_{1-\\alpha/2}\\right]$$\n",
    "  gdzie $u_{1-\\alpha/2}$ jest kwantylem rozkładu normalnego standardowego $N(0,1)$\n",
    "  \n",
    " \n",
    " 2. Przy założeniu, że próba pochodzi z rozkładu normalnego i odchylenie standardowe jest obliczone na podstawie próby, a próba jest mała (w tym przypadku oznacza to mniej niż 30 elementów):\n",
    "   $$CI_\\mu=\\left[ \\bar{x}-\\frac{\\sigma}{\\sqrt{n}}t_{n-1,1-\\alpha/2} \\; ; \\;\\bar{x}+\\frac{\\sigma}{\\sqrt{n}}t_{n-1,1-\\alpha/2}\\right]$$\n",
    "   gdzie $t_{n-1,1-\\alpha/2}$ jest kwantylem rozkładu t-Studenta o $n-1$ stopniach swobody.\n",
    "   \n",
    "   \n",
    " 3. Jeśli próba jest duża (powyżej 30 elementów) to na mocy centralnego tw. granicznego nie ma znaczenia z jakiego rozkładu pochodzi próba:\n",
    " $$CI_\\mu=\\left[ \\bar{x}-\\frac{s}{\\sqrt{n}}u_{1-\\alpha/2} \\; ; \\;\\bar{x}+\\frac{s}{\\sqrt{n}}u_{1-\\alpha/2}\\right]$$\n",
    "  gdzie $u_{1-\\alpha/2}$ jest kwantylem rozkładu normalnego standardowego $N(0,1)$\n"
   ]
  },
  {
   "cell_type": "markdown",
   "metadata": {},
   "source": [
    "Funkcja relaizująca powyższy schemat obliczeń mogłaby wyglądać następująco:"
   ]
  },
  {
   "cell_type": "code",
   "execution_count": 1,
   "metadata": {},
   "outputs": [],
   "source": [
    "import numpy as np\n",
    "import scipy.stats as st"
   ]
  },
  {
   "cell_type": "code",
   "execution_count": 2,
   "metadata": {},
   "outputs": [],
   "source": [
    "def MeanCI(x,ConfidenceLevel=0.95,KnownStandardDeviation=None):\n",
    "    m = st.tmean(x)    \n",
    "    a = 1-ConfidenceLevel\n",
    "    N = len(x)    \n",
    "    if KnownStandardDeviation is None:\n",
    "        if N <= 30:\n",
    "            print(\"Obliczenie dla: próba mała pochodząca z rozkładu normalnego, nieznane odchylenie w populacji, próba mała\")\n",
    "            s = np.std(x)\n",
    "            StudentTDistribution = st.t(N-1)\n",
    "            ta = StudentTDistribution.ppf(ConfidenceLevel+a/2.)\n",
    "            CI = ta*s/N**0.5\n",
    "        else:\n",
    "            print(\"Obliczenie dla próby dużej. Brak założeń co do rozkładu z którego pochodzi próba.\")\n",
    "            s = np.std(x)\n",
    "            NormalDistribution = st.norm()\n",
    "            ua = NormalDistribution.ppf(ConfidenceLevel+a/2.)\n",
    "            CI = ua*s/N**0.5            \n",
    "            \n",
    "    else:\n",
    "        print(\"Obliczenie dla próby pochodzącej z rozkładu normalnego, znane odchylenie standardowe w populacji.\")\n",
    "        NormalDistribution = st.norm()\n",
    "        ua = NormalDistribution.ppf(ConfidenceLevel+a/2.)        \n",
    "        CI = ua*KnownStandardDeviation/N**0.5\n",
    "    \n",
    "    return np.array( (m - CI,m + CI) )\n"
   ]
  },
  {
   "cell_type": "markdown",
   "metadata": {},
   "source": [
    "Wygenerowanie wartości pochodzących z rozkładu normalnego, w celu przetestowania funkcji. W rzeczywistości będą to oczywiscie prawdziwe dane, co do których zwykle nie mamy pewności z jakiego rozkładu pochodzą."
   ]
  },
  {
   "cell_type": "code",
   "execution_count": 3,
   "metadata": {},
   "outputs": [
    {
     "data": {
      "text/plain": [
       "array([7.98313379, 6.2555613 , 3.04693398, 4.17202294, 3.40793896,\n",
       "       2.76554841, 6.76646124, 4.40152709, 4.98924275, 1.34125945])"
      ]
     },
     "execution_count": 3,
     "metadata": {},
     "output_type": "execute_result"
    }
   ],
   "source": [
    "x = st.norm(5,2).rvs(10) \n",
    "x"
   ]
  },
  {
   "cell_type": "code",
   "execution_count": 4,
   "metadata": {},
   "outputs": [
    {
     "name": "stdout",
     "output_type": "stream",
     "text": [
      "Obliczenie dla: próba mała pochodząca z rozkładu normalnego, nieznane odchylenie w populacji, próba mała\n"
     ]
    },
    {
     "data": {
      "text/plain": [
       "array([3.13702146, 5.88890452])"
      ]
     },
     "execution_count": 4,
     "metadata": {},
     "output_type": "execute_result"
    }
   ],
   "source": [
    "MeanCI(x,ConfidenceLevel=0.95)"
   ]
  },
  {
   "cell_type": "markdown",
   "metadata": {},
   "source": [
    "Obliczenia ze znanym odchyleniem standardowym. Jest to przypadek czysto teoretyczny, ponieważ zazwyczaj odchylenie określa się na podstawie próby."
   ]
  },
  {
   "cell_type": "code",
   "execution_count": 5,
   "metadata": {},
   "outputs": [
    {
     "name": "stdout",
     "output_type": "stream",
     "text": [
      "Obliczenie dla próby pochodzącej z rozkładu normalnego, znane odchylenie standardowe w populacji.\n"
     ]
    },
    {
     "data": {
      "text/plain": [
       "array([3.27337293, 5.75255306])"
      ]
     },
     "execution_count": 5,
     "metadata": {},
     "output_type": "execute_result"
    }
   ],
   "source": [
    "MeanCI(x,ConfidenceLevel=0.95,KnownStandardDeviation=2)"
   ]
  },
  {
   "cell_type": "markdown",
   "metadata": {},
   "source": [
    "Wygenerownie próby dużej do testowania funkcji"
   ]
  },
  {
   "cell_type": "code",
   "execution_count": 6,
   "metadata": {},
   "outputs": [],
   "source": [
    "xd = st.norm(5,2).rvs(100) "
   ]
  },
  {
   "cell_type": "code",
   "execution_count": 7,
   "metadata": {},
   "outputs": [
    {
     "name": "stdout",
     "output_type": "stream",
     "text": [
      "Obliczenie dla próby dużej. Brak założeń co do rozkładu z którego pochodzi próba.\n"
     ]
    },
    {
     "data": {
      "text/plain": [
       "array([4.38834813, 5.25180186])"
      ]
     },
     "execution_count": 7,
     "metadata": {},
     "output_type": "execute_result"
    }
   ],
   "source": [
    "MeanCI(xd,ConfidenceLevel=0.95)"
   ]
  },
  {
   "cell_type": "markdown",
   "metadata": {},
   "source": [
    "### Bootstrapowe przedziały ufności\n",
    "\n",
    "Jak można zauważyć powyżej, obliczenia przedziałów ufności wiążą się z pewnymi trudnościami. Np. w przypadku analizy wartości średniej, gdy próba nie pochodzi z rozkładu normalnego i liczy poniżej 30 elementów (próba mała), lub gdy interesuje nas jakiś mało zbadany parametr (np. moment rzędu czwartego). W takim wypadku konieczne byłoby samodzielne wyprowadzenie wzoru na przedziały ufności dla typu rozkładu, z którego pochodzi próba. Jest to oczywiście bardzo niepraktyczne i trudne. W związku z tym używa się bardzo ogólnego podejścia zwanego metodą bootstrapową, które nie nakłada wyżej wymienionych wymagań w postaci założeń. \n",
    "\n",
    "Metody bootstrapowe polegają na wielokrotnym losowaniu wartości z próby i obliczaniu badanej statystyki. Dzięki temu możliwe jest zbudowanie rozkładu dowolnej badanej statystyki właściwie bez konieczności spełnienia żadnych założeń. Jedynie wielkość próby nie może być zbyt mała (powinna mieć przynajmniej 20-30 elementów). Metody bootstrapowe są podparte solidną teorią i dają solidne wyniki pomimo swojej elastyczności.\n",
    "\n",
    "Obliczenie bootstrapowych przedziałów ufności realizuje się przy użyciu funkcji [`bootstrap()`](https://docs.scipy.org/doc/scipy/reference/generated/scipy.stats.bootstrap.html#scipy.stats.bootstrap). Pobiera ona wektor danych oraz funkcję obliczającą interesującą statystykę. Uwaga dane są pobierane jako krotka `(dane,)`. Argument `vectorized=False` związany jest z optymalizacją obliczeń. Jeśli jego wartosć zostanie ustawiona na `True`, obliczenia będą wydajniejsze, ale funkcja obliczająca statystykę będzie musiała spełniać dodatkowe warunki umożliwiające jej automatyczną wektoryzację."
   ]
  },
  {
   "cell_type": "markdown",
   "metadata": {},
   "source": [
    "#### Obliczenie bootstrapowych przedziałów ufności dla średniej"
   ]
  },
  {
   "cell_type": "code",
   "execution_count": 8,
   "metadata": {},
   "outputs": [
    {
     "data": {
      "text/plain": [
       "BootstrapResult(confidence_interval=ConfidenceInterval(low=3.399659515092275, high=5.824509270421345), bootstrap_distribution=array([4.30773294, 5.0290305 , 6.26125577, ..., 3.47700764, 5.14890349,\n",
       "       4.15696121]), standard_error=0.6180452055646898)"
      ]
     },
     "execution_count": 8,
     "metadata": {},
     "output_type": "execute_result"
    }
   ],
   "source": [
    "st.bootstrap((x,),st.tmean,confidence_level=0.95, vectorized=False)"
   ]
  },
  {
   "cell_type": "code",
   "execution_count": 9,
   "metadata": {},
   "outputs": [
    {
     "data": {
      "text/plain": [
       "BootstrapResult(confidence_interval=ConfidenceInterval(low=4.385928403818519, high=5.253150591343285), bootstrap_distribution=array([4.36109159, 4.59941876, 4.84971629, ..., 5.34160567, 4.87996263,\n",
       "       4.82908529]), standard_error=0.22127869068585185)"
      ]
     },
     "execution_count": 9,
     "metadata": {},
     "output_type": "execute_result"
    }
   ],
   "source": [
    "st.bootstrap((xd,),st.tmean, confidence_level=0.95, vectorized=False)"
   ]
  },
  {
   "cell_type": "markdown",
   "metadata": {},
   "source": [
    "#### Obliczenie bootstrapowych przedziałów ufności dla odchylenia standardowego"
   ]
  },
  {
   "cell_type": "code",
   "execution_count": 10,
   "metadata": {},
   "outputs": [
    {
     "data": {
      "text/plain": [
       "BootstrapResult(confidence_interval=ConfidenceInterval(low=1.4792183880737297, high=2.896010491224773), bootstrap_distribution=array([1.40155757, 2.03517105, 2.22241627, ..., 1.51437939, 1.4774215 ,\n",
       "       1.31658596]), standard_error=0.3655817467248258)"
      ]
     },
     "execution_count": 10,
     "metadata": {},
     "output_type": "execute_result"
    }
   ],
   "source": [
    "st.bootstrap((x,),st.tstd,confidence_level=0.95, vectorized=False)"
   ]
  },
  {
   "cell_type": "code",
   "execution_count": 11,
   "metadata": {},
   "outputs": [
    {
     "data": {
      "text/plain": [
       "BootstrapResult(confidence_interval=ConfidenceInterval(low=1.977297077577767, high=2.5075051174169545), bootstrap_distribution=array([2.03708708, 2.22969552, 2.20777283, ..., 2.17017115, 2.30616022,\n",
       "       1.98610725]), standard_error=0.1342787973548828)"
      ]
     },
     "execution_count": 11,
     "metadata": {},
     "output_type": "execute_result"
    }
   ],
   "source": [
    "st.bootstrap((xd,),st.tstd,confidence_level=0.95, vectorized=False)"
   ]
  },
  {
   "cell_type": "markdown",
   "metadata": {},
   "source": [
    "### Przedziały ufności - komentarz\n",
    "\n",
    "Poniższy przykład w sposób graficzny przedstawia sytuację, w której dla wielu skonstruowanych przedziałów ufności część nie będzie pokrywać wartości parametru w populacji. Kolorem czerwonym przedstawiona jest średnia populacji generalnej. Skrypt generuje $K$ $N$-elementowych prób pochodzących z tego samego rozkładu i oblicza dla każdej z nich przedział ufności. Następnie prezentuje każdy z nich w postaci graficznej jako poziomą linię. Poziome linie oznaczają otrzymane kolejne przedziały ufności. Te które nie przecinają się z pionową linią czerwoną, nie pokrywają w ogóle prawdziwej wartości średniej w populacji.\n",
    "\n",
    "Aby zbadać własności przedziałów ufności wykonaj eksperymenty, w których będziesz manipulować wartościami $K$, $N$ oraz $\\alpha$."
   ]
  },
  {
   "cell_type": "code",
   "execution_count": 12,
   "metadata": {},
   "outputs": [],
   "source": [
    "import numpy as np\n",
    "import scipy as sp\n",
    "import scipy.stats as st\n",
    "import matplotlib.pyplot as plt"
   ]
  },
  {
   "cell_type": "code",
   "execution_count": 13,
   "metadata": {},
   "outputs": [
    {
     "data": {
      "image/png": "[encoded data removed]",
      "text/plain": [
       "<Figure size 640x480 with 1 Axes>"
      ]
     },
     "metadata": {},
     "output_type": "display_data"
    }
   ],
   "source": [
    "K = 100 # liczba prób\n",
    "N = 25 # liczba elementów w próbie\n",
    "a = 0.05\n",
    "\n",
    "StudentTDistribution = st.t(N-1) # utworzenie obiektu rozkłady T-Studenta \n",
    "ta = StudentTDistribution.ppf(1-a/2.) # prawy kwanty rozkładu T-Studenta\n",
    "\n",
    "CIm = []\n",
    "\n",
    "for i in range(K):\n",
    "    x = st.norm.rvs(size = N)\n",
    "    \n",
    "    m = st.tmean(x)\n",
    "    s = st.tstd(x)\n",
    "    CI = ta*s/N**0.5\n",
    "\n",
    "\n",
    "    CIm.append((m-CI,m+CI))\n",
    "    \n",
    "CIm = np.array(CIm)\n",
    "\n",
    "plt.hlines(range(1,K+1),CIm[:,0],CIm[:,1],color=\"black\",linewidth=0.5)\n",
    "plt.scatter(CIm[:,0],range(1,K+1),color=\"black\",s=1)\n",
    "plt.scatter(CIm[:,1],range(1,K+1),color=\"black\",s=1)\n",
    "plt.vlines(0,0,K,color=\"red\")\n",
    "plt.xlabel(\"wartości cechy $x$\")\n",
    "plt.yticks([])\n",
    "plt.ylabel(\"wygenerowane przedziały ufności\")\n",
    "pass"
   ]
  }
 ],
 "metadata": {
  "authors": [
   {
    "name": "Wojciech Artichowicz"
   }
  ],
  "kernelspec": {
   "display_name": "Python 3 (ipykernel)",
   "language": "python",
   "name": "python3"
  },
  "language_info": {
   "codemirror_mode": {
    "name": "ipython",
    "version": 3
   },
   "file_extension": ".py",
   "mimetype": "text/x-python",
   "name": "python",
   "nbconvert_exporter": "python",
   "pygments_lexer": "ipython3",
   "version": "3.10.9"
  },
  "title": "Statystyczna analiza danych - przedziały ufności"
 },
 "nbformat": 4,
 "nbformat_minor": 2
}

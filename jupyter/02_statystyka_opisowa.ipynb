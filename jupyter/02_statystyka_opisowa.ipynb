{
 "cells": [
  {
   "cell_type": "markdown",
   "id": "a5a87f17",
   "metadata": {},
   "source": [
    "# Statystyka opisowa - parametry\n",
    "\n",
    "### Statystyczna analiza danych\n",
    "**dr inż. Wojciech Artichowicz**\n",
    "\n",
    "**Katedra Geotechniki i Inżynierii Wodnej PG**"
   ]
  },
  {
   "cell_type": "markdown",
   "id": "e5fac4da",
   "metadata": {},
   "source": [
    "**Statystyka opisowa** zajmuje się wstępnym opisem próby oraz badaniem parametrów położenia, dyspersji i kształtu rozkładów z których te próby pochodzą. Obliczenie wartości wyżej wymienionych parametrów umożliwia uogólnienie danych oraz sformułowanie wniosków na temat własności badanych rozkładów. Ponadto możliwe jest porównanie dwóch lub większej liczby prób (np. określenie, która średnia jest większa, itp.).\n",
    "\n",
    "#### Dane\n",
    "W celu prezentacji niżej omówionych podstawowych parametrów statystycznych wykorzystany zostanie następujący zbiór danych:\n",
    "\n",
    "$$\\textbf{x}=\\{9{,}0;\\; 12{,}0;\\; 5{,}0;\\; 0{,}23;\\; 1{,}3;\\; 5{,}5;\\; 8{,}11;\\; 3{,}33;\\; 2{,}1;\\; 6{,}32\\}$$\n",
    "\n",
    "Wektor danych $\\textbf{x}$ składa się z elementów skalarnych oznaczonych jako $x_i$ dla $i=1,2,...,N$, gdzie $N$ oznacza liczbę elementów wektora $\\textbf{x}$.\n",
    "\n",
    "**Uwaga**: W języku polskim separatorem dziesiętnym (*ang.* decimal separator) jest przecinek, natomiast w języku angielskim jest to kropka. W związku z tym wpisując lub importując dane w celu przeprowadzenia obliczeń należy upewnić się, że wykorzystywany jest adekwatny separator dziesiętny. W przypadku programowania obliczeń wykorzystuje się separator w postaci kropki. Np. w języku Python liczba $2{,}5$ ma postać `2.5`.\n",
    "\n",
    "\n",
    "### Import podstawowych bibliotek języka Python\n",
    "W celu przeprowadzenia obliczeń statystycznych należy importować podstawowe biblioteki związane z obliczeniami i wizuzalizacją danych. Wykorzystane zostaną tu następujące biblioteki:\n",
    " - [`numpy`](https://numpy.org/) - obiekt tablicy, macierze i algebra liniowa oraz podstawowe funkcje\n",
    " - [`scipy.stats`](https://docs.scipy.org/doc/scipy/reference/stats.html)  - funkcje statytyczne\n",
    " - [`matplolib`](https://matplotlib.org/) - funkcje tworzące wykresy"
   ]
  },
  {
   "cell_type": "code",
   "execution_count": 1,
   "id": "06e29bc5",
   "metadata": {},
   "outputs": [],
   "source": [
    "import numpy as np # tablice, macierze i algebra liniowa\n",
    "import scipy.stats as st # biblioteka obliczeń statystycznych\n",
    "import matplotlib.pyplot as plt # podstawowa wizualizacja / wykresy"
   ]
  },
  {
   "cell_type": "markdown",
   "id": "3aa76397",
   "metadata": {},
   "source": [
    "#### Utworzenie zmiennej przechowujacej dane\n",
    "Poniżej utworzono zmienną `x`, w której przechowywane są dane. Do przechowywania danych wykorzystano obiekt tablicy ([`array`](https://numpy.org/doc/stable/reference/generated/numpy.array.html)) z biblioteki [numpy](https://numpy.org/). Należy zwrócić uwagę na wykorzystany separator dziesiętny."
   ]
  },
  {
   "cell_type": "code",
   "execution_count": 2,
   "id": "fdbede18",
   "metadata": {},
   "outputs": [
    {
     "data": {
      "text/plain": [
       "array([ 9.  , 12.  ,  5.  ,  0.23,  1.3 ,  5.5 ,  8.11,  3.33,  2.1 ,\n",
       "        6.32])"
      ]
     },
     "execution_count": 2,
     "metadata": {},
     "output_type": "execute_result"
    }
   ],
   "source": [
    "x = np.array([ 9.0, 12.0, 5.0, 0.23, 1.3, 5.5, 8.11, 3.33, 2.1, 6.32])\n",
    "x"
   ]
  },
  {
   "cell_type": "markdown",
   "id": "49acf259",
   "metadata": {},
   "source": [
    "## Parametry położenia\n",
    "\n",
    "Określają położenie rozkładu (tu empirycznego) na skali pomiarowej. Są jedynmi z najważniejszych charakterystyk, między innymi ze względu na łatwość i intuicyjność ich interpretacji."
   ]
  },
  {
   "cell_type": "markdown",
   "id": "ac07ff8c",
   "metadata": {},
   "source": [
    "### Miary tendencji centralnej\n",
    "\n",
    "Klasycznymi miarami średniej są średnia arytmetyczna, harmoniczna i geometryczna. "
   ]
  },
  {
   "cell_type": "markdown",
   "id": "423b44f6",
   "metadata": {},
   "source": [
    "### Średnie klasyczne\n",
    "#### Średnia arytmetyczna (*ang.* mean)\n",
    "Jest najpopularniejszą charakterystyką przeciętnego poziomu badanej cechy. Jest sumą wszystkich obserwacji podzieloną przez ich ilość. Wyraża średni poziom cechy przypadający na jednostkę. Średnia arytmetyczna jest wrażliwa na obserwacje odstające i znacznie się odchyla w przypadku wystąpienia takich obserwacji w próbie.\n",
    "\n",
    "$$\\bar{x}=\\frac{1}{N}\\sum_{i=1}^{N} x_i=\\frac{x_1+x_2+\\ldots+x_N}{N}$$\n",
    "Sposób obliczenia:\n",
    "$$\\bar{x}=\\frac{9{,}00+12{,}00+\\ldots+ 2{,}10+ 6{,}32}{10}=5{,}289$$\n",
    "\n",
    "Realizacja obliczeń w języku Python z użyciem funkcji [`tmean()`](https://docs.scipy.org/doc/scipy/reference/generated/scipy.stats.tmean.html):"
   ]
  },
  {
   "cell_type": "code",
   "execution_count": 3,
   "id": "87be6af0",
   "metadata": {},
   "outputs": [
    {
     "data": {
      "text/plain": [
       "5.289"
      ]
     },
     "execution_count": 3,
     "metadata": {},
     "output_type": "execute_result"
    }
   ],
   "source": [
    "srednia_arytmetyczna = st.tmean(x)\n",
    "srednia_arytmetyczna"
   ]
  },
  {
   "cell_type": "markdown",
   "id": "3bb02533",
   "metadata": {},
   "source": [
    "#### Średnia harmoniczna (*ang.* harmonic mean)\n",
    "Jest to odwrotność średniej arytmetycznej z odwrotności pomiarów.\n",
    "\n",
    "\n",
    "$$\\bar{x}_H=\\frac{N}{\\sum_{i=1}^{N} \\frac{1}{x_i}}=\\frac{N}{\\frac{1}{x_1}+\\frac{1}{x_2}+\\ldots+\\frac{1}{x_N}}$$\n",
    "Sposób obliczenia:\n",
    "$$\\bar{x}_H=\\frac{10}{\\frac{1}{9{,}00}+\\frac{1}{12{,}00}+\\ldots+\\frac{1}{2{,}10}+\\frac{1}{6{,}32}}=1{,}481$$\n",
    "\n",
    "Średnia harmoniczna zdefiniowana jest tylko dla wartości większych od zera, tj. $x_i>0$ dla $i=1,\\ldots, N$.\n",
    "Realizacja obliczeń w języku Python z użyciem funkcji [`hmean()`](https://docs.scipy.org/doc/scipy/reference/generated/scipy.stats.hmean.html):"
   ]
  },
  {
   "cell_type": "code",
   "execution_count": 4,
   "id": "ff54a6e9",
   "metadata": {},
   "outputs": [
    {
     "data": {
      "text/plain": [
       "1.4811868527213843"
      ]
     },
     "execution_count": 4,
     "metadata": {},
     "output_type": "execute_result"
    }
   ],
   "source": [
    "srednia_harmoniczna = st.hmean(x)\n",
    "srednia_harmoniczna"
   ]
  },
  {
   "cell_type": "markdown",
   "id": "dbac8c84",
   "metadata": {},
   "source": [
    "#### Średnia geometryczna (*ang.* geometric mean)\n",
    "Jest pierwiastkiem $N$-tego stopnia z iloczynu obserwacji. Jest zwykle stosowana do określania średniej wartości szeregów czasowych. \n",
    "\n",
    "$$\\bar{x}_G=\\sqrt[\\leftroot{3}\\uproot{4}N]{\\prod_{i=1}^{N}x_i}=\n",
    "\\sqrt[\\leftroot{3}\\uproot{4}N]{x_1\\cdot x_2 \\cdot \\ldots \\cdot x_N}$$\n",
    "\n",
    "$$\\bar{x}_G=\\sqrt[\\leftroot{3}\\uproot{4}10]{9{,}00\\cdot 12{,}00 \\cdot \\ldots \\cdot 2{,}10 \\cdot 6{,}32}=3{,}550$$\n",
    "\n",
    "Realizacja obliczeń w języku Python z użyciem funkcji [`gmean()`](https://docs.scipy.org/doc/scipy/reference/generated/scipy.stats.gmean.html):"
   ]
  },
  {
   "cell_type": "code",
   "execution_count": 5,
   "id": "b9e1bc12",
   "metadata": {},
   "outputs": [
    {
     "data": {
      "text/plain": [
       "3.5504459848127374"
      ]
     },
     "execution_count": 5,
     "metadata": {},
     "output_type": "execute_result"
    }
   ],
   "source": [
    "srednia_geometryczna = st.gmean(x)\n",
    "srednia_geometryczna"
   ]
  },
  {
   "cell_type": "markdown",
   "id": "f00ba10a",
   "metadata": {},
   "source": [
    "### Mediana - średnia pozycyjna\n",
    "**Mediana** jest środkową wartością uporządkowanego szeregu obserwacji. Informuje jaki jest poziom cechy jednostki dzielącej próbę na dwie równe części. Ponadto mediana jest kwantylem rzędu 0,5. \n",
    "\n",
    "Jeśli liczba obserwacji jest nieparzysta to medianą jest środkowy element uporządkowanej próby, jeśli liczba obserwacji jest parzysta to mediana jest średnią arytmetyczną dwóch elementów znajdujących się w środku.\n",
    "\n",
    "$$Me=\\begin{cases}\n",
    "x_{(N+1)/2} & \\text{dla } N \\text{ nieparzystego}\\\\\n",
    "\\frac{x_{N/2}+x_{N/2+1}}{2} & \\text{dla } N \\text{ parzystego}\n",
    "\\end{cases} $$\n",
    "\n",
    "Sposób obliczenia:\n",
    " 1. sortowanie próby $x_\\downarrow = \\{0{,}23;\\; 1{,}3;\\; 2{,}1;\\; 3{,}33;\\; \\textbf{5{,}0};\\; \\textbf{5{,}5};\\; 6{,}32;\\; 8{,}11;\\; 9{,}0;\\; 12{,}0\\}$\n",
    " \n",
    " 2. obliczenie średniej arytmetycznej dwóch środkowych elementów:  $\\frac{5{,}0+5{,}5}{2}=5{,}25$\n",
    "\n",
    "Realizacja obliczeń w języku Python z użyciem funkcji [`median()`](https://numpy.org/doc/stable/reference/generated/numpy.median.html):\n",
    "\n",
    "**Uwaga**: mediana jest dostępna w bibliotece numpy, a nie scipy."
   ]
  },
  {
   "cell_type": "code",
   "execution_count": 6,
   "id": "2d00c063",
   "metadata": {},
   "outputs": [
    {
     "data": {
      "text/plain": [
       "5.25"
      ]
     },
     "execution_count": 6,
     "metadata": {},
     "output_type": "execute_result"
    }
   ],
   "source": [
    "Me = np.median(x)\n",
    "Me"
   ]
  },
  {
   "cell_type": "markdown",
   "id": "8fdb8bf7",
   "metadata": {},
   "source": [
    "### Moda (dominanta) - średnia częstościowa\n",
    "\n",
    "**Moda** jest wartością występującą najczęściej w zbiorze danych, tj. wartością powtarzającą się najczęściej. W przypadku, gdy wartości się nie powtarzają nie można określić mody, gdyż każda obserwacja występuje w zbiorze tylko raz. W przypadku większych zbiorów danych jako modę uznaje się (w przybliżeniu) środek najwyższego słupka wykresu częstości.\n",
    "\n",
    "**Uwaga**: W związku z tym, że analizowana próba zawiera mało elementów używanie wartości modalnej w tym przypadku jest pozbawione sensu. Jednak w celu zachowania kompletności materiałów zaprezentowano obliczenie tego parametru z użyciem biblioteki scipy.stats.\n",
    "\n",
    "Realizacja obliczeń w języku Python z użyciem funkcji [`mode()`](https://docs.scipy.org/doc/scipy/reference/generated/scipy.stats.mode.html):"
   ]
  },
  {
   "cell_type": "code",
   "execution_count": 7,
   "id": "b305f988",
   "metadata": {},
   "outputs": [
    {
     "data": {
      "text/plain": [
       "ModeResult(mode=0.23, count=1)"
      ]
     },
     "execution_count": 7,
     "metadata": {},
     "output_type": "execute_result"
    }
   ],
   "source": [
    "# Mo = st.mode(x)\n",
    "Mo = st.mode(x,keepdims=False)\n",
    "Mo"
   ]
  },
  {
   "cell_type": "markdown",
   "id": "6f0852d2",
   "metadata": {},
   "source": [
    "### Porównanie wartości tendencji centralnej\n",
    "Poniżej przedstawiono graficznie obliczone wcześniej wartości tendencji centralnej. Obserwacje zostały oznaczone przy pomocy punktów, natomiast miary tendencji centralnej zostały oznaczone liniami."
   ]
  },
  {
   "cell_type": "code",
   "execution_count": 8,
   "id": "a1d23a06",
   "metadata": {},
   "outputs": [
    {
     "data": {
      "image/png": "[encoded data removed]",
      "text/plain": [
       "<Figure size 640x480 with 1 Axes>"
      ]
     },
     "metadata": {},
     "output_type": "display_data"
    }
   ],
   "source": [
    "r = 0.01  # zakres osi poziomej (wartość pomocnicza do wykonania wykresu)\n",
    "v = 0.1   # przesunięcie etykiety osi pionowej (wartość pomocnicza do wykonania wykresu)\n",
    "\n",
    "plt.scatter(np.zeros_like(x),x,c=\"black\") # wykres rozrzutu, przyjęto wartości wsp. poziomej jako 0,\n",
    "                                # na osi pionowej zaznaczono wartości z próby (zmienna x)\n",
    "\n",
    "plt.hlines([srednia_arytmetyczna, srednia_harmoniczna, srednia_geometryczna, Me], # linie poziome\n",
    "            -r,r, # zakres wartości na osi poziomej - tu nieistotny\n",
    "            colors=[\"black\",\"black\",\"black\",\"red\"], # określenie kolorów kolejnych linii\n",
    "            linestyles=[\"solid\",\"solid\",\"solid\",\"dashed\"]) # określenie stylów kolejnych linii\n",
    "\n",
    "# dodanie opisów do linii\n",
    "plt.text(-r,srednia_arytmetyczna+v,\"średnia arytmetyczna\")\n",
    "plt.text(-r,srednia_harmoniczna+v,\"średnia harmoniczna\")\n",
    "plt.text(-r,srednia_geometryczna+v,\"średnia geometryczna\")\n",
    "plt.text(-r,Me-4*v,\"mediana\",c=\"red\")\n",
    "\n",
    "plt.xticks([]) # usunięcie znaczników osi poziomej / zdanie pustej listy jako zanczników\n",
    "plt.ylabel(\"wartości x\") # opis osi pionowej\n",
    "plt.legend([\"dane (x)\"]) # dodanie legendy do wykresu\n",
    "pass"
   ]
  },
  {
   "cell_type": "markdown",
   "id": "f0fd6093",
   "metadata": {},
   "source": [
    "### Kwantyle\n",
    "**Kwantyle** to pozycyjne miary położenia, które dzielą uporządkowaną próbę w zadanej proporcji $p:(1-p)$ gdzie $p\\in [0,1]$. Kwantyle wyznacza się porządkując elementy próby rosnąco, a następnie określając wartości, które dzielą próbę w zadanej proporcji $p\\cdot N$ elementów po lewej stronie i $(1-p)\\cdot N$ elementów po stronie prawej.\n",
    "\n",
    "Kwantylem rozdzielającym próbę na dwie równe części (czyli $p=0{,}5$) jest mediana.\n",
    "\n",
    "Wyznaczenie kwantyli rzędu $p=0{,}25$, $p=0{,}5$ oraz $p=0{,}75$ z wykorzystaniem języka Python zaprezentowano poniżej:"
   ]
  },
  {
   "cell_type": "code",
   "execution_count": 9,
   "id": "0a7b548d",
   "metadata": {},
   "outputs": [
    {
     "data": {
      "text/plain": [
       "array([2.4075, 5.25  , 7.6625])"
      ]
     },
     "execution_count": 9,
     "metadata": {},
     "output_type": "execute_result"
    }
   ],
   "source": [
    "p = [0.25, 0.5, 0.75] # rząd kwantyli\n",
    "Q = np.quantile(x,p)\n",
    "Q"
   ]
  },
  {
   "cell_type": "markdown",
   "id": "ee084976",
   "metadata": {},
   "source": [
    "## Parametry rozproszenia\n",
    "Parametry rozproszenia opisują jak bardzo dane są skupione wokół wartości centralnej lub jaki mają zakres."
   ]
  },
  {
   "cell_type": "markdown",
   "id": "b6f7bdc8",
   "metadata": {},
   "source": [
    "### Klasyczne miary rozproszenia\n",
    "#### Wariancja i odchylenie standardowe\n",
    "**Wariancja** jest to średnia arytmetyczna kwadratów odchyłek od średniej. (Ze względów teoretycznych dzieli się przez $N-1$ a nie przez $N$.) Wariancja wyraża rozproszenie wartości w próbie względem średniej. Im większa wariancja tym większy rozrzut wartości. Wariancję oznacza się zwykle jako $s^2$ i oblicza na podstawie wzoru:\n",
    "\n",
    "$$s^2={\\frac{1}{N-1}\\sum_{i=1}^{N}(x_i-\\bar{x})^2}$$\n",
    "\n",
    "Obliczenie wariancji dla badanej próby ma następującą postać:\n",
    "\n",
    "$$s^2={\\frac{1}{N-1}\\left((x_1-\\bar{x})^2+(x_2-\\bar{x})^2+\\ldots +(x_N-\\bar{x})^2 \\right)}=$$\n",
    "$$\\frac{1}{9}\\left[(9,00-5,289)^2+(12,00-5,289)^2+\\ldots +(2,10-5,289)^2 +(6,32-5,289)^2 \\right]=13.719$$"
   ]
  },
  {
   "cell_type": "code",
   "execution_count": 10,
   "id": "93fdeed9",
   "metadata": {},
   "outputs": [
    {
     "data": {
      "text/plain": [
       "13.719009999999999"
      ]
     },
     "execution_count": 10,
     "metadata": {},
     "output_type": "execute_result"
    }
   ],
   "source": [
    "wariancja = st.tvar(x)\n",
    "wariancja"
   ]
  },
  {
   "cell_type": "markdown",
   "id": "00f5b94d",
   "metadata": {},
   "source": [
    "W związku z tym, że wariancja wyrażona jest w jednostkach cechy do kwadratu w praktyce wygodniej jest używać **odchylenia standardowego**, będącego pierwiastkiem z wariancji:\n",
    "\n",
    "$$s=\\sqrt{s^2}=\\sqrt{\\frac{1}{N-1}\\sum_{i=1}^{N}(x_i-\\bar{x})^2}$$"
   ]
  },
  {
   "cell_type": "code",
   "execution_count": 11,
   "id": "4ad733eb",
   "metadata": {},
   "outputs": [
    {
     "data": {
      "text/plain": [
       "3.703918195640935"
      ]
     },
     "execution_count": 11,
     "metadata": {},
     "output_type": "execute_result"
    }
   ],
   "source": [
    "odchylenie_standardowe = st.tstd(x)\n",
    "odchylenie_standardowe"
   ]
  },
  {
   "cell_type": "markdown",
   "id": "32dc5f54",
   "metadata": {},
   "source": [
    "#### Odchylenie przeciętne\n",
    "\n",
    "**Odchylenie przeciętne** jest średnią arytmetyczną z wartości bezwzględnych różnic między obserwacjami a średnią. Tak jak odchylenie standardowe wyraża stopień rozproszenia próby względem jej średniej. Odchylenie przeciętne jest mniej wrażliwe na obserwacje odstające. \n",
    "\n",
    "$$d = \\frac{\\sum_{i=1}^N |x_i-\\bar{x}|}{N}$$\n",
    "\n",
    "Sposób obliczenia wartości odchylenia przeciętnego dla badanej próby zaprezentowano poniżej:\n",
    "\n",
    "$$d={\\frac{1}{N}\\left(|x_1-\\bar{x}|+|x_2-\\bar{x}|+\\ldots +|x_N-\\bar{x}| \\right)}=$$\n",
    "$$\\frac{1}{10}\\left(|9{,}00-5,289|+|12{,}00-5,289|+\\ldots +|2{,}10-5{,}289| +|6{,}32-5{,}289| \\right)=2{,}897$$\n",
    "\n",
    "W bibliotece `scipy.stats` nie ma funkcji obliczającj odchylenie przeciętne i konieczne jest samodzielne zapisanie wzoru:\n",
    "\n",
    "```{python}\n",
    "                            d = np.sum(np.abs(x-st.tmean(x)))/x.size\n",
    "```\n",
    "\n",
    " - funkcja `np.sum()` oblicza sumę\n",
    " - funkcja `np.abs()` oblicza wartość bezwzględną każdego argumentu w tablicy\n",
    " - wyrażenie `x-st.mean(x)` oblicza tablicę różnic między daną obserwacją $x_i$ a średnią obliczoną przy pomocy `st.mean()`\n",
    " - pole `x.size` jest liczbą elementów w tablicy `x`.\n",
    " \n",
    "Możliwe jest też użycie funkcji `np.mean()` lub `st.tmean()` do obliczeń, wówczas wyrażenie zapisane w języku Python będzie miało następującą formę:"
   ]
  },
  {
   "cell_type": "code",
   "execution_count": 12,
   "id": "b8963e8e",
   "metadata": {},
   "outputs": [
    {
     "data": {
      "text/plain": [
       "2.897"
      ]
     },
     "execution_count": 12,
     "metadata": {},
     "output_type": "execute_result"
    }
   ],
   "source": [
    "d = np.mean((np.abs(x-st.tmean(x))))\n",
    "d"
   ]
  },
  {
   "cell_type": "markdown",
   "id": "bdc11c8e",
   "metadata": {},
   "source": [
    "#### Średnie odchylenie bezwzględne\n",
    "$$D = \\frac{\\sum_{i=1}^N |x_i-x_c|}{N}$$\n",
    "gdzie $x_c$ jest ustaloną wartością centalną (zwykle średnią lub medianą). Wcześniej omówione odchylenie przeciętne jest przykładem tej wielkości."
   ]
  },
  {
   "cell_type": "code",
   "execution_count": 13,
   "id": "b83d0de7",
   "metadata": {},
   "outputs": [
    {
     "data": {
      "text/plain": [
       "2.897"
      ]
     },
     "execution_count": 13,
     "metadata": {},
     "output_type": "execute_result"
    }
   ],
   "source": [
    "xc = st.tmean(x) # średnia arytmetyczna\n",
    "D = np.mean(np.abs(x-xc))\n",
    "D"
   ]
  },
  {
   "cell_type": "markdown",
   "id": "4f472be1",
   "metadata": {},
   "source": [
    "### Pozycyjne miary rozproszenia"
   ]
  },
  {
   "cell_type": "markdown",
   "id": "2f083ea1",
   "metadata": {},
   "source": [
    "#### Rozstęp\n",
    "W statystyce opisowej rozstęp jest jedną z podstawowych miar rozproszenia. Wyraża różnicę między wartością największą i najmniejszą, czyli określa zakres obserwowanych wartości.\n",
    "\n",
    "$$R=x_{max}-x_{min}$$\n",
    "\n",
    "Obliczenie rozstępu wymaga znalezienia wartości największej i najmniejszej. W języku Python obliczenia te można zrealizować następująco:"
   ]
  },
  {
   "cell_type": "code",
   "execution_count": 14,
   "id": "b5c50e2f",
   "metadata": {},
   "outputs": [
    {
     "data": {
      "text/plain": [
       "11.77"
      ]
     },
     "execution_count": 14,
     "metadata": {},
     "output_type": "execute_result"
    }
   ],
   "source": [
    "R = np.max(x)-np.min(x)\n",
    "R"
   ]
  },
  {
   "cell_type": "markdown",
   "id": "97d219c9",
   "metadata": {},
   "source": [
    "#### Rozstęp międzykwartylowy\n",
    "**Rozstęp międzykwartylowy** oznaczany zwykle symbolem IQR jest różnicą między wartością kwantyla rzędu $0,75$ i kwantyla $0,25$. Określa on różnicę między największą a najmniejszą wartością cechy wśród typowych jednostek. Między kwantylem $q_{0,75}$ a $q_{0,25}$ zawiera się 50% wszystkich elementów próby.\n",
    "\n",
    "$$IQR=q_{0,75}-q_{0,25}$$"
   ]
  },
  {
   "cell_type": "code",
   "execution_count": 15,
   "id": "5bfbb13e",
   "metadata": {},
   "outputs": [
    {
     "data": {
      "text/plain": [
       "5.254999999999999"
      ]
     },
     "execution_count": 15,
     "metadata": {},
     "output_type": "execute_result"
    }
   ],
   "source": [
    "IQR = st.iqr(x)\n",
    "IQR"
   ]
  },
  {
   "cell_type": "markdown",
   "id": "6846dba3",
   "metadata": {},
   "source": [
    "#### Odchylenie ćwiartkowe\n",
    "**Odchylenie ćwiartkowe** jest połową rozstępu kwartylowego\n",
    "$$Q=\\frac{IQR}{2}$$"
   ]
  },
  {
   "cell_type": "markdown",
   "id": "889b8b9e",
   "metadata": {},
   "source": [
    "#### Odchylenie bezwzględne medianowe\n",
    "\n",
    "Jest to wartość podobna do odchylenia przeciętnego, lecz oparta na medianie, która jest odporna na obserwacje odstające. Również jest miarą dyspersji (rozproszenia) wartości w próbie.\n",
    "$$MAD=mediana(|x_i-Me|)$$"
   ]
  },
  {
   "cell_type": "code",
   "execution_count": 16,
   "id": "8bcb5dd7",
   "metadata": {},
   "outputs": [
    {
     "data": {
      "text/plain": [
       "3.005"
      ]
     },
     "execution_count": 16,
     "metadata": {},
     "output_type": "execute_result"
    }
   ],
   "source": [
    "MAD = st.median_abs_deviation(x)\n",
    "MAD"
   ]
  },
  {
   "cell_type": "markdown",
   "id": "46bbaf00",
   "metadata": {},
   "source": [
    "### Współczynnik zmienności\n",
    "\n",
    "**Współczynnik zmienności** wyraża stosunek odchylenia standardowego do średniej. Wyraża natężenie zróżnicowania analizowanej cechy. Duża wartość współczynnika zmienności oznacza silne zróżnicowanie cechy, natomiast wartość bliska zeru oznacza małe zróżnicowanie cechy. Współczynnik zmienności jest szczególnie przydatny przy porównywaniu prób.\n",
    "\n",
    "$$V=\\frac{s}{\\bar{x}}$$"
   ]
  },
  {
   "cell_type": "code",
   "execution_count": 17,
   "id": "526925b0",
   "metadata": {},
   "outputs": [
    {
     "data": {
      "text/plain": [
       "0.7003059549330564"
      ]
     },
     "execution_count": 17,
     "metadata": {},
     "output_type": "execute_result"
    }
   ],
   "source": [
    "V = st.tstd(x)/st.tmean(x)\n",
    "V"
   ]
  },
  {
   "cell_type": "markdown",
   "id": "9d0ea590",
   "metadata": {},
   "source": [
    "Możliwe jest też oparcie współczynnika zmienności o inne parametry. przykładowo często stosowanym współczynnikiem zmienności jest stosunek odchylenia ćwiartkowego do mediany:\n",
    "$$Q_{Me}=\\frac{Q}{Me}$$"
   ]
  },
  {
   "cell_type": "code",
   "execution_count": 18,
   "id": "542f5adb",
   "metadata": {},
   "outputs": [
    {
     "data": {
      "text/plain": [
       "0.5004761904761904"
      ]
     },
     "execution_count": 18,
     "metadata": {},
     "output_type": "execute_result"
    }
   ],
   "source": [
    "VMe = 0.5*st.iqr(x)/np.median(x)\n",
    "VMe"
   ]
  },
  {
   "cell_type": "markdown",
   "id": "122d5a6e",
   "metadata": {},
   "source": [
    "**Uwaga**: Oczywiście współczynniki te mają sens jedynie wtedy, gdy wartości użyte w mianowniku są różne od zera."
   ]
  },
  {
   "cell_type": "markdown",
   "id": "15fcd8fd",
   "metadata": {},
   "source": [
    "### Miary asymetrii rozkładu\n",
    "\n",
    "**Moment trzeci centralny** jest średnią arytmetyczną odchyłek od średniej do sześcianu:\n",
    "\n",
    "$$\\mu_3=\\frac{1}{N}\\sum_{i=1}^{N}(x_i-\\bar{x})^3$$\n",
    "\n",
    "Jeśli \n",
    " - $\\mu_3=0$ to rozkład próby jest symetryczny\n",
    " - $\\mu_3>0$ to asymetria jest dodatnia (więcej odchyłek dodatnich)\n",
    " - $\\mu_3<0$ to asymetria jest ujmena (więcej odchyłek ujemnych)\n",
    " \n",
    "Biblioteka [`sciy.stats`](https://docs.scipy.org/doc/scipy/reference/stats.html) oferuje funkcję [`moment()`](https://docs.scipy.org/doc/scipy/reference/generated/scipy.stats.moment.html#scipy.stats.moment) obliczajacą n-ty centralny moment próby:"
   ]
  },
  {
   "cell_type": "code",
   "execution_count": 19,
   "id": "331c364d",
   "metadata": {},
   "outputs": [
    {
     "data": {
      "text/plain": [
       "14.39835922800001"
      ]
     },
     "execution_count": 19,
     "metadata": {},
     "output_type": "execute_result"
    }
   ],
   "source": [
    "mi3 = st.moment(x,3) # 3 oznacza trzeci moment\n",
    "mi3"
   ]
  },
  {
   "cell_type": "markdown",
   "id": "25cc89bd",
   "metadata": {},
   "source": [
    "#### Moment trzeci względny\n",
    "Klasycznym parametrem wyrażającym asymetrię rozkładu jest **moment trzeci względny** będący ilorazem momentu trzeciego centralnego i trzeciej potęgi odchylenia standardowego. Przyjmuje wartości z zakresu $-2<\\alpha_3<2$. Im jego wartość bliższa jest zeru tym bardziej symetryczny jest rozkład.\n",
    "\n",
    "$$\\alpha_3=\\frac{\\mu_3}{s^3}$$"
   ]
  },
  {
   "cell_type": "code",
   "execution_count": 20,
   "id": "dab6f2b8",
   "metadata": {},
   "outputs": [
    {
     "data": {
      "text/plain": [
       "0.2833536724003808"
      ]
     },
     "execution_count": 20,
     "metadata": {},
     "output_type": "execute_result"
    }
   ],
   "source": [
    "alfa3 = st.moment(x,3)/st.tstd(x)**3\n",
    "alfa3"
   ]
  },
  {
   "cell_type": "markdown",
   "id": "84b0a224",
   "metadata": {},
   "source": [
    "#### Współczynnik asymetrii\n",
    "\n",
    "**Współczynnik asymetrii** wyraża stosunek różnicy średniej i mody odniesionej do odchylenia standardowego.\n",
    "\n",
    "$$A=\\frac{\\bar{x}-Mo}{s}$$"
   ]
  },
  {
   "cell_type": "code",
   "execution_count": 21,
   "id": "47ede0df",
   "metadata": {},
   "outputs": [
    {
     "data": {
      "text/plain": [
       "1.3658508997185284"
      ]
     },
     "execution_count": 21,
     "metadata": {},
     "output_type": "execute_result"
    }
   ],
   "source": [
    "# A = (st.tmean(x)-st.mode(x)[0])/st.tstd(x)\n",
    "A = (st.tmean(x)-st.mode(x,keepdims=False)[0])/st.tstd(x)\n",
    "A"
   ]
  },
  {
   "cell_type": "markdown",
   "id": "3250927d",
   "metadata": {},
   "source": [
    "### Funkcja [`describe()`](https://docs.scipy.org/doc/scipy/reference/generated/scipy.stats.describe.html#scipy.stats.describe) biblioteki [`scipy.stats`](https://docs.scipy.org/doc/scipy/reference/stats.html)\n",
    "\n",
    "Funkcja ta oblicza kilka wyżej wymienionych charakterystyk próby za jednym razem, są to kolejno: \n",
    " - liczba obserwacji\n",
    " - minimum i maksimum\n",
    " - średnia\n",
    " - wariancja\n",
    " - skośność\n",
    " - kurtoza\n",
    " \n",
    "Obiektem zwracanym przez tę funkcję jest krotka. Aby dostać się do wybranego elementu należy użyć operatora indeksowania. "
   ]
  },
  {
   "cell_type": "code",
   "execution_count": 22,
   "id": "3e92b881",
   "metadata": {},
   "outputs": [
    {
     "data": {
      "text/plain": [
       "DescribeResult(nobs=10, minmax=(0.23, 12.0), mean=5.289, variance=13.71901, skewness=0.3318677733919976, kurtosis=-0.829549790186106)"
      ]
     },
     "execution_count": 22,
     "metadata": {},
     "output_type": "execute_result"
    }
   ],
   "source": [
    "spdesc = st.describe(x)\n",
    "spdesc"
   ]
  },
  {
   "cell_type": "markdown",
   "id": "51215370",
   "metadata": {},
   "source": [
    "Pobranie wartości wariancji (czyli elementu o indeksie nr `3`):"
   ]
  },
  {
   "cell_type": "code",
   "execution_count": 23,
   "id": "7c498d85",
   "metadata": {},
   "outputs": [
    {
     "data": {
      "text/plain": [
       "13.71901"
      ]
     },
     "execution_count": 23,
     "metadata": {},
     "output_type": "execute_result"
    }
   ],
   "source": [
    "spdesc[3]"
   ]
  }
 ],
 "metadata": {
  "authors": [
   {
    "name": "Wojciech Artichowicz"
   }
  ],
  "kernelspec": {
   "display_name": "Python 3 (ipykernel)",
   "language": "python",
   "name": "python3"
  },
  "language_info": {
   "codemirror_mode": {
    "name": "ipython",
    "version": 3
   },
   "file_extension": ".py",
   "mimetype": "text/x-python",
   "name": "python",
   "nbconvert_exporter": "python",
   "pygments_lexer": "ipython3",
   "version": "3.10.9"
  },
  "title": "Statystyczna analiza danych - statystyka opisowa"
 },
 "nbformat": 4,
 "nbformat_minor": 5
}

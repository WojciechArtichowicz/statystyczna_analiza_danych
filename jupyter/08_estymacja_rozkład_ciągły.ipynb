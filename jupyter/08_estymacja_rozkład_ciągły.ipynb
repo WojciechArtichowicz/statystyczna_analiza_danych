{
 "cells": [
  {
   "cell_type": "markdown",
   "id": "e9d02453",
   "metadata": {},
   "source": [
    "# Estymacja parametrów rozkładów ciągłych\n",
    "\n",
    "### Statystyczna analiza danych\n",
    "**dr inż. Wojciech Artichowicz**\n",
    "\n",
    "**Katedra Geotechniki i Inżynierii Wodnej PG**"
   ]
  },
  {
   "cell_type": "markdown",
   "id": "f067c685",
   "metadata": {},
   "source": [
    "W pracy z danymi jednym z kluczowych zagadnień jest estymacja parametrów rozkładu. Jeśli możemy podejrzewać, że dane pochodzą z pewnego teoretycznego rozkładu prawdopodobieństwa. W przedstawionym tu przypadku rozważany będzie rozkład normalny, jednak podobne postępowanie można powtórzyć dla dowolnego rozkładu ciągłego."
   ]
  },
  {
   "cell_type": "markdown",
   "id": "e09f4438",
   "metadata": {},
   "source": [
    "### Rozkład normalny\n",
    "\n",
    "Gęstość rozkładu normalnego dana jest wzorem:\n",
    "$$f(x)=\\frac{1}{\\sigma \\sqrt{2g}}exp \\left(-\\frac{(x-\\mu)^2}{2\\sigma^2} \\right)$$\n",
    "\n",
    "Parametrami rozkładu normalnego są $\\mu$ i $\\sigma$. Wartości te należy oszacować na podstawie danych."
   ]
  },
  {
   "cell_type": "markdown",
   "id": "7f0e46f7",
   "metadata": {},
   "source": [
    "#### Dane\n",
    "Dane są pomiary* wartości stężenia tlenu w wodzie (plik: `tlen.xlsx`). Zakładając, że wartości podlegają rozkładowi normalnemu wykonać estymację parametrów tego rozkładu. Ocenić, czy dane mogą rzeczywiście pochodzić z populacji o rozkładzie normalnym. Ponadto obliczyć średnią, medianę i odchylenie z próby wraz z przedziałami ufności.\n",
    "\n",
    "*) Dane zostały wygenerowane z użyciem liczb pseudolosowych"
   ]
  },
  {
   "cell_type": "markdown",
   "id": "52bd4c6a",
   "metadata": {},
   "source": [
    "### Import bibliotek języka Python"
   ]
  },
  {
   "cell_type": "code",
   "execution_count": 1,
   "id": "e48014ae",
   "metadata": {},
   "outputs": [],
   "source": [
    "import numpy as np\n",
    "import scipy.stats as st\n",
    "import matplotlib.pyplot as plt\n",
    "import pandas as pd"
   ]
  },
  {
   "cell_type": "markdown",
   "id": "ab7bdaf9",
   "metadata": {},
   "source": [
    "#### Wczytanie danych\n",
    "Do wczytania danych z pliku MS Excel najwygodniej jest użyć biblioteki [`pandas`](https://pandas.pydata.org/), która pozwala wczytać dane bezpośrednio do ramki danych (*ang.* data frame). Poniższy kod wczytuje dane i umieszcza je w ramce danych o nazwie `df`."
   ]
  },
  {
   "cell_type": "code",
   "execution_count": 2,
   "id": "28662074",
   "metadata": {},
   "outputs": [
    {
     "data": {
      "text/html": [
       "<div>\n",
       "<style scoped>\n",
       "    .dataframe tbody tr th:only-of-type {\n",
       "        vertical-align: middle;\n",
       "    }\n",
       "\n",
       "    .dataframe tbody tr th {\n",
       "        vertical-align: top;\n",
       "    }\n",
       "\n",
       "    .dataframe thead th {\n",
       "        text-align: right;\n",
       "    }\n",
       "</style>\n",
       "<table border=\"1\" class=\"dataframe\">\n",
       "  <thead>\n",
       "    <tr style=\"text-align: right;\">\n",
       "      <th></th>\n",
       "      <th>tlen</th>\n",
       "    </tr>\n",
       "  </thead>\n",
       "  <tbody>\n",
       "    <tr>\n",
       "      <th>0</th>\n",
       "      <td>8.515</td>\n",
       "    </tr>\n",
       "    <tr>\n",
       "      <th>1</th>\n",
       "      <td>7.808</td>\n",
       "    </tr>\n",
       "    <tr>\n",
       "      <th>2</th>\n",
       "      <td>7.500</td>\n",
       "    </tr>\n",
       "    <tr>\n",
       "      <th>3</th>\n",
       "      <td>8.018</td>\n",
       "    </tr>\n",
       "    <tr>\n",
       "      <th>4</th>\n",
       "      <td>8.445</td>\n",
       "    </tr>\n",
       "    <tr>\n",
       "      <th>...</th>\n",
       "      <td>...</td>\n",
       "    </tr>\n",
       "    <tr>\n",
       "      <th>95</th>\n",
       "      <td>7.841</td>\n",
       "    </tr>\n",
       "    <tr>\n",
       "      <th>96</th>\n",
       "      <td>8.616</td>\n",
       "    </tr>\n",
       "    <tr>\n",
       "      <th>97</th>\n",
       "      <td>8.364</td>\n",
       "    </tr>\n",
       "    <tr>\n",
       "      <th>98</th>\n",
       "      <td>8.196</td>\n",
       "    </tr>\n",
       "    <tr>\n",
       "      <th>99</th>\n",
       "      <td>7.846</td>\n",
       "    </tr>\n",
       "  </tbody>\n",
       "</table>\n",
       "<p>100 rows × 1 columns</p>\n",
       "</div>"
      ],
      "text/plain": [
       "     tlen\n",
       "0   8.515\n",
       "1   7.808\n",
       "2   7.500\n",
       "3   8.018\n",
       "4   8.445\n",
       "..    ...\n",
       "95  7.841\n",
       "96  8.616\n",
       "97  8.364\n",
       "98  8.196\n",
       "99  7.846\n",
       "\n",
       "[100 rows x 1 columns]"
      ]
     },
     "execution_count": 2,
     "metadata": {},
     "output_type": "execute_result"
    }
   ],
   "source": [
    "df = pd.read_excel(\"tlen.xlsx\")\n",
    "df"
   ]
  },
  {
   "cell_type": "markdown",
   "id": "83a0fb3a",
   "metadata": {},
   "source": [
    "W tym przypadku, w celu dalszego przetwarzania wczytanych wartości wygodnie jest użyć danych w postaci tablicy numpy."
   ]
  },
  {
   "cell_type": "code",
   "execution_count": 3,
   "id": "48d91cc1",
   "metadata": {},
   "outputs": [
    {
     "data": {
      "text/plain": [
       "array([8.515, 7.808, 7.5  , 8.018, 8.445, 8.993, 8.099, 6.776, 8.547,\n",
       "       7.794, 8.631, 7.282, 8.523, 7.608, 8.294, 7.519, 7.042, 7.819,\n",
       "       8.022, 6.97 , 8.316, 8.155, 8.501, 8.226, 7.952, 7.803, 8.254,\n",
       "       8.128, 8.51 , 7.756, 7.397, 8.304, 7.37 , 8.343, 8.115, 8.726,\n",
       "       7.552, 8.177, 7.541, 7.745, 7.413, 8.724, 7.092, 7.887, 8.217,\n",
       "       8.626, 7.94 , 7.869, 8.427, 8.114, 7.81 , 7.951, 8.44 , 8.509,\n",
       "       8.089, 7.637, 7.059, 7.996, 8.287, 7.289, 8.238, 8.575, 7.736,\n",
       "       8.281, 7.721, 7.809, 7.796, 8.667, 8.301, 7.62 , 8.123, 7.464,\n",
       "       8.315, 8.096, 8.696, 7.063, 8.756, 8.257, 8.154, 9.186, 8.144,\n",
       "       6.988, 7.806, 7.304, 9.12 , 7.924, 7.775, 7.826, 7.574, 7.145,\n",
       "       8.068, 7.536, 8.841, 7.362, 8.199, 7.841, 8.616, 8.364, 8.196,\n",
       "       7.846])"
      ]
     },
     "execution_count": 3,
     "metadata": {},
     "output_type": "execute_result"
    }
   ],
   "source": [
    "dane = df[\"tlen\"].to_numpy()\n",
    "dane"
   ]
  },
  {
   "cell_type": "markdown",
   "id": "0d2bc405",
   "metadata": {},
   "source": [
    "### Histogram\n",
    "Jednym z pierwszych kroków w ocenie rozkładu prawdopodobieństwa jest wykonanie histogramu. Wykonanie histogramu ma sens jeśli próba zawiera odpowiednio dużą liczbę punktów (przynajmniej kilkadziesiąt). Histogram można wykonać korzystając z funkcji [`hist()`](https://matplotlib.org/stable/api/_as_gen/matplotlib.pyplot.hist.html) biblioteki [`matplotlib`](https://matplotlib.org/).\n",
    "\n",
    "Jako dane przekazano kolumnę `tlen` ramki danych `df`, którą wcześniej zamieniono na format `numpy array`. Przekazanie wartości argumentu `bins=\"auto\"` oznacza automatyczny dobór liczby kolumn w histogramie. Możliwe jest też przekazanie z góry określonej liczby kolumn np.: `bins=10`. Wartość argumentu `density` ustawiona na `True` oznacza, że histogram ma być wykresem gęstości rozkładu prawdopodobieństwa."
   ]
  },
  {
   "cell_type": "code",
   "execution_count": 4,
   "id": "56347707",
   "metadata": {},
   "outputs": [
    {
     "data": {
      "image/png": "[encoded data removed]",
      "text/plain": [
       "<Figure size 640x480 with 1 Axes>"
      ]
     },
     "metadata": {},
     "output_type": "display_data"
    }
   ],
   "source": [
    "plt.hist(dane,bins=\"auto\",density=True,edgecolor=\"black\",color=\"white\")\n",
    "plt.xlabel(\"stężenie tlenu $[mg/L]$\")\n",
    "pass"
   ]
  },
  {
   "cell_type": "markdown",
   "id": "75df1ff5",
   "metadata": {},
   "source": [
    "### Estymacja parametrów rozkładu ciągłego\n",
    "\n",
    "W celu estymacji parametrów $\\mu$ i $\\sigma$ rozkładu normalnego wykorzystuje się metodę [`fit()`](https://docs.scipy.org/doc/scipy/reference/generated/scipy.stats.rv_continuous.fit.html) danego typu rozkładu. Należy wybrać rozkład (tu jest to rozkład normalny `st.norm`) i użyć metody `fit()` przekazując jej jako argument dane, które mają zostać wykorzystane do estymacji."
   ]
  },
  {
   "cell_type": "code",
   "execution_count": 5,
   "id": "0abb703a",
   "metadata": {},
   "outputs": [
    {
     "data": {
      "text/plain": [
       "(7.99781, 0.5061061686049677)"
      ]
     },
     "execution_count": 5,
     "metadata": {},
     "output_type": "execute_result"
    }
   ],
   "source": [
    "p = st.norm.fit(dane) # określenie parametrów rozkładu normalnego na podstawie danych\n",
    "p"
   ]
  },
  {
   "cell_type": "markdown",
   "id": "f92ab5e2",
   "metadata": {},
   "source": [
    "#### Utworzenie obiektu estymowanej zmiennej losowej \n",
    "\n",
    "W celu utworzenia zmiennej losowej rozkładu normalnego z estymowanymi wartościami wartości oczekiwanej i odchylenia standardowego należy wykorzystać funkcję tworzącą dany tym rozkładu. Dodatkowo można tu wykorzystać tzw. operator rozpakowania, dzięki czemu unika się konieczności przekazywania każdego argumentu osobno."
   ]
  },
  {
   "cell_type": "code",
   "execution_count": 6,
   "id": "d53dc1e9",
   "metadata": {},
   "outputs": [],
   "source": [
    "RVe = st.norm(*p) # utworzenie obiektu rozkładu"
   ]
  },
  {
   "cell_type": "markdown",
   "id": "0de62b6c",
   "metadata": {},
   "source": [
    "#### Porównanie gęstości estymowanego rozkładu z histogramem"
   ]
  },
  {
   "cell_type": "code",
   "execution_count": 7,
   "id": "b1440173",
   "metadata": {},
   "outputs": [
    {
     "data": {
      "image/png": "[encoded data removed]",
      "text/plain": [
       "<Figure size 640x480 with 1 Axes>"
      ]
     },
     "metadata": {},
     "output_type": "display_data"
    }
   ],
   "source": [
    "plt.hist(dane,bins=\"auto\",density=True,edgecolor=\"black\",color=\"white\")\n",
    "\n",
    "x = np.linspace(np.min(dane),np.max(dane),200)\n",
    "plt.plot(x,RVe.pdf(x),color=\"black\",linestyle='dashed')\n",
    "plt.legend([\"rozkład estymowany\",\"histogram\"])\n",
    "plt.xlabel(\"stężenie tlenu $[mg/L]$\")\n",
    "plt.ylabel(\"gęstość rozkładu prawdopodobieństwa\")\n",
    "pass"
   ]
  },
  {
   "cell_type": "markdown",
   "id": "d79395a0",
   "metadata": {},
   "source": [
    "### Test dopasowania rozkładu\n",
    "\n",
    "W celu sprawdzenia czy próba rzeczywiście może pochodzić z rozważanego rozkładu można przeprowadzić test Kołmogorowa-Smirnowa. Obliczenia związane z testem realizuje funkcja [`kstest()`](https://docs.scipy.org/doc/scipy/reference/generated/scipy.stats.kstest.html#scipy.stats.kstest). W celu sprawdzenia czy próba może pochodzić z rozważanego rozkładu przekazuje się do funkcji testującej dwa argumenty: kolumnę danych oraz funkcję opisującą dystrybuantę estymowanego rozkładu. Zwracane są dwie wartości. Istotną wartością jest `pvalue`. Jeśli wartość ta jest mała (umownie: poniżej 0,05) to można uznać, że próba nie pochodzi z rozważanego rozkładu, jeśli wartość ta jest duża (umownie powyżej 0,05) to można uznać, że jest duże prawdopodobieństwo, że próba pochodzi z rozważanego rozkładu."
   ]
  },
  {
   "cell_type": "code",
   "execution_count": 8,
   "id": "7009b089",
   "metadata": {},
   "outputs": [
    {
     "data": {
      "text/plain": [
       "KstestResult(statistic=0.06149420797338889, pvalue=0.8213043978055151, statistic_location=8.089, statistic_sign=-1)"
      ]
     },
     "execution_count": 8,
     "metadata": {},
     "output_type": "execute_result"
    }
   ],
   "source": [
    "st.kstest(dane,RVe.cdf)"
   ]
  },
  {
   "cell_type": "markdown",
   "id": "d51a5c9a",
   "metadata": {},
   "source": [
    "### Określenie przedziałów ufności\n",
    "\n",
    "W celu obliczenia przedziałów ufności dla dowolnego parametru można użyć funkcji [`bootstrap()`](https://docs.scipy.org/doc/scipy/reference/generated/scipy.stats.bootstrap.html#scipy.stats.bootstrap) opartej o metodę bootstrappową. Tak jak w przpadku testów permutacyjnych metoda ta nie wymaga spełnienia właściwie żadnych założeń i umożliwia oszacowanie przedziałów ufności dla dowolnych parametrów.\n",
    "\n",
    "Funkcja [`bootstrap()`](https://docs.scipy.org/doc/scipy/reference/generated/scipy.stats.bootstrap.html#scipy.stats.bootstrap) wymaga przekazania wektora danych umieszczonego w krotce tj.: przekazuje się argument w postaci `(dane,)`. Drugim argumentem jest funkcja obliczająca wartość parametru, dla którego ma zostać oszacowany przedział ufności. Parametrem nazwanym `confidence_level` jest wartość ufności, domyślnie jest to wartość $0,95$. Parametr nazwany `vectorized` umożliwia określenie czy obliczenia mają zostać zoptymalizowane pod względem wydajności. Przekazana wartość `vectorized=False` oznacza zaniechanie zwiększenia efektywności obliczeń, dzięki czemu brak jest dodatkowych wymagań co do funkcji obliczającej badany parametr.\n",
    "\n",
    "Poniżej obliczono kolejno przedziały ufności dla średniej, odchylenia standardowego i mediany. W zwracanym wyniku wartośc określona jako `low` oznacza dolną granicę przedziału ufności, a wartość określona jako `high` górną granicę. Wartość `standard_error` oznacza błąd standardowy oszacowania. "
   ]
  },
  {
   "cell_type": "code",
   "execution_count": 9,
   "id": "f4df712c",
   "metadata": {},
   "outputs": [
    {
     "data": {
      "text/plain": [
       "BootstrapResult(confidence_interval=ConfidenceInterval(low=7.8959100000000015, high=8.094785805527753), bootstrap_distribution=array([8.03522, 7.95232, 8.01779, ..., 7.99444, 8.01967, 7.98418]), standard_error=0.05081936522882505)"
      ]
     },
     "execution_count": 9,
     "metadata": {},
     "output_type": "execute_result"
    }
   ],
   "source": [
    "st.bootstrap((dane,), st.tmean, confidence_level=0.95, vectorized=False)"
   ]
  },
  {
   "cell_type": "code",
   "execution_count": 10,
   "id": "605a4c70",
   "metadata": {},
   "outputs": [
    {
     "data": {
      "text/plain": [
       "BootstrapResult(confidence_interval=ConfidenceInterval(low=0.45079207186645326, high=0.5795230183333915), bootstrap_distribution=array([0.48082675, 0.51382375, 0.51310827, ..., 0.46620624, 0.50773904,\n",
       "       0.54855365]), standard_error=0.032721580305612195)"
      ]
     },
     "execution_count": 10,
     "metadata": {},
     "output_type": "execute_result"
    }
   ],
   "source": [
    "st.bootstrap((dane,),st.tstd, confidence_level=0.95, vectorized=False)"
   ]
  },
  {
   "cell_type": "code",
   "execution_count": 11,
   "id": "0a503fa5",
   "metadata": {},
   "outputs": [
    {
     "data": {
      "text/plain": [
       "BootstrapResult(confidence_interval=ConfidenceInterval(low=7.846, high=8.1525), bootstrap_distribution=array([7.94  , 7.9515, 7.996 , ..., 8.0555, 7.919 , 7.952 ]), standard_error=0.08266779721808111)"
      ]
     },
     "execution_count": 11,
     "metadata": {},
     "output_type": "execute_result"
    }
   ],
   "source": [
    "st.bootstrap((dane,),np.median, confidence_level=0.95, vectorized=False)"
   ]
  }
 ],
 "metadata": {
  "authors": [
   {
    "name": "Wojciech Artichowicz"
   }
  ],
  "kernelspec": {
   "display_name": "Python 3 (ipykernel)",
   "language": "python",
   "name": "python3"
  },
  "language_info": {
   "codemirror_mode": {
    "name": "ipython",
    "version": 3
   },
   "file_extension": ".py",
   "mimetype": "text/x-python",
   "name": "python",
   "nbconvert_exporter": "python",
   "pygments_lexer": "ipython3",
   "version": "3.10.9"
  },
  "title": "Statystyczna analiza danych - estymacja rozkładu ciągłego"
 },
 "nbformat": 4,
 "nbformat_minor": 5
}

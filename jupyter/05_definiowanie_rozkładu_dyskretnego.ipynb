{
 "cells": [
  {
   "cell_type": "markdown",
   "metadata": {},
   "source": [
    "# Definiowanie zmiennej losowej dyskretnej\n",
    "### Statystyczna analiza danych\n",
    "**dr inż. Wojciech Artichowicz**\n",
    "\n",
    "**Katedra Geotechniki i Inżynierii Wodnej PG**"
   ]
  },
  {
   "cell_type": "markdown",
   "metadata": {},
   "source": [
    "### Import bibliotek języka Python"
   ]
  },
  {
   "cell_type": "code",
   "execution_count": 2,
   "metadata": {},
   "outputs": [],
   "source": [
    "from scipy import stats as st\n",
    "import matplotlib.pyplot as plt\n",
    "import numpy as np"
   ]
  },
  {
   "cell_type": "markdown",
   "metadata": {},
   "source": [
    "### Definiowanie zmiennej losowej dyskretnej\n",
    "\n",
    "Zmienną losową dyskretną tworzy się krzystając z funkcji [`rv_discrete`](https://docs.scipy.org/doc/scipy/reference/generated/scipy.stats.rv_discrete.html#scipy.stats.rv_discrete). Tu omówiona zostanie tylko podstawowa funkcjonalność i tworzenie rozkładu o skończonej liczbie przyjmowanych wartości.\n",
    "\n",
    "Zmienną losową mającą skończoną liczbę wartości najwygodniej jest utworzyć poprzez wykorzystanie parametru `values` funkcji `rv_dicrete`. Parametr `values` jest krotką zawierającą wektor przyjmowanych wartości `x` oraz odpowiadających im prawdopodobieństw `p`: `values=(x,p)`.\n",
    "\n",
    "Poniżej zosatnie utworzona zmienna losowa dla której: $P(X=0)=\\frac{1}{10}$,  $P(X=1)=\\frac{9}{10}$."
   ]
  },
  {
   "cell_type": "code",
   "execution_count": 3,
   "metadata": {},
   "outputs": [],
   "source": [
    "x = [0,1]\n",
    "p = [1/10, 9/10]\n",
    "\n",
    "RV = st.rv_discrete(name='mój rozkład', values=(x,p))"
   ]
  },
  {
   "cell_type": "markdown",
   "metadata": {},
   "source": [
    "Poniżej wykonano wykres rozkładu prawdopodobieństwa i dystrybuanty tej zmiennej losowej."
   ]
  },
  {
   "cell_type": "code",
   "execution_count": 8,
   "metadata": {},
   "outputs": [
    {
     "data": {
      "image/png": "[encoded data removed]",
      "text/plain": [
       "<Figure size 640x480 with 1 Axes>"
      ]
     },
     "metadata": {},
     "output_type": "display_data"
    }
   ],
   "source": [
    "xk=RV.xk\n",
    "p = RV.pmf(xk)\n",
    "F = RV.cdf(xk)\n",
    "plt.vlines(xk, 0, p, colors='r', lw=4)\n",
    "plt.hlines(np.append([0],F), np.append([min(xk)-1],xk), np.append(xk,[max(xk)+1]), colors='b', lw=2)\n",
    "plt.legend([\"$p(x)$ - prawdopodobieństwo\", \"$F(x)$ - dystrybuanta\"])\n",
    "pass"
   ]
  },
  {
   "cell_type": "markdown",
   "metadata": {},
   "source": [
    "Tak samo jak w przypadku zmiennych losowych zdefiniowanych w bibliotece `scipy.stats`, utworzona zmienna losowa zapewnia taką samą funkcjonalność, np. obliczenie wartości parametrów rozkładu:"
   ]
  },
  {
   "cell_type": "code",
   "execution_count": 5,
   "metadata": {},
   "outputs": [
    {
     "data": {
      "text/plain": [
       "0.9"
      ]
     },
     "execution_count": 5,
     "metadata": {},
     "output_type": "execute_result"
    }
   ],
   "source": [
    "E = RV.expect() # wartość oczekiwana\n",
    "E"
   ]
  },
  {
   "cell_type": "code",
   "execution_count": 6,
   "metadata": {},
   "outputs": [
    {
     "data": {
      "text/plain": [
       "0.29999999999999993"
      ]
     },
     "execution_count": 6,
     "metadata": {},
     "output_type": "execute_result"
    }
   ],
   "source": [
    "S = RV.std() # odchylenie standardowe\n",
    "S"
   ]
  },
  {
   "cell_type": "markdown",
   "metadata": {},
   "source": [
    "Możliwe jest też generowanie liczb losowych pochodzących z utworzonego rozkładu."
   ]
  },
  {
   "cell_type": "code",
   "execution_count": 9,
   "metadata": {},
   "outputs": [
    {
     "data": {
      "text/plain": [
       "array([1, 1, 0, 1, 1, 1, 1, 1, 1, 1, 1, 1, 1, 1, 1, 1, 1, 1, 1, 0, 1, 1,\n",
       "       1, 0, 1, 1, 1, 1, 1, 1, 0, 1, 1, 1, 1, 1, 1, 1, 1, 1, 1, 1, 0, 1,\n",
       "       1, 1, 1, 1, 1, 1, 1, 1, 1, 1, 1, 1, 1, 1, 1, 1, 1, 1, 1, 1, 1, 1,\n",
       "       1, 1, 1, 1, 1, 1, 1, 1, 1, 1, 0, 1, 1, 1, 1, 1, 1, 1, 1, 1, 1, 1,\n",
       "       1, 1, 1, 0, 1, 1, 1, 1, 1, 1, 1, 1])"
      ]
     },
     "execution_count": 9,
     "metadata": {},
     "output_type": "execute_result"
    }
   ],
   "source": [
    "x = RV.rvs(size=100)\n",
    "x"
   ]
  }
 ],
 "metadata": {
  "authors": [
   {
    "name": "Wojciech Artichowicz"
   }
  ],
  "kernelspec": {
   "display_name": "Python 3 (ipykernel)",
   "language": "python",
   "name": "python3"
  },
  "language_info": {
   "codemirror_mode": {
    "name": "ipython",
    "version": 3
   },
   "file_extension": ".py",
   "mimetype": "text/x-python",
   "name": "python",
   "nbconvert_exporter": "python",
   "pygments_lexer": "ipython3",
   "version": "3.10.9"
  },
  "title": "Statystyczna analiza danych - definiowanie zmiennej losowej dyskretnej"
 },
 "nbformat": 4,
 "nbformat_minor": 2
}

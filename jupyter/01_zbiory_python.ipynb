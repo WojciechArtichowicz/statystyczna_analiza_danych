{
 "cells": [
  {
   "cell_type": "markdown",
   "metadata": {},
   "source": [
    "# Zbiory w języku Python\n",
    "\n",
    "### Statystyczna analiza danych\n",
    "**dr inż. Wojciech Artichowicz**\n",
    "\n",
    "**Katedra Geotechniki i Inżynierii Wodnej PG**"
   ]
  },
  {
   "cell_type": "markdown",
   "metadata": {},
   "source": [
    "## Praca ze zbiorami w języku Python\n",
    "\n",
    "Jednym z wbudowanych obiektów języka Python jest zbiór [`set`](https://docs.python.org/3/tutorial/datastructures.html#sets). Zbiory można utworzyć przy użyciu nawiasów klamrowych `{}` lub konstruktora [`set()`](https://docs.python.org/3/library/stdtypes.html#set). Zbiory mogą zawierać dowolne obiekty, każdy obiekt może się znaleźć w zbiorze tylko raz, natomiast kolejność elementów nie ma znaczenia.\n",
    "\n",
    "#### Tworzenie pustego zbioru\n",
    "Aby utworzyć zbiór pusty nalezy użyć funkcji [`set()`](https://docs.python.org/3/library/stdtypes.html#set). Użycie nawiasów klamrowych utworzy pusty słownik, nie zbiór."
   ]
  },
  {
   "cell_type": "code",
   "execution_count": 1,
   "metadata": {},
   "outputs": [
    {
     "name": "stdout",
     "output_type": "stream",
     "text": [
      "set()\n"
     ]
    }
   ],
   "source": [
    "empty_set = set() \n",
    "print( empty_set )"
   ]
  },
  {
   "cell_type": "markdown",
   "metadata": {},
   "source": [
    "Utworzenie zbioru zawierającego elementy może zostać zrealizowane z użyciem funkcji [`set()`](https://docs.python.org/3/library/stdtypes.html#set) lub nawiasów klamrowych. Dwie poniższe instrukcje tworzą identyczne zbiory:"
   ]
  },
  {
   "cell_type": "code",
   "execution_count": 2,
   "metadata": {},
   "outputs": [
    {
     "data": {
      "text/plain": [
       "True"
      ]
     },
     "execution_count": 2,
     "metadata": {},
     "output_type": "execute_result"
    }
   ],
   "source": [
    "set([1,2,3,\"x\"]) == {1,2,3,\"x\"}"
   ]
  },
  {
   "cell_type": "markdown",
   "metadata": {},
   "source": [
    "Poniżej utworzony został zbiór i przypisany zmiennej `A`:"
   ]
  },
  {
   "cell_type": "code",
   "execution_count": 3,
   "metadata": {},
   "outputs": [
    {
     "data": {
      "text/plain": [
       "{1, 2, 3, 'x'}"
      ]
     },
     "execution_count": 3,
     "metadata": {},
     "output_type": "execute_result"
    }
   ],
   "source": [
    "A = {1,2,3,\"x\"} \n",
    "A"
   ]
  },
  {
   "cell_type": "markdown",
   "metadata": {},
   "source": [
    "Aby sprawdzić czy element znajduje się w zbiorze należy użyć operatora `in`."
   ]
  },
  {
   "cell_type": "code",
   "execution_count": 4,
   "metadata": {},
   "outputs": [
    {
     "data": {
      "text/plain": [
       "True"
      ]
     },
     "execution_count": 4,
     "metadata": {},
     "output_type": "execute_result"
    }
   ],
   "source": [
    "\"x\" in A # czy \"x\" jest w zbiorze A?"
   ]
  },
  {
   "cell_type": "markdown",
   "metadata": {},
   "source": [
    "Do sprawdzania czy danego elementu nie ma w zbiorze nalezy użyć operatora `not in`."
   ]
  },
  {
   "cell_type": "code",
   "execution_count": 5,
   "metadata": {},
   "outputs": [
    {
     "data": {
      "text/plain": [
       "False"
      ]
     },
     "execution_count": 5,
     "metadata": {},
     "output_type": "execute_result"
    }
   ],
   "source": [
    "\"x\" not in A # czy \"x\"'a nie ma w zbiorze A?"
   ]
  },
  {
   "cell_type": "markdown",
   "metadata": {},
   "source": [
    "Dodawanie elementów do zbioru realizuje się przy użyciu metody `add()`."
   ]
  },
  {
   "cell_type": "code",
   "execution_count": 6,
   "metadata": {},
   "outputs": [
    {
     "data": {
      "text/plain": [
       "{1, 2, 3, 'x', 'y'}"
      ]
     },
     "execution_count": 6,
     "metadata": {},
     "output_type": "execute_result"
    }
   ],
   "source": [
    "A.add(\"y\")\n",
    "A"
   ]
  },
  {
   "cell_type": "markdown",
   "metadata": {},
   "source": [
    "Wielokrotne dodanie elementu do zbioru nie powoduje dodania kopii tego elementu."
   ]
  },
  {
   "cell_type": "code",
   "execution_count": 7,
   "metadata": {},
   "outputs": [
    {
     "data": {
      "text/plain": [
       "{1, 2, 3, 'a', 'x', 'y'}"
      ]
     },
     "execution_count": 7,
     "metadata": {},
     "output_type": "execute_result"
    }
   ],
   "source": [
    "A.add(\"a\")\n",
    "A.add(\"y\")\n",
    "A.add(\"x\")\n",
    "\n",
    "A"
   ]
  },
  {
   "cell_type": "markdown",
   "metadata": {},
   "source": [
    "Usuwanie elementu ze zbioru realizuje się przy użyciu funkcji `remove()`. Instrukcja poniżej usuwa element `\"x\"` ze zbioru `A`.\n",
    "\n",
    "**Uwaga**: Próba usunięcia elementu, którego nie ma w zbiorze spowoduje błąd."
   ]
  },
  {
   "cell_type": "code",
   "execution_count": 8,
   "metadata": {},
   "outputs": [
    {
     "data": {
      "text/plain": [
       "{1, 2, 3, 'a', 'y'}"
      ]
     },
     "execution_count": 8,
     "metadata": {},
     "output_type": "execute_result"
    }
   ],
   "source": [
    "A.remove('x')\n",
    "A"
   ]
  },
  {
   "cell_type": "markdown",
   "metadata": {},
   "source": [
    "W celu uniknięcia zgłaszania błędów, przed usunięciem elementu można sprawdzić czy znajduje się on w zbiorze."
   ]
  },
  {
   "cell_type": "code",
   "execution_count": 9,
   "metadata": {},
   "outputs": [],
   "source": [
    "element = 1\n",
    "if element in A:\n",
    "    A.remove(element)"
   ]
  },
  {
   "cell_type": "markdown",
   "metadata": {},
   "source": [
    "### Operacje na zbiorach\n",
    "\n",
    "Na zbiorach można realizować następujące operacje:\n",
    " - liczba elementów  $|A|$\n",
    " - suma $A \\cup B$\n",
    " - iloczyn: $A \\cap B$\n",
    " - różnica: $A - B$\n",
    " - różnica symetryczna: $A \\Delta B$"
   ]
  },
  {
   "cell_type": "code",
   "execution_count": 10,
   "metadata": {},
   "outputs": [
    {
     "name": "stdout",
     "output_type": "stream",
     "text": [
      "liczebność (moc) zbioru A=  3\n",
      "suma = {'b', 'd', 'a', 'c'}\n",
      "iloczyn = {'b', 'c'}\n",
      "różnica = {'a'}\n",
      "różnica symetryczna (albo) = {'a', 'd'}\n"
     ]
    }
   ],
   "source": [
    "A = {\"a\",\"b\",\"c\"}\n",
    "B = {\"b\",\"c\",\"d\"}\n",
    "\n",
    "c =len(A)\n",
    "print(\"liczebność (moc) zbioru A=  \" + str(c))\n",
    "\n",
    "AuB = A | B # suma\n",
    "print(\"suma = \" + str(AuB) )\n",
    "\n",
    "AiB = A & B # iloczyn\n",
    "print(\"iloczyn = \" + str(AiB) )\n",
    "\n",
    "A_B = A - B # różnica\n",
    "print(\"różnica = \" + str(A_B) )\n",
    "\n",
    "AdB = A ^ B # różnica symetryczna\n",
    "print(\"różnica symetryczna (albo) = \" + str(AdB) )"
   ]
  },
  {
   "cell_type": "markdown",
   "metadata": {},
   "source": [
    "### Zautomatyzowane tworzenie zbiorów\n",
    "\n",
    "Jest wiele metod automatyzacji tworzenia zbiorów. Jednym z podstawowych jest użycie obiektów iterowalnych oraz pętli."
   ]
  },
  {
   "cell_type": "code",
   "execution_count": 11,
   "metadata": {},
   "outputs": [
    {
     "data": {
      "text/plain": [
       "{0, 3, 6, 9}"
      ]
     },
     "execution_count": 11,
     "metadata": {},
     "output_type": "execute_result"
    }
   ],
   "source": [
    "Z = {i for i in range(0,10,3)}\n",
    "Z"
   ]
  },
  {
   "cell_type": "code",
   "execution_count": 12,
   "metadata": {},
   "outputs": [
    {
     "data": {
      "text/plain": [
       "{'0a', '0b', '0c', '3a', '3b', '3c', '6a', '6b', '6c', '9a', '9b', '9c'}"
      ]
     },
     "execution_count": 12,
     "metadata": {},
     "output_type": "execute_result"
    }
   ],
   "source": [
    "Z1 = {str(i)+j for i in range(0,10,3) for j in \"abc\"}\n",
    "Z1"
   ]
  },
  {
   "cell_type": "markdown",
   "metadata": {},
   "source": [
    "### Biblioteka [`itertools`](https://docs.python.org/3/library/itertools.html)\n",
    "Do generowania zbiorów na podstawie zależności kombinatorycznych można wykorzystać moduł **itertools**:\n",
    " - product(A,B) : tworzy iloczyn kartezjański dwóch zbiorów $A \\times B$\n",
    " - permutation(A,N) : tworzy wszystkie $N$ elementowe permutacje zbioru $A$\n",
    " - combination(A,N) : tworzy wszystkie $N$ elementowe kombinacje zbioru $A$\n",
    " - combination_with_replacement(A,N) : tworzy wszystkie $N$ elementowe kombinacje zbioru $A$ z powtórzniami"
   ]
  },
  {
   "cell_type": "code",
   "execution_count": 13,
   "metadata": {},
   "outputs": [],
   "source": [
    "from itertools import product, permutations, combinations, combinations_with_replacement"
   ]
  },
  {
   "cell_type": "code",
   "execution_count": 14,
   "metadata": {},
   "outputs": [
    {
     "name": "stdout",
     "output_type": "stream",
     "text": [
      "{('a', 'd'), ('a', 'b'), ('a', 'c'), ('c', 'd'), ('c', 'b'), ('b', 'd'), ('b', 'b'), ('c', 'c'), ('b', 'c')}\n",
      "{('c', 'a', 'b'), ('b', 'a', 'c'), ('a', 'b', 'c'), ('a', 'c', 'b'), ('c', 'b', 'a'), ('b', 'c', 'a')}\n",
      "{('a', 'b'), ('a', 'c'), ('b', 'c')}\n",
      "{('a', 'b'), ('a', 'c'), ('c', 'c'), ('b', 'b'), ('b', 'c'), ('a', 'a')}\n"
     ]
    }
   ],
   "source": [
    "productAB = set( product(A,B) )# tworzy iloczyn kartezjański dwóch zbiorów\n",
    "print(productAB)\n",
    "\n",
    "permutation_3_out_of_A = set( permutations(A,3) )\n",
    "print(permutation_3_out_of_A)\n",
    "\n",
    "combination_2_out_of_A = set( combinations(A,2) )\n",
    "print(combination_2_out_of_A)\n",
    "\n",
    "combination_wr_2_out_of_A = set( combinations_with_replacement(A,2) )\n",
    "print(combination_wr_2_out_of_A)"
   ]
  }
 ],
 "metadata": {
  "authors": [
   {
    "name": "Wojciech Artichowicz"
   }
  ],
  "kernelspec": {
   "display_name": "Python 3 (ipykernel)",
   "language": "python",
   "name": "python3"
  },
  "language_info": {
   "codemirror_mode": {
    "name": "ipython",
    "version": 3
   },
   "file_extension": ".py",
   "mimetype": "text/x-python",
   "name": "python",
   "nbconvert_exporter": "python",
   "pygments_lexer": "ipython3",
   "version": "3.8.13"
  },
  "title": "Statystyczna analiza danych - zbiory"
 },
 "nbformat": 4,
 "nbformat_minor": 2
}

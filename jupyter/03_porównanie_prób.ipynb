{
 "cells": [
  {
   "cell_type": "markdown",
   "id": "a5a87f17",
   "metadata": {},
   "source": [
    "# Analiza porównawcza dwóch prób\n",
    "\n",
    "### Statystyczna analiza danych\n",
    "**dr inż. Wojciech Artichowicz**\n",
    "\n",
    "**Katedra Geotechniki i Inżynierii Wodnej PG**"
   ]
  },
  {
   "cell_type": "markdown",
   "id": "1e0900e7",
   "metadata": {},
   "source": [
    "W praktyce inżynierskiej często zachodzi konieczność porównywania dwóch lub większej ilości zbiorowości. W tym celu wykorzystuje się m.in. statystykę opisową (charakterystyki, wykresy) oraz narzędzia statystyki matematycznej w postaci testów statystycznych. Poniżej przeprowadzona zostanie podstawowa analiza porównawcza stężenia naftalenu na podstawie wartości pobranych w dwóch miejscach oznaczonych jako A i B."
   ]
  },
  {
   "cell_type": "markdown",
   "id": "89ceb546",
   "metadata": {},
   "source": [
    "#### Dane\n",
    "Dane są wartości stężenia naftalenu w osadzie dennym pomierzone w dwóch punktach rzeki. Wartości wyrażone są w mikrogramach na kilogram suchej masy [µg/kg sm]. \n",
    "Wartości pomiarów w punkcie $A$: \n",
    "\n",
    "$9{,}0;\\;2{,}5;\\;16{,}0;\\;41{,}0;\\;15{,}0;\\;230{,}0;\\;2{,}5;\\;2{,}5;\\;18{,}0;\\;7{,}0;\\;16{,}0$ [µg/kg sm] \n",
    "\n",
    "oraz w punkcie $B$: \n",
    "\n",
    "$44{,}0;\\;28{,}0;\\;26{,}0;\\;2{,}5;\\;15{,}0;\\;18{,}0;\\;22{,}0;\\;37{,}0;\\;12{,}0$ [µg/kg sm].\n",
    "\n",
    "Dokonaj porównania stężenia naftalenu w tych punktach korzystając z metod statystyki opisowej i matematycznej.\n"
   ]
  },
  {
   "cell_type": "markdown",
   "id": "6b716837",
   "metadata": {},
   "source": [
    "### Import bibliotek języka Python"
   ]
  },
  {
   "cell_type": "code",
   "execution_count": 1,
   "id": "06e29bc5",
   "metadata": {},
   "outputs": [],
   "source": [
    "import numpy as np # tablice, macierze i algebra liniowa\n",
    "import scipy.stats as st # biblioteka obliczeń statystycznych\n",
    "import pandas as pd # obiekt ramki danych\n",
    "import matplotlib.pyplot as plt # podstawowa wizualizacja\n",
    "import seaborn as sns # zaawansowana wizualizacja danych"
   ]
  },
  {
   "cell_type": "markdown",
   "id": "41733995",
   "metadata": {},
   "source": [
    "Utworzenie zmiennych w postaci tablic przechowujących dane:"
   ]
  },
  {
   "cell_type": "code",
   "execution_count": 2,
   "id": "5bfbb13e",
   "metadata": {},
   "outputs": [],
   "source": [
    "A = np.array([ 9.0,  2.5, 16.0, 41.0, 15.0, 230.0,  2.5,  2.5, 18.0, 7.0, 16.0])\n",
    "B = np.array([44.0, 28.0, 26.0,  2.5, 15.0,  18.0, 22.0, 37.0, 12.0])"
   ]
  },
  {
   "cell_type": "markdown",
   "id": "c4d3066f",
   "metadata": {},
   "source": [
    "### Statystyka opisowa z użyciem biblioteki [scipy.stats](https://docs.scipy.org/doc/scipy/reference/stats.html)\n",
    "Poniżej wykorzystane zostaną funkcje obliczające podstawowe charakterystyki dla obu prób. W tym celu wykorzystana zostanie biblioteka [scipy.stats](https://docs.scipy.org/doc/scipy/reference/stats.html).\n",
    "\n",
    "Funkcją obliczajacą wiele podstawowych charakterystyk próby jest [`describe()`](https://docs.scipy.org/doc/scipy/reference/generated/scipy.stats.describe.html#scipy.stats.describe). Wartości zwracane przez tę funkcję pozwalają na poznanie ogólnej charakterystyki obu prób i ewentualne wychwycenie różnic między próbami."
   ]
  },
  {
   "cell_type": "code",
   "execution_count": 3,
   "id": "3e92b881",
   "metadata": {},
   "outputs": [
    {
     "data": {
      "text/plain": [
       "DescribeResult(nobs=11, minmax=(2.5, 230.0), mean=32.68181818181818, variance=4404.163636363635, skewness=2.7100959906150335, kurtosis=5.616840215985562)"
      ]
     },
     "execution_count": 3,
     "metadata": {},
     "output_type": "execute_result"
    }
   ],
   "source": [
    "opisA = st.describe(A)\n",
    "opisA"
   ]
  },
  {
   "cell_type": "code",
   "execution_count": 4,
   "id": "176141f6",
   "metadata": {},
   "outputs": [
    {
     "data": {
      "text/plain": [
       "DescribeResult(nobs=9, minmax=(2.5, 44.0), mean=22.72222222222222, variance=162.69444444444446, skewness=0.16979806715018642, kurtosis=-0.7052949422099739)"
      ]
     },
     "execution_count": 4,
     "metadata": {},
     "output_type": "execute_result"
    }
   ],
   "source": [
    "opisB = st.describe(B)\n",
    "opisB"
   ]
  },
  {
   "cell_type": "markdown",
   "id": "126e7c9f",
   "metadata": {},
   "source": [
    "Aby ułatwić sobie porównywanie parametrów wygodnie jest umieścić otrzymane wyniki w obiekcie ramki danych, gdzie kolumny będą reprezentować porównywane próby, a wierszami będą kolejno wyznaczone parametry. Jako indeks ramki danych (tj. nazwy wierszy) należy przekazać nazwy parametrów obliczanych przez funkcję `describe()`. Nazwy te są przechowywane w polu o nazwie `_fields`. Poniżej zostaje utworzona i zapisana ramka danych zawierająca obliczone parametry."
   ]
  },
  {
   "cell_type": "code",
   "execution_count": 5,
   "id": "7f6d85fb",
   "metadata": {},
   "outputs": [
    {
     "data": {
      "text/html": [
       "<div>\n",
       "<style scoped>\n",
       "    .dataframe tbody tr th:only-of-type {\n",
       "        vertical-align: middle;\n",
       "    }\n",
       "\n",
       "    .dataframe tbody tr th {\n",
       "        vertical-align: top;\n",
       "    }\n",
       "\n",
       "    .dataframe thead th {\n",
       "        text-align: right;\n",
       "    }\n",
       "</style>\n",
       "<table border=\"1\" class=\"dataframe\">\n",
       "  <thead>\n",
       "    <tr style=\"text-align: right;\">\n",
       "      <th></th>\n",
       "      <th>A</th>\n",
       "      <th>B</th>\n",
       "    </tr>\n",
       "  </thead>\n",
       "  <tbody>\n",
       "    <tr>\n",
       "      <th>nobs</th>\n",
       "      <td>11</td>\n",
       "      <td>9</td>\n",
       "    </tr>\n",
       "    <tr>\n",
       "      <th>minmax</th>\n",
       "      <td>(2.5, 230.0)</td>\n",
       "      <td>(2.5, 44.0)</td>\n",
       "    </tr>\n",
       "    <tr>\n",
       "      <th>mean</th>\n",
       "      <td>32.681818</td>\n",
       "      <td>22.722222</td>\n",
       "    </tr>\n",
       "    <tr>\n",
       "      <th>variance</th>\n",
       "      <td>4404.163636</td>\n",
       "      <td>162.694444</td>\n",
       "    </tr>\n",
       "    <tr>\n",
       "      <th>skewness</th>\n",
       "      <td>2.710096</td>\n",
       "      <td>0.169798</td>\n",
       "    </tr>\n",
       "    <tr>\n",
       "      <th>kurtosis</th>\n",
       "      <td>5.61684</td>\n",
       "      <td>-0.705295</td>\n",
       "    </tr>\n",
       "  </tbody>\n",
       "</table>\n",
       "</div>"
      ],
      "text/plain": [
       "                     A            B\n",
       "nobs                11            9\n",
       "minmax    (2.5, 230.0)  (2.5, 44.0)\n",
       "mean         32.681818    22.722222\n",
       "variance   4404.163636   162.694444\n",
       "skewness      2.710096     0.169798\n",
       "kurtosis       5.61684    -0.705295"
      ]
     },
     "execution_count": 5,
     "metadata": {},
     "output_type": "execute_result"
    }
   ],
   "source": [
    "df_opis = pd.DataFrame({\"A\":opisA, # utworzenie kolumny A\n",
    "                        \"B\":opisB}, # utworzenie kolumny B\n",
    "                        index=opisA._fields) # nadanie wierszom nazw\n",
    "df_opis"
   ]
  },
  {
   "cell_type": "markdown",
   "id": "5bc2a42b",
   "metadata": {},
   "source": [
    "Na podstawie wyżej obliczonych charakterystyk łatwo można zauważyć, że próby się różnią. Szczególnie zwraca uwagę zakres wartości (minmax), który w obu próbach znacznie się różni. O ile zaobserwowane wartości minimalne są identyczne, to wartości maksymalne bardzo się różnią. Maksymalne stężenie naftalenu w punkcie A jest pięciokrotnie większe niż w punkcie B. Średnie wartości są różne, ale jednak zbliżone do siebie. Zatem możemy podejrzewać, że tak duża zaobserwowana wartość maksymalna w punkcie A jest daleka od wartości typowych. Przypuszczenie to może potwierdzić lub wykluczyć obliczenie mediany, czyli wartości dzielącej próbę na dwie równe połowy."
   ]
  },
  {
   "cell_type": "code",
   "execution_count": 6,
   "id": "4dae3ce7",
   "metadata": {},
   "outputs": [
    {
     "data": {
      "text/plain": [
       "[15.0, 22.0]"
      ]
     },
     "execution_count": 6,
     "metadata": {},
     "output_type": "execute_result"
    }
   ],
   "source": [
    "[np.median(A), np.median(B)]"
   ]
  },
  {
   "cell_type": "markdown",
   "id": "4bab1471",
   "metadata": {},
   "source": [
    "Aby ułatwić raportowanie warto dodać obliczone dodatkowo parametry (tzn. mediany) do istniejącej już ramki danych `df_opis`. W celu zaktualizaowania ramki danych z obliczonymi charakterystykami należy utworzyć nową ramkę danych zawierającą obliczone mediany. \n",
    "\n",
    "**Uwaga**: Należy zwrócić uwagę na to, żeby nazwy kolumn były identyczne jak w ramce danych, z którą będzie ona łączona. Ponadto wartości przekazane jako kolumny muszą być obiekatmi iterowalnymi (tzn. listami, krotkami, tablicami numpy, itp.), stąd umieszczenie wartości mediany w jednoelementowych listach, tzn.: `[np.median(A)]` oraz `[np.median(B)]`. "
   ]
  },
  {
   "cell_type": "code",
   "execution_count": 7,
   "id": "15f2b5e0",
   "metadata": {},
   "outputs": [
    {
     "data": {
      "text/html": [
       "<div>\n",
       "<style scoped>\n",
       "    .dataframe tbody tr th:only-of-type {\n",
       "        vertical-align: middle;\n",
       "    }\n",
       "\n",
       "    .dataframe tbody tr th {\n",
       "        vertical-align: top;\n",
       "    }\n",
       "\n",
       "    .dataframe thead th {\n",
       "        text-align: right;\n",
       "    }\n",
       "</style>\n",
       "<table border=\"1\" class=\"dataframe\">\n",
       "  <thead>\n",
       "    <tr style=\"text-align: right;\">\n",
       "      <th></th>\n",
       "      <th>A</th>\n",
       "      <th>B</th>\n",
       "    </tr>\n",
       "  </thead>\n",
       "  <tbody>\n",
       "    <tr>\n",
       "      <th>median</th>\n",
       "      <td>15.0</td>\n",
       "      <td>22.0</td>\n",
       "    </tr>\n",
       "  </tbody>\n",
       "</table>\n",
       "</div>"
      ],
      "text/plain": [
       "           A     B\n",
       "median  15.0  22.0"
      ]
     },
     "execution_count": 7,
     "metadata": {},
     "output_type": "execute_result"
    }
   ],
   "source": [
    "df_median=pd.DataFrame({\"A\":[np.median(A)], # utworzenie kolumny A\n",
    "                        \"B\":[np.median(B)]}, # utworzenie kolumny B\n",
    "                       index=[\"median\"]) # określenie nazwy wiersza\n",
    "df_median"
   ]
  },
  {
   "cell_type": "markdown",
   "id": "98379af4",
   "metadata": {},
   "source": [
    "W celu połączenia dwóch ramek danych można wykorzystać funkcję [`concat()`](https://pandas.pydata.org/docs/reference/api/pandas.concat.html). Ramki danych, które mają zostać połączone należy przekazać z użyciem listy tzn.: `[df_opis, df_median]`. Wynikowa ramka zostanie zapisana w zmiennej `df_opis`, tzn. zmienna `df_opis` zostanie nadpisana."
   ]
  },
  {
   "cell_type": "code",
   "execution_count": 8,
   "id": "35481c6f",
   "metadata": {},
   "outputs": [
    {
     "data": {
      "text/html": [
       "<div>\n",
       "<style scoped>\n",
       "    .dataframe tbody tr th:only-of-type {\n",
       "        vertical-align: middle;\n",
       "    }\n",
       "\n",
       "    .dataframe tbody tr th {\n",
       "        vertical-align: top;\n",
       "    }\n",
       "\n",
       "    .dataframe thead th {\n",
       "        text-align: right;\n",
       "    }\n",
       "</style>\n",
       "<table border=\"1\" class=\"dataframe\">\n",
       "  <thead>\n",
       "    <tr style=\"text-align: right;\">\n",
       "      <th></th>\n",
       "      <th>A</th>\n",
       "      <th>B</th>\n",
       "    </tr>\n",
       "  </thead>\n",
       "  <tbody>\n",
       "    <tr>\n",
       "      <th>nobs</th>\n",
       "      <td>11</td>\n",
       "      <td>9</td>\n",
       "    </tr>\n",
       "    <tr>\n",
       "      <th>minmax</th>\n",
       "      <td>(2.5, 230.0)</td>\n",
       "      <td>(2.5, 44.0)</td>\n",
       "    </tr>\n",
       "    <tr>\n",
       "      <th>mean</th>\n",
       "      <td>32.681818</td>\n",
       "      <td>22.722222</td>\n",
       "    </tr>\n",
       "    <tr>\n",
       "      <th>variance</th>\n",
       "      <td>4404.163636</td>\n",
       "      <td>162.694444</td>\n",
       "    </tr>\n",
       "    <tr>\n",
       "      <th>skewness</th>\n",
       "      <td>2.710096</td>\n",
       "      <td>0.169798</td>\n",
       "    </tr>\n",
       "    <tr>\n",
       "      <th>kurtosis</th>\n",
       "      <td>5.61684</td>\n",
       "      <td>-0.705295</td>\n",
       "    </tr>\n",
       "    <tr>\n",
       "      <th>median</th>\n",
       "      <td>15.0</td>\n",
       "      <td>22.0</td>\n",
       "    </tr>\n",
       "  </tbody>\n",
       "</table>\n",
       "</div>"
      ],
      "text/plain": [
       "                     A            B\n",
       "nobs                11            9\n",
       "minmax    (2.5, 230.0)  (2.5, 44.0)\n",
       "mean         32.681818    22.722222\n",
       "variance   4404.163636   162.694444\n",
       "skewness      2.710096     0.169798\n",
       "kurtosis       5.61684    -0.705295\n",
       "median            15.0         22.0"
      ]
     },
     "execution_count": 8,
     "metadata": {},
     "output_type": "execute_result"
    }
   ],
   "source": [
    "df_opis = pd.concat([df_opis,df_median])\n",
    "df_opis"
   ]
  },
  {
   "cell_type": "markdown",
   "id": "c0d7d7ae",
   "metadata": {},
   "source": [
    "Mediana steżenia naftalenu w punkcie A jest niższa niż w punkcie B. To zdaje się potwierdzać wcześniejsze przypuszczenie, że zaobserwowana wartość maksymalna w punkcie A może nie być wartością typową. Dodatkowo warto obliczyć odchylenie bezwzględne medianowe, które jest mało wrażliwe na wartości odstające. Jeśli wartości obliczone dla obu prób będą podobne to znaczy, że zaobserwowana wartość maksymalna w punkcie A jest wartością nietypową."
   ]
  },
  {
   "cell_type": "code",
   "execution_count": 9,
   "id": "8bcb5dd7",
   "metadata": {},
   "outputs": [
    {
     "data": {
      "text/plain": [
       "[8.0, 7.0]"
      ]
     },
     "execution_count": 9,
     "metadata": {},
     "output_type": "execute_result"
    }
   ],
   "source": [
    "[st.median_abs_deviation(A), st.median_abs_deviation(B)]"
   ]
  },
  {
   "cell_type": "markdown",
   "id": "b7e68703",
   "metadata": {},
   "source": [
    "Rzeczywiście wartości bezwzględnego odchylenia medianowego w obu próbach są bardzo podobne, natomiast wariancje różnią się bardzo znacznie. Sugeruje to występowanie wartości silnie odstających w próbie z punktu A.\n",
    "\n",
    "Poniżej w sposób identyczny jak poprzednio dodano obliczone wartości odchylenia medianowego do ramki danych `df_opis`."
   ]
  },
  {
   "cell_type": "code",
   "execution_count": 10,
   "id": "15114713",
   "metadata": {},
   "outputs": [
    {
     "data": {
      "text/html": [
       "<div>\n",
       "<style scoped>\n",
       "    .dataframe tbody tr th:only-of-type {\n",
       "        vertical-align: middle;\n",
       "    }\n",
       "\n",
       "    .dataframe tbody tr th {\n",
       "        vertical-align: top;\n",
       "    }\n",
       "\n",
       "    .dataframe thead th {\n",
       "        text-align: right;\n",
       "    }\n",
       "</style>\n",
       "<table border=\"1\" class=\"dataframe\">\n",
       "  <thead>\n",
       "    <tr style=\"text-align: right;\">\n",
       "      <th></th>\n",
       "      <th>A</th>\n",
       "      <th>B</th>\n",
       "    </tr>\n",
       "  </thead>\n",
       "  <tbody>\n",
       "    <tr>\n",
       "      <th>nobs</th>\n",
       "      <td>11</td>\n",
       "      <td>9</td>\n",
       "    </tr>\n",
       "    <tr>\n",
       "      <th>minmax</th>\n",
       "      <td>(2.5, 230.0)</td>\n",
       "      <td>(2.5, 44.0)</td>\n",
       "    </tr>\n",
       "    <tr>\n",
       "      <th>mean</th>\n",
       "      <td>32.681818</td>\n",
       "      <td>22.722222</td>\n",
       "    </tr>\n",
       "    <tr>\n",
       "      <th>variance</th>\n",
       "      <td>4404.163636</td>\n",
       "      <td>162.694444</td>\n",
       "    </tr>\n",
       "    <tr>\n",
       "      <th>skewness</th>\n",
       "      <td>2.710096</td>\n",
       "      <td>0.169798</td>\n",
       "    </tr>\n",
       "    <tr>\n",
       "      <th>kurtosis</th>\n",
       "      <td>5.61684</td>\n",
       "      <td>-0.705295</td>\n",
       "    </tr>\n",
       "    <tr>\n",
       "      <th>median</th>\n",
       "      <td>15.0</td>\n",
       "      <td>22.0</td>\n",
       "    </tr>\n",
       "    <tr>\n",
       "      <th>med abs dev</th>\n",
       "      <td>8.0</td>\n",
       "      <td>7.0</td>\n",
       "    </tr>\n",
       "  </tbody>\n",
       "</table>\n",
       "</div>"
      ],
      "text/plain": [
       "                        A            B\n",
       "nobs                   11            9\n",
       "minmax       (2.5, 230.0)  (2.5, 44.0)\n",
       "mean            32.681818    22.722222\n",
       "variance      4404.163636   162.694444\n",
       "skewness         2.710096     0.169798\n",
       "kurtosis          5.61684    -0.705295\n",
       "median               15.0         22.0\n",
       "med abs dev           8.0          7.0"
      ]
     },
     "execution_count": 10,
     "metadata": {},
     "output_type": "execute_result"
    }
   ],
   "source": [
    "df_opis = pd.concat([df_opis,\n",
    "                     # utworzenie nowej ramki daneych zawierającej odchylenia medianowe\n",
    "                     pd.DataFrame({\"A\":[st.median_abs_deviation(A)], # utworzenie kolumny A\n",
    "                        \"B\":[st.median_abs_deviation(B)]}, # utworzenie kolumny B\n",
    "                       index=[\"med abs dev\"])])\n",
    "df_opis"
   ]
  },
  {
   "cell_type": "markdown",
   "id": "e0fae7f6",
   "metadata": {},
   "source": [
    "### Wizualizacja danych\n",
    "\n",
    "Graficzne przedstawienie wartości obecnych w próbie jest kluczowym elementem statystycznej analizy danych. W przypadku analizy porównawczej najbardziej efektywnym sposobem analizy jest użycie biblioteki [seaborn](https://seaborn.pydata.org/). \n",
    "\n",
    "W związku z tym, że obie próby są niewielkie stosowanie histogramów lub innych estymatorów gęstości prawdopodobieństwa nie ma większego sensu. W takim przypadku najlepszym sposobem wizualizacji jest stworzenie wykresów skrzynkowych oraz dodatkowo umieszczenie na wykresie wszystkich punktów pomiarowych. \n",
    "\n",
    "#### Format danych\n",
    "\n",
    "Biblioteka [seaborn](https://seaborn.pydata.org/) wykorzystuje format danych tzw. *tabeli przestawnej* zapewniający dużą elastyczność analiz. W rozważanym tu przypadku analizie podlega jedna wartość (stężenie naftalenu) mierzona w dwóch punktach. Dla danych w takiej postaci format *tabeli przestawnej* oznacza połączenie wszystkich danych w jedną ramkę danych i dodanie do niej kolumny oznaczającej miejsce poboru próby. Efekt taki najłatwiej otrzymać tworząc osobne ramki danych dla każdego punktu i dodając do każdej z nich etykietę punktu, a następnie scalając je. Postępowanie takie przeprowadzono w komórce poniżej. Utwrozona ramka danych zawierać będzie dwie kolumny: `naftalen` i `punkt`."
   ]
  },
  {
   "cell_type": "code",
   "execution_count": 11,
   "id": "2f58809b",
   "metadata": {},
   "outputs": [
    {
     "data": {
      "text/html": [
       "<div>\n",
       "<style scoped>\n",
       "    .dataframe tbody tr th:only-of-type {\n",
       "        vertical-align: middle;\n",
       "    }\n",
       "\n",
       "    .dataframe tbody tr th {\n",
       "        vertical-align: top;\n",
       "    }\n",
       "\n",
       "    .dataframe thead th {\n",
       "        text-align: right;\n",
       "    }\n",
       "</style>\n",
       "<table border=\"1\" class=\"dataframe\">\n",
       "  <thead>\n",
       "    <tr style=\"text-align: right;\">\n",
       "      <th></th>\n",
       "      <th>naftalen</th>\n",
       "      <th>punkt</th>\n",
       "    </tr>\n",
       "  </thead>\n",
       "  <tbody>\n",
       "    <tr>\n",
       "      <th>0</th>\n",
       "      <td>9.0</td>\n",
       "      <td>A</td>\n",
       "    </tr>\n",
       "    <tr>\n",
       "      <th>1</th>\n",
       "      <td>2.5</td>\n",
       "      <td>A</td>\n",
       "    </tr>\n",
       "    <tr>\n",
       "      <th>2</th>\n",
       "      <td>16.0</td>\n",
       "      <td>A</td>\n",
       "    </tr>\n",
       "    <tr>\n",
       "      <th>3</th>\n",
       "      <td>41.0</td>\n",
       "      <td>A</td>\n",
       "    </tr>\n",
       "    <tr>\n",
       "      <th>4</th>\n",
       "      <td>15.0</td>\n",
       "      <td>A</td>\n",
       "    </tr>\n",
       "    <tr>\n",
       "      <th>5</th>\n",
       "      <td>230.0</td>\n",
       "      <td>A</td>\n",
       "    </tr>\n",
       "    <tr>\n",
       "      <th>6</th>\n",
       "      <td>2.5</td>\n",
       "      <td>A</td>\n",
       "    </tr>\n",
       "    <tr>\n",
       "      <th>7</th>\n",
       "      <td>2.5</td>\n",
       "      <td>A</td>\n",
       "    </tr>\n",
       "    <tr>\n",
       "      <th>8</th>\n",
       "      <td>18.0</td>\n",
       "      <td>A</td>\n",
       "    </tr>\n",
       "    <tr>\n",
       "      <th>9</th>\n",
       "      <td>7.0</td>\n",
       "      <td>A</td>\n",
       "    </tr>\n",
       "    <tr>\n",
       "      <th>10</th>\n",
       "      <td>16.0</td>\n",
       "      <td>A</td>\n",
       "    </tr>\n",
       "    <tr>\n",
       "      <th>0</th>\n",
       "      <td>44.0</td>\n",
       "      <td>B</td>\n",
       "    </tr>\n",
       "    <tr>\n",
       "      <th>1</th>\n",
       "      <td>28.0</td>\n",
       "      <td>B</td>\n",
       "    </tr>\n",
       "    <tr>\n",
       "      <th>2</th>\n",
       "      <td>26.0</td>\n",
       "      <td>B</td>\n",
       "    </tr>\n",
       "    <tr>\n",
       "      <th>3</th>\n",
       "      <td>2.5</td>\n",
       "      <td>B</td>\n",
       "    </tr>\n",
       "    <tr>\n",
       "      <th>4</th>\n",
       "      <td>15.0</td>\n",
       "      <td>B</td>\n",
       "    </tr>\n",
       "    <tr>\n",
       "      <th>5</th>\n",
       "      <td>18.0</td>\n",
       "      <td>B</td>\n",
       "    </tr>\n",
       "    <tr>\n",
       "      <th>6</th>\n",
       "      <td>22.0</td>\n",
       "      <td>B</td>\n",
       "    </tr>\n",
       "    <tr>\n",
       "      <th>7</th>\n",
       "      <td>37.0</td>\n",
       "      <td>B</td>\n",
       "    </tr>\n",
       "    <tr>\n",
       "      <th>8</th>\n",
       "      <td>12.0</td>\n",
       "      <td>B</td>\n",
       "    </tr>\n",
       "  </tbody>\n",
       "</table>\n",
       "</div>"
      ],
      "text/plain": [
       "    naftalen punkt\n",
       "0        9.0     A\n",
       "1        2.5     A\n",
       "2       16.0     A\n",
       "3       41.0     A\n",
       "4       15.0     A\n",
       "5      230.0     A\n",
       "6        2.5     A\n",
       "7        2.5     A\n",
       "8       18.0     A\n",
       "9        7.0     A\n",
       "10      16.0     A\n",
       "0       44.0     B\n",
       "1       28.0     B\n",
       "2       26.0     B\n",
       "3        2.5     B\n",
       "4       15.0     B\n",
       "5       18.0     B\n",
       "6       22.0     B\n",
       "7       37.0     B\n",
       "8       12.0     B"
      ]
     },
     "execution_count": 11,
     "metadata": {},
     "output_type": "execute_result"
    }
   ],
   "source": [
    "dfA = pd.DataFrame({\"naftalen\":A}) # utworzenie ramki danych dla punktu A zawierającej jedną kolumnę naftalen\n",
    "dfA[\"punkt\"] =\"A\" # dodanie kolumny o nazwie punkt, w której wszystkie wartości są równe znakowi \"A\"\n",
    "\n",
    "dfB = pd.DataFrame({\"naftalen\":B})  # utworzenie ramki danych dla punktu B zawierającej jedną kolumnę naftalen\n",
    "dfB[\"punkt\"] =\"B\"# dodanie kolumny o nazwie punkt, w której wszystkie wartości są równe znakowi \"B\"\n",
    "\n",
    "df = pd.concat((dfA,dfB)) # połączenie wyżej utworzonych ramek danych\n",
    "df # wypisanie ramki danych"
   ]
  },
  {
   "cell_type": "markdown",
   "id": "0d337265",
   "metadata": {},
   "source": [
    "#### Wykres skrzynkowy i wykres puntków\n",
    "Poniżej wykorzystano dwie funkcje z biblioteki [seaborn](https://seaborn.pydata.org/): \n",
    " - [`boxplot()`](https://seaborn.pydata.org/generated/seaborn.boxplot.html) - tworzącą wykres skrzynkowy\n",
    " - [`stripplot()`](https://seaborn.pydata.org/generated/seaborn.stripplot.html) - tworzącą wykres punktowy dla każdej kategorii (tu etykiety punktu poboru prób)\n",
    " \n",
    "Funkcje tworzące wykresy pobierają ramkę danych tj.: `data=df` oraz nazwę kolumny określającej wartości wykresu, tu kategorie mają zostać wyświetlone na osi $x$, natomiast wartości zmiennej na osi $y$. W związku z tym dla obu wykresów wartości $x$ i $y$ zostaną okreslone jako: `x=\"punkt\"` oraz `y=\"naftalen\"`.\n",
    "\n",
    "W związku z tym, że oprócz wykresu skrzynkowego narysowane zostaną wszystkie punkty zaniechano zaznaczania obserwacji odstających na wykresie skrzynkowym. Opcją umożliwiajacą takie zachowanie jest `showfliers = False`. Natomiast aby uniknąć nakładania się punktów tworzonych przy pomocy funkcji `stripplot` użyto rozrzucenia punktów w pozimie. W tym celu użyto opcji `jitter=0.025`. Wartość przemieszczenia poziomego nie ma znaczenia, jest to jedynie element wizualizacji."
   ]
  },
  {
   "cell_type": "code",
   "execution_count": 12,
   "id": "a1d23a06",
   "metadata": {},
   "outputs": [
    {
     "data": {
      "image/png": "[encoded data removed]",
      "text/plain": [
       "<Figure size 640x480 with 1 Axes>"
      ]
     },
     "metadata": {},
     "output_type": "display_data"
    }
   ],
   "source": [
    "ax = sns.boxplot(data=df,x=\"punkt\",y=\"naftalen\",showfliers = False)\n",
    "sns.stripplot(data=df,x=\"punkt\",y=\"naftalen\",jitter=0.025,edgecolor=\"black\",linewidth=0.5,ax=ax)\n",
    "pass"
   ]
  },
  {
   "cell_type": "markdown",
   "id": "03b43f12",
   "metadata": {},
   "source": [
    "Jak można zauważyć, wizualizacja potwirdziła występowanie obsrwacji odstających w punkcie A. Wystąpienie takiego stanu jest bardzo istotną kwestią i wymagane byłoby jej wyjaśnienie. \n",
    "\n",
    "Niestety obserwacje odstające powodują, że główna część wykresu nie jest zbyt dobrze widoczna. Aby temu zaradzić, można zmienić zakres osi prezentującej steżenie naftalenu. Cel ten można osiągnąć używając następującej funkcji `ax.set_ylim(0,50)` (oś będzie mieć zakres wartości od 0 do 50 jednostek). Poniżej zaprezentowano wykresy przy zmienionym zakresie osi $y$."
   ]
  },
  {
   "cell_type": "code",
   "execution_count": 13,
   "id": "4d209dae",
   "metadata": {},
   "outputs": [
    {
     "data": {
      "image/png": "[encoded data removed]",
      "text/plain": [
       "<Figure size 640x480 with 1 Axes>"
      ]
     },
     "metadata": {},
     "output_type": "display_data"
    }
   ],
   "source": [
    "ax = sns.boxplot(data=df,x=\"punkt\",y=\"naftalen\",showfliers = False)\n",
    "sns.stripplot(data=df,x=\"punkt\",y=\"naftalen\",jitter=0.025,edgecolor=\"black\",linewidth=0.5,ax=ax)\n",
    "ax.set_ylim(0,50) # zmiana zakresu osi y\n",
    "pass"
   ]
  },
  {
   "cell_type": "markdown",
   "id": "eca12486",
   "metadata": {},
   "source": [
    "### Porównanie prób przy użyciu testów statystycznych\n",
    "\n",
    "Testy statystyczne umożliwiają sprawdzenie na podstawie dostępnych danych (prób) różnych hipotez statystycznych. W tym przypadku sprawdzona zostanie hipoteza o równości średnich wartości w obu zbiorowościach. Klasycznym testem służącym do porównania średnich jest test T ([`ttest_ind()`](https://docs.scipy.org/doc/scipy/reference/generated/scipy.stats.ttest_ind.html#scipy.stats.ttest_ind)). Jednak wymaga on spełnienia założenia o tym, że obie próby pochodzą ze zbiorowości o rozkładach normalnych. W przypadku tak małych prób określenie tego może być kłopotliwe.\n",
    "\n",
    "Obecnie najchętniej stosowaną techniką w testowaniu hipotez jest zastosowanie testów perumtacyjnych. Ten rodzaj testu dostępny jest w bibliotece `scipy.stats` jako [`permutation_test`](https://docs.scipy.org/doc/scipy/reference/generated/scipy.stats.permutation_test.html#scipy.stats.permutation_test). Tego typu testy nie wymagają spełnienia żadnych założeń. Jednak należy pamiętać, że w analizowanym tu przypadku próby są niewielkie i wyniki mogą być obarczone dużą niepewnością.\n",
    "\n",
    "Funkcja realizująca test permutacyjny wymaga przekazania trzech argumentów:\n",
    " 1. Dane w postaci krotki zawierającej wektory danych dla każdej z prób\n",
    " 2. Badaną statystykę - tu jest ona przekazana w postaci dodatkowej funkcji o nazwie `statystyka()`. Funkcja ta oblicza wartość różnicy między średnimi.\n",
    " 3. Postać hipotezy alternatywnej (argument `alternative`). Tu przekazana jest hipotez alternatywna `\"two-sided\"` oznacza badanie różnicy między średnimi w obu kierunkach (mniejsze / większe). \n",
    " \n",
    "Jeśli zwrócona przez test wartość `pvalue` jest mała (umownie: poniżej 0,05) to hipotezę zerową mówiącą, że brak jest różnic między średnimi należy odrzucić. Jeśli wartość `pvalue` jest duża (umownie: powyżej 0,05) to brak jest podstaw do odrzucenia hipotezy zerowej i można uznać, że nie ma istotnych różnic między średnimi."
   ]
  },
  {
   "cell_type": "code",
   "execution_count": 14,
   "id": "3ecb0068",
   "metadata": {},
   "outputs": [
    {
     "data": {
      "text/plain": [
       "0.9686"
      ]
     },
     "execution_count": 14,
     "metadata": {},
     "output_type": "execute_result"
    }
   ],
   "source": [
    "def statystyka(a,b):\n",
    "    return st.tmean(a)-st.tmean(b)\n",
    "\n",
    "st.permutation_test((A,B),statystyka,alternative=\"two-sided\").pvalue"
   ]
  },
  {
   "cell_type": "markdown",
   "id": "1dc155ec",
   "metadata": {},
   "source": [
    "Wartość `pvalue` zwrócona przez test permutacyjny dla dwóch średnich jest znacznei większa niż $0,05$. Należy jednak zwrócić uwagę na fakt, że w próbie A najprawdopodobniej znajduje się obserwacja odstająca (silnie wpływająca na średnią) oraz że próby są niewielkie. W przypadku niewielkich prób wpływ losowości na wartości statystyk (np. średniej) jest duży. \n",
    "\n",
    "Reasumując, wynik testu można zinterpretować następująco: na podstawie dostępnych danych nie można stwierdzić, że próby pochodzą ze zbiorowości o różnych średnich. Równie dobrze mogą pochodzić ze zbiorowości o takiej samej średniej. Prawdopodobieństwo, że zaobserwowane różnice między średnimi są czysto losowe wynosi $p=$`pvalue`."
   ]
  },
  {
   "cell_type": "markdown",
   "id": "427c4509",
   "metadata": {},
   "source": [
    "Poniżej przeprowadzono test statystyczny dla dwóch median. Co prawda zwrócona wartość `pvalue` jest znacznie niższa niż w przypadku średnich, jednak w dalszym ciągu należy uznać, że różnica między medianami w próbach może być czysto losowa (prawdopodobieństwo wystąpienia takiej sytuacji to $p$=`pvalue`)."
   ]
  },
  {
   "cell_type": "code",
   "execution_count": 15,
   "id": "f935c187",
   "metadata": {},
   "outputs": [
    {
     "data": {
      "text/plain": [
       "0.1868"
      ]
     },
     "execution_count": 15,
     "metadata": {},
     "output_type": "execute_result"
    }
   ],
   "source": [
    "def statystyka(a,b):\n",
    "    return np.median(a)-np.median(b)\n",
    "\n",
    "st.permutation_test((A,B),statystyka,alternative=\"two-sided\").pvalue"
   ]
  },
  {
   "cell_type": "markdown",
   "id": "ea704f32",
   "metadata": {},
   "source": [
    "### Wnioski\n",
    "\n",
    "Na podstawie powyższej analizy można sformułować następujące wnioski:\n",
    " - Stężenie naftalenu w punkcie A jest niższe niż w punkcie B. Wynika to z niższej mediany oraz wykresów skrzynkowych, w których zakres typowych wartości jest niższy dla punktu A. \n",
    " - W punkcie A zaobserwowano wartości nietypowo wysokie. Fakt ten sposowodał znaczne zawyżenie średniej i wariancji (i odchylenia standardowego).\n",
    " - Przy tej liczbie obserwacji nie udało się potwierdzić testem statystycznym, że próby rzeczywiście pochodzą z rozkładów o różnych średnich lub medianach. W celu rozstrzygnięcia konieczne byłoby posłużenie się próbami o większej liczności."
   ]
  }
 ],
 "metadata": {
  "authors": [
   {
    "name": "Wojciech Artichowicz"
   }
  ],
  "kernelspec": {
   "display_name": "Python 3 (ipykernel)",
   "language": "python",
   "name": "python3"
  },
  "language_info": {
   "codemirror_mode": {
    "name": "ipython",
    "version": 3
   },
   "file_extension": ".py",
   "mimetype": "text/x-python",
   "name": "python",
   "nbconvert_exporter": "python",
   "pygments_lexer": "ipython3",
   "version": "3.10.9"
  },
  "title": "Statystyczna analiza danych - porównanie prób"
 },
 "nbformat": 4,
 "nbformat_minor": 5
}
